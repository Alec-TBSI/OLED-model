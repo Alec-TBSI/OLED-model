{
 "cells": [
  {
   "cell_type": "markdown",
   "metadata": {},
   "source": [
    "# Using simple linear regression to model OLED\n",
    "\n",
    "In this model, we are going to make a simple linear model based on the data that we see on features.\n",
    "First, we import some libraries that we are using."
   ]
  },
  {
   "cell_type": "code",
   "execution_count": 1,
   "metadata": {
    "collapsed": true
   },
   "outputs": [],
   "source": [
    "import pandas as pd\n",
    "import numpy as np\n",
    "import matplotlib.pylab as plt\n",
    "from sklearn.linear_model import LinearRegression\n",
    "from sklearn import preprocessing\n",
    "from sklearn.model_selection import train_test_split, cross_val_score\n",
    "%matplotlib inline"
   ]
  },
  {
   "cell_type": "code",
   "execution_count": 2,
   "metadata": {
    "collapsed": false
   },
   "outputs": [],
   "source": [
    "# Read the data from excel using Pandas and assign features to X and efficiency to y.\n",
    "df = pd.read_excel('C:/Anaconda3/projects/oled/oled.xlsx', sheetname='Sheet3')\n",
    "df = df.fillna(value=0)\n",
    "X = df[list(df.columns)[:-4]]\n",
    "y = df.iloc[:, -1:]"
   ]
  },
  {
   "cell_type": "code",
   "execution_count": 3,
   "metadata": {
    "collapsed": false,
    "scrolled": true
   },
   "outputs": [
    {
     "data": {
      "text/plain": [
       "array([[ -2.23033912e-02,  -4.98413691e-01,   9.21990028e-01,\n",
       "         -4.11721737e-02,   4.51528379e-01,  -4.49345937e-01,\n",
       "          1.18649024e+00,   1.24324381e+00,   6.37022057e-01,\n",
       "         -3.03840315e+00,  -1.14215240e+00,  -1.18600148e-01,\n",
       "          1.66806590e+00,   1.83229014e+00,   6.53047156e-01,\n",
       "          2.60250289e-01,   5.47839737e-02,  -4.00278067e-01,\n",
       "          7.70726145e-02,  -3.71816946e-04,   1.70383325e+00],\n",
       "       [  1.69697789e+00,   1.73119110e+00,  -7.40952194e-01,\n",
       "         -4.11721737e-02,   4.51528379e-01,   6.15038823e-01,\n",
       "         -8.17972226e-01,  -8.19099471e-01,  -4.66391149e-01,\n",
       "         -8.90664957e-01,  -4.82873735e-01,  -5.01818479e-01,\n",
       "         -5.34885743e-01,  -5.40728859e-01,  -4.39117915e-01,\n",
       "          1.60131339e-01,   3.54166816e-01,   8.13064825e-01,\n",
       "          9.69734538e-01,   1.79959402e-01,  -1.71591718e-01],\n",
       "       [ -7.38670590e-01,  -4.46562417e-01,  -7.40952194e-01,\n",
       "         -4.11721737e-02,   3.52549277e-01,   2.21161596e+00,\n",
       "         -8.17972226e-01,  -8.19099471e-01,  -4.66391149e-01,\n",
       "         -1.30945129e-02,   5.36011472e-01,  -5.01818479e-01,\n",
       "         -5.34885743e-01,  -5.40728859e-01,  -4.39117915e-01,\n",
       "          1.60131339e-01,   3.54166816e-01,   8.13064825e-01,\n",
       "          7.70726145e-02,  -1.80703036e-01,  -6.40447960e-01]])"
      ]
     },
     "execution_count": 3,
     "metadata": {},
     "output_type": "execute_result"
    }
   ],
   "source": [
    "# preprocess the data and split the data for training and testing\n",
    "# assign random state for reproducibility\n",
    "X = preprocessing.scale(X)\n",
    "X_train, X_test, y_train, y_test = train_test_split(X, y, random_state=2793)\n",
    "\n",
    "# take a look at the data after scaling\n",
    "X[:3]"
   ]
  },
  {
   "cell_type": "code",
   "execution_count": 4,
   "metadata": {
    "collapsed": false
   },
   "outputs": [
    {
     "name": "stdout",
     "output_type": "stream",
     "text": [
      "R-squared:  0.543393637374\n"
     ]
    }
   ],
   "source": [
    "# Choose linear regression as our regressor from scikit-learn\n",
    "regressor = LinearRegression(fit_intercept=True, normalize=False, copy_X=True, n_jobs=-1)\n",
    "\n",
    "regressor.fit(X_train, y_train)\n",
    "y_predictions = regressor.predict(X_test)\n",
    "\n",
    "# Check how our model is doing\n",
    "print('R-squared: ', regressor.score(X_test, y_test))"
   ]
  },
  {
   "cell_type": "code",
   "execution_count": 5,
   "metadata": {
    "collapsed": false
   },
   "outputs": [
    {
     "name": "stdout",
     "output_type": "stream",
     "text": [
      "regression coefficient =\n",
      " [[   8.49728611  -10.956978      4.99599139   -5.5699197     3.70013692\n",
      "     6.2472705  -110.36286157  102.17253108    4.900462     -1.05192816\n",
      "     3.0277114     4.73882626  139.22601199  -97.95691144  -40.74553938\n",
      "   -10.12284809    9.98639389   10.93481541   -5.98967854    2.40181784\n",
      "   -12.04009896]]\n",
      "regression intercept =  [ 24.86201473]\n"
     ]
    }
   ],
   "source": [
    "# see the coefficient of regression\n",
    "coefficients = regressor.coef_\n",
    "intercept = regressor.intercept_\n",
    "print('regression coefficient =\\n', coefficients)\n",
    "print('regression intercept = ', intercept)\n"
   ]
  },
  {
   "cell_type": "code",
   "execution_count": 6,
   "metadata": {
    "collapsed": false
   },
   "outputs": [
    {
     "data": {
      "image/png": "[encoded data removed]",
      "text/plain": [
       "<matplotlib.figure.Figure at 0x1eac2beec50>"
      ]
     },
     "metadata": {},
     "output_type": "display_data"
    }
   ],
   "source": [
    "# take a look at our model prediction. the best model will be very close to the line in the middle\n",
    "plt.scatter(y_test, y_predictions)\n",
    "plt.plot([0, 100], [-0,100], 'g-', label='true line')\n",
    "plt.xlabel('true efficiency')\n",
    "plt.ylabel('predicted efficiency')\n",
    "plt.title(' comparison ')\n",
    "plt.show()"
   ]
  },
  {
   "cell_type": "code",
   "execution_count": 7,
   "metadata": {
    "collapsed": false
   },
   "outputs": [
    {
     "name": "stdout",
     "output_type": "stream",
     "text": [
      "Predicted: [ 0.399343],  Actual: [0.9]\n",
      "Predicted: [ 24.20575225],  Actual: [27.7]\n",
      "Predicted: [ 5.45149633],  Actual: [5.09]\n",
      "Predicted: [ 13.17867166],  Actual: [5.6]\n",
      "Predicted: [ 14.83458175],  Actual: [9.0]\n",
      "Predicted: [ 3.15536139],  Actual: [4.92]\n",
      "Predicted: [ 15.65813988],  Actual: [2.36]\n",
      "Predicted: [ 14.49800291],  Actual: [10.2]\n",
      "Predicted: [ 33.66498962],  Actual: [14.3]\n",
      "Predicted: [ 76.02498307],  Actual: [55.0]\n",
      "Predicted: [-2.53100512],  Actual: [1.8]\n",
      "Predicted: [ 12.77856885],  Actual: [30.6]\n",
      "Predicted: [ 25.36021162],  Actual: [3.78]\n",
      "Predicted: [ 13.17867166],  Actual: [30.9]\n",
      "Predicted: [ 42.06574408],  Actual: [52.1]\n",
      "Predicted: [ 12.34150787],  Actual: [3.12]\n",
      "Predicted: [ 17.78307186],  Actual: [14.7]\n",
      "Predicted: [ 8.70949768],  Actual: [3.25]\n",
      "Predicted: [ 16.55553122],  Actual: [21.4]\n",
      "Predicted: [ 37.13011275],  Actual: [28.6]\n",
      "Predicted: [ 50.41416063],  Actual: [34.0]\n",
      "Predicted: [ 21.79533559],  Actual: [16.01]\n",
      "Predicted: [ 30.91409532],  Actual: [28.24]\n",
      "Predicted: [ 36.19135884],  Actual: [60.3]\n",
      "Predicted: [ 34.2172437],  Actual: [55.4]\n"
     ]
    }
   ],
   "source": [
    "# print predicted value and actual value to see how far off the prediction\n",
    "y_test = y_test.values.tolist()\n",
    "for i, prediction in enumerate(y_predictions):\n",
    "    print('Predicted: %s,  Actual: %s' % (prediction, y_test[i]))"
   ]
  },
  {
   "cell_type": "markdown",
   "metadata": {},
   "source": [
    "Using the above model, we get ~0.5 for R squared value. This is pretty bad and can see some improvement by some doing changes. We can do feature selection and maybe leaves some features out of the model. Also, the data for this is quite small and perhaps additional data can help improve the model."
   ]
  },
  {
   "cell_type": "code",
   "execution_count": 8,
   "metadata": {
    "collapsed": false,
    "scrolled": true
   },
   "outputs": [
    {
     "name": "stdout",
     "output_type": "stream",
     "text": [
      "R-squared:  0.703256203821\n"
     ]
    },
    {
     "data": {
      "image/png": "[encoded data removed]",
      "text/plain": [
       "<matplotlib.figure.Figure at 0x1eac2b43898>"
      ]
     },
     "metadata": {},
     "output_type": "display_data"
    }
   ],
   "source": [
    "# try to use the data on training data set\n",
    "regressor.fit(X_train, y_train)\n",
    "print('R-squared: ', regressor.score(X_train, y_train))\n",
    "\n",
    "y_predictions = regressor.predict(X_train)\n",
    "plt.scatter(y_train, y_predictions)\n",
    "plt.plot([0, 100], [-0,100], 'g-', label='true line')\n",
    "plt.xlabel('true efficiency')\n",
    "plt.ylabel('predicted efficiency')\n",
    "plt.title(' comparison ')\n",
    "plt.show()"
   ]
  },
  {
   "cell_type": "code",
   "execution_count": 9,
   "metadata": {
    "collapsed": false
   },
   "outputs": [
    {
     "name": "stdout",
     "output_type": "stream",
     "text": [
      "scores:  [ -0.14527296 -30.35778293   0.50382921   0.15597883  -0.26777624]\n",
      "mean score:  -6.0222048176\n"
     ]
    }
   ],
   "source": [
    "# Check the cross validation score for the whole model\n",
    "\n",
    "scores = cross_val_score(regressor, X, y, cv=5)\n",
    "print('scores: ', scores)\n",
    "print('mean score: ', scores.mean())"
   ]
  },
  {
   "cell_type": "markdown",
   "metadata": {},
   "source": [
    "Based on the cross validation score, the model does not do so well on data other than the testing set. This means that linear model is not good for modeling this data. So, next we will look at some non linear approach.   "
   ]
  }
 ],
 "metadata": {
  "kernelspec": {
   "display_name": "Python 3",
   "language": "python",
   "name": "python3"
  },
  "language_info": {
   "codemirror_mode": {
    "name": "ipython",
    "version": 3
   },
   "file_extension": ".py",
   "mimetype": "text/x-python",
   "name": "python",
   "nbconvert_exporter": "python",
   "pygments_lexer": "ipython3",
   "version": "3.6.0"
  }
 },
 "nbformat": 4,
 "nbformat_minor": 2
}
