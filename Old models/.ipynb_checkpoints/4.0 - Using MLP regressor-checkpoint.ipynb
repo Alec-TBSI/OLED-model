{
 "cells": [
  {
   "cell_type": "markdown",
   "metadata": {},
   "source": [
    "# Using MLP regressor\n",
    "\n",
    "this model used multi layer perceptron regressor."
   ]
  },
  {
   "cell_type": "code",
   "execution_count": 1,
   "metadata": {},
   "outputs": [],
   "source": [
    "from sklearn.neural_network import MLPRegressor\n",
    "from sklearn import preprocessing\n",
    "from sklearn.model_selection import train_test_split, cross_val_score\n",
    "import pandas as pd\n",
    "import numpy as np\n",
    "import matplotlib.pylab as plt\n",
    "\n",
    "df = pd.read_excel('C:/Anaconda3/projects/oled/oled.xlsx', sheetname='features')\n",
    "df = df.fillna(value=0)\n",
    "array = df.values\n",
    "X = array[:, :-3].astype(float)\n",
    "y = array[:, -2].astype(float)"
   ]
  },
  {
   "cell_type": "code",
   "execution_count": 2,
   "metadata": {},
   "outputs": [],
   "source": [
    "# preprocessing/scaling data/ standardization\n",
    "X = preprocessing.minmax_scale(X)\n",
    "X_train, X_test, y_train, y_test = train_test_split(X, y, random_state=278)"
   ]
  },
  {
   "cell_type": "code",
   "execution_count": 3,
   "metadata": {},
   "outputs": [
    {
     "name": "stdout",
     "output_type": "stream",
     "text": [
      "R-squared:  0.488222888876\n"
     ]
    }
   ],
   "source": [
    "# choose regression algorithms\n",
    "reg = MLPRegressor(random_state=12, hidden_layer_sizes=200, activation='relu', solver='adam', max_iter=10000)\n",
    "reg.fit(X_train, y_train)\n",
    "\n",
    "# print r squared, scores and coefficient\n",
    "y_predictions = reg.predict(X_test)\n",
    "print('R-squared: ', reg.score(X_test, y_test))"
   ]
  },
  {
   "cell_type": "code",
   "execution_count": 4,
   "metadata": {},
   "outputs": [
    {
     "name": "stdout",
     "output_type": "stream",
     "text": [
      "scores:  [-0.23990304 -0.2722567   0.40115298 -2.13262163]\n",
      "mean score:  -0.560907100346\n"
     ]
    }
   ],
   "source": [
    "scores = cross_val_score(reg, X, y, cv=4)\n",
    "print('scores: ', scores)\n",
    "print('mean score: ', scores.mean())"
   ]
  },
  {
   "cell_type": "code",
   "execution_count": 5,
   "metadata": {},
   "outputs": [
    {
     "data": {
      "image/png": "[encoded data removed]",
      "text/plain": [
       "<matplotlib.figure.Figure at 0x2031276ab00>"
      ]
     },
     "metadata": {},
     "output_type": "display_data"
    }
   ],
   "source": [
    "plt.scatter(y_test, y_predictions)\n",
    "plt.plot([0, 70], [0, 70], 'g-', label='true line')\n",
    "plt.xlabel('true efficiency')\n",
    "plt.ylabel('predicted efficiency')\n",
    "plt.title(' comparison ')\n",
    "plt.show()"
   ]
  },
  {
   "cell_type": "code",
   "execution_count": 6,
   "metadata": {},
   "outputs": [
    {
     "name": "stdout",
     "output_type": "stream",
     "text": [
      "Predicted: 1.91220509562, Actual: 4.92\n",
      "Predicted: 14.9270345916, Actual: 22.4\n",
      "Predicted: 4.20354100836, Actual: 0.9\n",
      "Predicted: 33.8465823089, Actual: 26.3\n",
      "Predicted: 21.9190340192, Actual: 4.6\n",
      "Predicted: 15.9085041821, Actual: 17.7\n",
      "Predicted: 11.6963843019, Actual: 10.0\n",
      "Predicted: 2.4214183295, Actual: 3.95\n",
      "Predicted: 15.4402773695, Actual: 33.2\n",
      "Predicted: 54.5580068769, Actual: 47.3\n",
      "Predicted: 20.5065416945, Actual: 14.3\n",
      "Predicted: 19.0671498433, Actual: 38.1\n",
      "Predicted: 10.2859367756, Actual: 8.7\n",
      "Predicted: 11.2501832902, Actual: 3.78\n",
      "Predicted: 46.8040516638, Actual: 14.6\n",
      "Predicted: 20.0215062521, Actual: 14.4\n",
      "Predicted: 13.7225544677, Actual: 30.6\n",
      "Predicted: 13.9502287301, Actual: 5.3\n",
      "Predicted: 28.9460480035, Actual: 22.5\n",
      "Predicted: 33.8291955249, Actual: 36.3\n",
      "Predicted: -8.92746819398, Actual: 3.38\n",
      "Predicted: 27.7379005289, Actual: 28.6\n",
      "Predicted: 56.5202803824, Actual: 57.6\n",
      "Predicted: 16.8967986824, Actual: 7.4\n",
      "Predicted: 34.9747792211, Actual: 33.6\n",
      "Predicted: 61.1773121282, Actual: 49.8\n",
      "Predicted: 3.22505564457, Actual: 1.87\n",
      "Predicted: 1.55447719262, Actual: 0.47\n",
      "Predicted: 6.36604255218, Actual: 20.0\n",
      "Predicted: 61.8232244739, Actual: 37.8\n"
     ]
    }
   ],
   "source": [
    "# print predicted value and actual value\n",
    "y_test = y_test.tolist()\n",
    "for i, prediction in enumerate(y_predictions):\n",
    "    print('Predicted: %s, Actual: %s' % (prediction, y_test[i]))"
   ]
  }
 ],
 "metadata": {
  "kernelspec": {
   "display_name": "Python [default]",
   "language": "python",
   "name": "python3"
  },
  "language_info": {
   "codemirror_mode": {
    "name": "ipython",
    "version": 3
   },
   "file_extension": ".py",
   "mimetype": "text/x-python",
   "name": "python",
   "nbconvert_exporter": "python",
   "pygments_lexer": "ipython3",
   "version": "3.6.0"
  }
 },
 "nbformat": 4,
 "nbformat_minor": 2
}
