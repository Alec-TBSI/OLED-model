{
 "cells": [
  {
   "cell_type": "markdown",
   "metadata": {},
   "source": [
    "# Adding new features \n",
    "\n",
    "### Energy difference is calculated and used in this model"
   ]
  },
  {
   "cell_type": "code",
   "execution_count": 1,
   "metadata": {
    "collapsed": true
   },
   "outputs": [],
   "source": [
    "import os\n",
    "import matplotlib.pyplot as plt\n",
    "import pandas as pd\n",
    "import numpy as np\n",
    "import seaborn as sns\n",
    "from pandas.tools.plotting import parallel_coordinates\n",
    "plt.style.use('ggplot')\n",
    "%matplotlib inline"
   ]
  },
  {
   "cell_type": "code",
   "execution_count": 2,
   "metadata": {
    "collapsed": false
   },
   "outputs": [
    {
     "name": "stdout",
     "output_type": "stream",
     "text": [
      "(185, 33)\n"
     ]
    },
    {
     "data": {
      "text/html": [
       "<div>\n",
       "<style>\n",
       "    .dataframe thead tr:only-child th {\n",
       "        text-align: right;\n",
       "    }\n",
       "\n",
       "    .dataframe thead th {\n",
       "        text-align: left;\n",
       "    }\n",
       "\n",
       "    .dataframe tbody tr th {\n",
       "        vertical-align: top;\n",
       "    }\n",
       "</style>\n",
       "<table border=\"1\" class=\"dataframe\">\n",
       "  <thead>\n",
       "    <tr style=\"text-align: right;\">\n",
       "      <th></th>\n",
       "      <th>homo1</th>\n",
       "      <th>homo2</th>\n",
       "      <th>homo3</th>\n",
       "      <th>homo4</th>\n",
       "      <th>thick_htl</th>\n",
       "      <th>triplet1</th>\n",
       "      <th>LUMO</th>\n",
       "      <th>HOMO</th>\n",
       "      <th>triplet2</th>\n",
       "      <th>thick</th>\n",
       "      <th>...</th>\n",
       "      <th>h4-dop</th>\n",
       "      <th>dop-l5</th>\n",
       "      <th>eml-l5</th>\n",
       "      <th>l5-l6</th>\n",
       "      <th>l6-wf</th>\n",
       "      <th>t1-t2</th>\n",
       "      <th>t1-td</th>\n",
       "      <th>t2-td</th>\n",
       "      <th>td-t3</th>\n",
       "      <th>cd/A</th>\n",
       "    </tr>\n",
       "  </thead>\n",
       "  <tbody>\n",
       "    <tr>\n",
       "      <th>0</th>\n",
       "      <td>5.2</td>\n",
       "      <td>5.8</td>\n",
       "      <td>5.9</td>\n",
       "      <td>5.9</td>\n",
       "      <td>30</td>\n",
       "      <td>3.00</td>\n",
       "      <td>1.09</td>\n",
       "      <td>5.34</td>\n",
       "      <td>2.91</td>\n",
       "      <td>25</td>\n",
       "      <td>...</td>\n",
       "      <td>-0.39</td>\n",
       "      <td>0.29</td>\n",
       "      <td>1.41</td>\n",
       "      <td>0.3</td>\n",
       "      <td>0.70</td>\n",
       "      <td>0.09</td>\n",
       "      <td>0.42</td>\n",
       "      <td>0.33</td>\n",
       "      <td>-0.78</td>\n",
       "      <td>28.24</td>\n",
       "    </tr>\n",
       "    <tr>\n",
       "      <th>1</th>\n",
       "      <td>9.5</td>\n",
       "      <td>5.8</td>\n",
       "      <td>5.8</td>\n",
       "      <td>5.8</td>\n",
       "      <td>40</td>\n",
       "      <td>2.87</td>\n",
       "      <td>2.02</td>\n",
       "      <td>5.56</td>\n",
       "      <td>2.84</td>\n",
       "      <td>20</td>\n",
       "      <td>...</td>\n",
       "      <td>0.14</td>\n",
       "      <td>-0.27</td>\n",
       "      <td>0.71</td>\n",
       "      <td>0.0</td>\n",
       "      <td>1.57</td>\n",
       "      <td>0.03</td>\n",
       "      <td>0.17</td>\n",
       "      <td>0.14</td>\n",
       "      <td>-0.05</td>\n",
       "      <td>40.80</td>\n",
       "    </tr>\n",
       "    <tr>\n",
       "      <th>2</th>\n",
       "      <td>5.3</td>\n",
       "      <td>5.6</td>\n",
       "      <td>5.6</td>\n",
       "      <td>5.6</td>\n",
       "      <td>70</td>\n",
       "      <td>2.87</td>\n",
       "      <td>2.40</td>\n",
       "      <td>5.90</td>\n",
       "      <td>3.00</td>\n",
       "      <td>20</td>\n",
       "      <td>...</td>\n",
       "      <td>-0.20</td>\n",
       "      <td>-0.27</td>\n",
       "      <td>0.33</td>\n",
       "      <td>0.0</td>\n",
       "      <td>0.77</td>\n",
       "      <td>-0.13</td>\n",
       "      <td>0.17</td>\n",
       "      <td>0.30</td>\n",
       "      <td>-0.05</td>\n",
       "      <td>26.30</td>\n",
       "    </tr>\n",
       "    <tr>\n",
       "      <th>3</th>\n",
       "      <td>5.2</td>\n",
       "      <td>5.2</td>\n",
       "      <td>5.2</td>\n",
       "      <td>5.2</td>\n",
       "      <td>0</td>\n",
       "      <td>0.00</td>\n",
       "      <td>2.70</td>\n",
       "      <td>5.71</td>\n",
       "      <td>NaN</td>\n",
       "      <td>50</td>\n",
       "      <td>...</td>\n",
       "      <td>0.49</td>\n",
       "      <td>1.60</td>\n",
       "      <td>1.50</td>\n",
       "      <td>0.0</td>\n",
       "      <td>0.00</td>\n",
       "      <td>0.00</td>\n",
       "      <td>0.00</td>\n",
       "      <td>0.00</td>\n",
       "      <td>0.00</td>\n",
       "      <td>3.38</td>\n",
       "    </tr>\n",
       "    <tr>\n",
       "      <th>4</th>\n",
       "      <td>5.2</td>\n",
       "      <td>5.8</td>\n",
       "      <td>5.8</td>\n",
       "      <td>5.8</td>\n",
       "      <td>5</td>\n",
       "      <td>2.60</td>\n",
       "      <td>2.02</td>\n",
       "      <td>5.35</td>\n",
       "      <td>2.60</td>\n",
       "      <td>30</td>\n",
       "      <td>...</td>\n",
       "      <td>-5.35</td>\n",
       "      <td>2.80</td>\n",
       "      <td>0.78</td>\n",
       "      <td>0.0</td>\n",
       "      <td>0.70</td>\n",
       "      <td>0.00</td>\n",
       "      <td>2.60</td>\n",
       "      <td>2.60</td>\n",
       "      <td>-2.60</td>\n",
       "      <td>1.00</td>\n",
       "    </tr>\n",
       "  </tbody>\n",
       "</table>\n",
       "<p>5 rows × 33 columns</p>\n",
       "</div>"
      ],
      "text/plain": [
       "   homo1  homo2  homo3  homo4  thick_htl  triplet1  LUMO  HOMO  triplet2  \\\n",
       "0    5.2    5.8    5.9    5.9         30      3.00  1.09  5.34      2.91   \n",
       "1    9.5    5.8    5.8    5.8         40      2.87  2.02  5.56      2.84   \n",
       "2    5.3    5.6    5.6    5.6         70      2.87  2.40  5.90      3.00   \n",
       "3    5.2    5.2    5.2    5.2          0      0.00  2.70  5.71       NaN   \n",
       "4    5.2    5.8    5.8    5.8          5      2.60  2.02  5.35      2.60   \n",
       "\n",
       "   thick  ...    h4-dop  dop-l5  eml-l5  l5-l6  l6-wf  t1-t2  t1-td  t2-td  \\\n",
       "0     25  ...     -0.39    0.29    1.41    0.3   0.70   0.09   0.42   0.33   \n",
       "1     20  ...      0.14   -0.27    0.71    0.0   1.57   0.03   0.17   0.14   \n",
       "2     20  ...     -0.20   -0.27    0.33    0.0   0.77  -0.13   0.17   0.30   \n",
       "3     50  ...      0.49    1.60    1.50    0.0   0.00   0.00   0.00   0.00   \n",
       "4     30  ...     -5.35    2.80    0.78    0.0   0.70   0.00   2.60   2.60   \n",
       "\n",
       "   td-t3   cd/A  \n",
       "0  -0.78  28.24  \n",
       "1  -0.05  40.80  \n",
       "2  -0.05  26.30  \n",
       "3   0.00   3.38  \n",
       "4  -2.60   1.00  \n",
       "\n",
       "[5 rows x 33 columns]"
      ]
     },
     "execution_count": 2,
     "metadata": {},
     "output_type": "execute_result"
    }
   ],
   "source": [
    "# read excel file\n",
    "df = pd.read_excel('C:/Anaconda3/projects/oled/oled.xlsx', sheetname='es_difference')\n",
    "print(df.shape)\n",
    "df.head()"
   ]
  },
  {
   "cell_type": "code",
   "execution_count": 3,
   "metadata": {
    "collapsed": false
   },
   "outputs": [
    {
     "data": {
      "text/plain": [
       "triplet2         18\n",
       "tripletdopant    27\n",
       "triplet3          1\n",
       "dtype: int64"
      ]
     },
     "execution_count": 3,
     "metadata": {},
     "output_type": "execute_result"
    }
   ],
   "source": [
    "#Checking for missing data\n",
    "NAs = df.isnull().sum()\n",
    "NAs.sort_values(0, ascending=False)\n",
    "NAs[NAs > 0]"
   ]
  },
  {
   "cell_type": "code",
   "execution_count": 5,
   "metadata": {
    "collapsed": false
   },
   "outputs": [
    {
     "name": "stdout",
     "output_type": "stream",
     "text": [
      "(143, 33)\n"
     ]
    },
    {
     "data": {
      "text/plain": [
       "143"
      ]
     },
     "execution_count": 5,
     "metadata": {},
     "output_type": "execute_result"
    }
   ],
   "source": [
    "df = df.dropna(axis=0)\n",
    "print(df.shape)\n",
    "df.shape[0]"
   ]
  },
  {
   "cell_type": "code",
   "execution_count": 10,
   "metadata": {
    "collapsed": false
   },
   "outputs": [
    {
     "name": "stdout",
     "output_type": "stream",
     "text": [
      "(143, 14)\n"
     ]
    },
    {
     "data": {
      "text/html": [
       "<div>\n",
       "<style>\n",
       "    .dataframe thead tr:only-child th {\n",
       "        text-align: right;\n",
       "    }\n",
       "\n",
       "    .dataframe thead th {\n",
       "        text-align: left;\n",
       "    }\n",
       "\n",
       "    .dataframe tbody tr th {\n",
       "        vertical-align: top;\n",
       "    }\n",
       "</style>\n",
       "<table border=\"1\" class=\"dataframe\">\n",
       "  <thead>\n",
       "    <tr style=\"text-align: right;\">\n",
       "      <th></th>\n",
       "      <th>h1-h2</th>\n",
       "      <th>h2-h3</th>\n",
       "      <th>h3-h4</th>\n",
       "      <th>h4-eml</th>\n",
       "      <th>h4-dop</th>\n",
       "      <th>dop-l5</th>\n",
       "      <th>eml-l5</th>\n",
       "      <th>l5-l6</th>\n",
       "      <th>l6-wf</th>\n",
       "      <th>t1-t2</th>\n",
       "      <th>t1-td</th>\n",
       "      <th>t2-td</th>\n",
       "      <th>td-t3</th>\n",
       "      <th>cd/A</th>\n",
       "    </tr>\n",
       "  </thead>\n",
       "  <tbody>\n",
       "    <tr>\n",
       "      <th>0</th>\n",
       "      <td>0.6</td>\n",
       "      <td>0.1</td>\n",
       "      <td>0.0</td>\n",
       "      <td>-0.56</td>\n",
       "      <td>-0.39</td>\n",
       "      <td>0.29</td>\n",
       "      <td>1.41</td>\n",
       "      <td>0.3</td>\n",
       "      <td>0.70</td>\n",
       "      <td>0.09</td>\n",
       "      <td>0.42</td>\n",
       "      <td>0.33</td>\n",
       "      <td>-0.78</td>\n",
       "      <td>28.24</td>\n",
       "    </tr>\n",
       "    <tr>\n",
       "      <th>1</th>\n",
       "      <td>-3.7</td>\n",
       "      <td>0.0</td>\n",
       "      <td>0.0</td>\n",
       "      <td>-0.24</td>\n",
       "      <td>0.14</td>\n",
       "      <td>-0.27</td>\n",
       "      <td>0.71</td>\n",
       "      <td>0.0</td>\n",
       "      <td>1.57</td>\n",
       "      <td>0.03</td>\n",
       "      <td>0.17</td>\n",
       "      <td>0.14</td>\n",
       "      <td>-0.05</td>\n",
       "      <td>40.80</td>\n",
       "    </tr>\n",
       "    <tr>\n",
       "      <th>2</th>\n",
       "      <td>0.3</td>\n",
       "      <td>0.0</td>\n",
       "      <td>0.0</td>\n",
       "      <td>0.30</td>\n",
       "      <td>-0.20</td>\n",
       "      <td>-0.27</td>\n",
       "      <td>0.33</td>\n",
       "      <td>0.0</td>\n",
       "      <td>0.77</td>\n",
       "      <td>-0.13</td>\n",
       "      <td>0.17</td>\n",
       "      <td>0.30</td>\n",
       "      <td>-0.05</td>\n",
       "      <td>26.30</td>\n",
       "    </tr>\n",
       "    <tr>\n",
       "      <th>4</th>\n",
       "      <td>0.6</td>\n",
       "      <td>0.0</td>\n",
       "      <td>0.0</td>\n",
       "      <td>-0.45</td>\n",
       "      <td>-5.35</td>\n",
       "      <td>2.80</td>\n",
       "      <td>0.78</td>\n",
       "      <td>0.0</td>\n",
       "      <td>0.70</td>\n",
       "      <td>0.00</td>\n",
       "      <td>2.60</td>\n",
       "      <td>2.60</td>\n",
       "      <td>-2.60</td>\n",
       "      <td>1.00</td>\n",
       "    </tr>\n",
       "    <tr>\n",
       "      <th>9</th>\n",
       "      <td>-4.0</td>\n",
       "      <td>0.0</td>\n",
       "      <td>0.0</td>\n",
       "      <td>0.40</td>\n",
       "      <td>-1.10</td>\n",
       "      <td>0.53</td>\n",
       "      <td>0.18</td>\n",
       "      <td>0.0</td>\n",
       "      <td>1.57</td>\n",
       "      <td>0.07</td>\n",
       "      <td>0.28</td>\n",
       "      <td>0.21</td>\n",
       "      <td>-0.16</td>\n",
       "      <td>60.30</td>\n",
       "    </tr>\n",
       "  </tbody>\n",
       "</table>\n",
       "</div>"
      ],
      "text/plain": [
       "   h1-h2  h2-h3  h3-h4  h4-eml  h4-dop  dop-l5  eml-l5  l5-l6  l6-wf  t1-t2  \\\n",
       "0    0.6    0.1    0.0   -0.56   -0.39    0.29    1.41    0.3   0.70   0.09   \n",
       "1   -3.7    0.0    0.0   -0.24    0.14   -0.27    0.71    0.0   1.57   0.03   \n",
       "2    0.3    0.0    0.0    0.30   -0.20   -0.27    0.33    0.0   0.77  -0.13   \n",
       "4    0.6    0.0    0.0   -0.45   -5.35    2.80    0.78    0.0   0.70   0.00   \n",
       "9   -4.0    0.0    0.0    0.40   -1.10    0.53    0.18    0.0   1.57   0.07   \n",
       "\n",
       "   t1-td  t2-td  td-t3   cd/A  \n",
       "0   0.42   0.33  -0.78  28.24  \n",
       "1   0.17   0.14  -0.05  40.80  \n",
       "2   0.17   0.30  -0.05  26.30  \n",
       "4   2.60   2.60  -2.60   1.00  \n",
       "9   0.28   0.21  -0.16  60.30  "
      ]
     },
     "execution_count": 10,
     "metadata": {},
     "output_type": "execute_result"
    }
   ],
   "source": [
    "df = df[list(df.columns)[19:]]\n",
    "print(df.shape)\n",
    "df.head()"
   ]
  },
  {
   "cell_type": "code",
   "execution_count": 11,
   "metadata": {
    "collapsed": false
   },
   "outputs": [
    {
     "data": {
      "text/plain": [
       "h1-h2     float64\n",
       "h2-h3     float64\n",
       "h3-h4     float64\n",
       "h4-eml    float64\n",
       "h4-dop    float64\n",
       "dop-l5    float64\n",
       "eml-l5    float64\n",
       "l5-l6     float64\n",
       "l6-wf     float64\n",
       "t1-t2     float64\n",
       "t1-td     float64\n",
       "t2-td     float64\n",
       "td-t3     float64\n",
       "cd/A      float64\n",
       "dtype: object"
      ]
     },
     "execution_count": 11,
     "metadata": {},
     "output_type": "execute_result"
    }
   ],
   "source": [
    "df.dtypes"
   ]
  },
  {
   "cell_type": "code",
   "execution_count": 12,
   "metadata": {
    "collapsed": false
   },
   "outputs": [
    {
     "data": {
      "image/png": "[encoded data removed]",
      "text/plain": [
       "<matplotlib.figure.Figure at 0x255843f13c8>"
      ]
     },
     "metadata": {},
     "output_type": "display_data"
    }
   ],
   "source": [
    "plt.rcParams['figure.figsize'] = (18.0, 18.0)\n",
    "graph = df[list(df.columns)[:]]\n",
    "graph.hist();"
   ]
  },
  {
   "cell_type": "code",
   "execution_count": 13,
   "metadata": {
    "collapsed": false
   },
   "outputs": [
    {
     "data": {
      "image/png": "[encoded data removed]",
      "text/plain": [
       "<matplotlib.figure.Figure at 0x255836d8160>"
      ]
     },
     "metadata": {},
     "output_type": "display_data"
    },
    {
     "name": "stdout",
     "output_type": "stream",
     "text": [
      "List the features in descending order of their correlation with cd/A:\n",
      "\n",
      "h4-eml:   0.29752047029987727\n",
      "t2-td:   -0.2934866608124896\n",
      "dop-l5:   -0.23562980743347117\n",
      "h4-dop:   0.2279970120981504\n",
      "t1-td:   -0.1747552687593978\n",
      "td-t3:   0.16978108993374227\n",
      "l6-wf:   0.16042546526790674\n",
      "l5-l6:   -0.15427337187532275\n",
      "t1-t2:   0.11750928413770925\n",
      "h3-h4:   -0.1145030959789374\n",
      "h2-h3:   0.07803865451341323\n",
      "h1-h2:   0.026437420302139407\n",
      "eml-l5:   -0.013712046279923576\n"
     ]
    }
   ],
   "source": [
    "X = df[list(df.columns)[:]]\n",
    "corr = X.select_dtypes(include = ['float64', 'int64']).iloc[:, :].corr()\n",
    "plt.figure(figsize=(15, 15))\n",
    "sns.heatmap(corr, vmax=1, square=True, cmap=\"YlGnBu\",linecolor='black', annot=False)\n",
    "plt.yticks(rotation=0)\n",
    "plt.xticks(rotation=90)\n",
    "plt.show()\n",
    "\n",
    "cor_dict = corr['cd/A'].to_dict()\n",
    "del cor_dict['cd/A']\n",
    "print(\"List the features in descending order of their correlation with cd/A:\\n\")\n",
    "for ele in sorted(cor_dict.items(), key=lambda x: -abs(x[1])):\n",
    "    print(\"{0}:   {1}\".format(*ele))"
   ]
  },
  {
   "cell_type": "code",
   "execution_count": 14,
   "metadata": {
    "collapsed": false
   },
   "outputs": [
    {
     "data": {
      "text/html": [
       "<div>\n",
       "<style>\n",
       "    .dataframe thead tr:only-child th {\n",
       "        text-align: right;\n",
       "    }\n",
       "\n",
       "    .dataframe thead th {\n",
       "        text-align: left;\n",
       "    }\n",
       "\n",
       "    .dataframe tbody tr th {\n",
       "        vertical-align: top;\n",
       "    }\n",
       "</style>\n",
       "<table border=\"1\" class=\"dataframe\">\n",
       "  <thead>\n",
       "    <tr style=\"text-align: right;\">\n",
       "      <th></th>\n",
       "      <th>h1-h2</th>\n",
       "      <th>h2-h3</th>\n",
       "      <th>h3-h4</th>\n",
       "      <th>h4-eml</th>\n",
       "      <th>h4-dop</th>\n",
       "      <th>dop-l5</th>\n",
       "      <th>eml-l5</th>\n",
       "      <th>l5-l6</th>\n",
       "      <th>l6-wf</th>\n",
       "      <th>t1-t2</th>\n",
       "      <th>t1-td</th>\n",
       "      <th>t2-td</th>\n",
       "      <th>td-t3</th>\n",
       "      <th>cd/A</th>\n",
       "    </tr>\n",
       "  </thead>\n",
       "  <tbody>\n",
       "    <tr>\n",
       "      <th>count</th>\n",
       "      <td>143.000000</td>\n",
       "      <td>143.000000</td>\n",
       "      <td>143.000000</td>\n",
       "      <td>143.000000</td>\n",
       "      <td>143.000000</td>\n",
       "      <td>143.000000</td>\n",
       "      <td>143.000000</td>\n",
       "      <td>143.000000</td>\n",
       "      <td>143.000000</td>\n",
       "      <td>143.000000</td>\n",
       "      <td>143.000000</td>\n",
       "      <td>143.000000</td>\n",
       "      <td>143.000000</td>\n",
       "      <td>143.000000</td>\n",
       "    </tr>\n",
       "    <tr>\n",
       "      <th>mean</th>\n",
       "      <td>-0.484336</td>\n",
       "      <td>0.158462</td>\n",
       "      <td>0.007343</td>\n",
       "      <td>0.131888</td>\n",
       "      <td>-1.753217</td>\n",
       "      <td>0.569790</td>\n",
       "      <td>0.262517</td>\n",
       "      <td>0.072238</td>\n",
       "      <td>0.913357</td>\n",
       "      <td>-0.163566</td>\n",
       "      <td>0.707692</td>\n",
       "      <td>0.871259</td>\n",
       "      <td>-0.788252</td>\n",
       "      <td>24.663656</td>\n",
       "    </tr>\n",
       "    <tr>\n",
       "      <th>std</th>\n",
       "      <td>1.732212</td>\n",
       "      <td>0.626536</td>\n",
       "      <td>0.049999</td>\n",
       "      <td>0.920903</td>\n",
       "      <td>2.389498</td>\n",
       "      <td>1.363279</td>\n",
       "      <td>0.517424</td>\n",
       "      <td>0.138266</td>\n",
       "      <td>0.444078</td>\n",
       "      <td>0.786173</td>\n",
       "      <td>1.474830</td>\n",
       "      <td>1.192957</td>\n",
       "      <td>1.208823</td>\n",
       "      <td>15.437201</td>\n",
       "    </tr>\n",
       "    <tr>\n",
       "      <th>min</th>\n",
       "      <td>-4.300000</td>\n",
       "      <td>-4.600000</td>\n",
       "      <td>-0.200000</td>\n",
       "      <td>-4.600000</td>\n",
       "      <td>-6.200000</td>\n",
       "      <td>-1.040000</td>\n",
       "      <td>-0.940000</td>\n",
       "      <td>-0.070000</td>\n",
       "      <td>-0.530000</td>\n",
       "      <td>-3.020000</td>\n",
       "      <td>-2.840000</td>\n",
       "      <td>-0.350000</td>\n",
       "      <td>-3.360000</td>\n",
       "      <td>0.000000</td>\n",
       "    </tr>\n",
       "    <tr>\n",
       "      <th>25%</th>\n",
       "      <td>0.000000</td>\n",
       "      <td>0.000000</td>\n",
       "      <td>0.000000</td>\n",
       "      <td>-0.065000</td>\n",
       "      <td>-4.910000</td>\n",
       "      <td>-0.300000</td>\n",
       "      <td>0.000000</td>\n",
       "      <td>0.000000</td>\n",
       "      <td>0.700000</td>\n",
       "      <td>-0.030000</td>\n",
       "      <td>0.170000</td>\n",
       "      <td>0.100000</td>\n",
       "      <td>-0.780000</td>\n",
       "      <td>12.000000</td>\n",
       "    </tr>\n",
       "    <tr>\n",
       "      <th>50%</th>\n",
       "      <td>0.200000</td>\n",
       "      <td>0.000000</td>\n",
       "      <td>0.000000</td>\n",
       "      <td>0.140000</td>\n",
       "      <td>-0.450000</td>\n",
       "      <td>-0.230000</td>\n",
       "      <td>0.200000</td>\n",
       "      <td>0.000000</td>\n",
       "      <td>0.770000</td>\n",
       "      <td>0.010000</td>\n",
       "      <td>0.280000</td>\n",
       "      <td>0.260000</td>\n",
       "      <td>-0.210000</td>\n",
       "      <td>22.500000</td>\n",
       "    </tr>\n",
       "    <tr>\n",
       "      <th>75%</th>\n",
       "      <td>0.300000</td>\n",
       "      <td>0.450000</td>\n",
       "      <td>0.000000</td>\n",
       "      <td>0.490000</td>\n",
       "      <td>-0.090000</td>\n",
       "      <td>2.500000</td>\n",
       "      <td>0.495000</td>\n",
       "      <td>0.000000</td>\n",
       "      <td>1.150000</td>\n",
       "      <td>0.115000</td>\n",
       "      <td>0.440000</td>\n",
       "      <td>2.615000</td>\n",
       "      <td>-0.050000</td>\n",
       "      <td>33.200000</td>\n",
       "    </tr>\n",
       "    <tr>\n",
       "      <th>max</th>\n",
       "      <td>1.560000</td>\n",
       "      <td>0.700000</td>\n",
       "      <td>0.200000</td>\n",
       "      <td>2.330000</td>\n",
       "      <td>0.600000</td>\n",
       "      <td>3.500000</td>\n",
       "      <td>2.280000</td>\n",
       "      <td>0.500000</td>\n",
       "      <td>1.760000</td>\n",
       "      <td>0.400000</td>\n",
       "      <td>3.000000</td>\n",
       "      <td>3.100000</td>\n",
       "      <td>2.700000</td>\n",
       "      <td>65.307692</td>\n",
       "    </tr>\n",
       "  </tbody>\n",
       "</table>\n",
       "</div>"
      ],
      "text/plain": [
       "            h1-h2       h2-h3       h3-h4      h4-eml      h4-dop      dop-l5  \\\n",
       "count  143.000000  143.000000  143.000000  143.000000  143.000000  143.000000   \n",
       "mean    -0.484336    0.158462    0.007343    0.131888   -1.753217    0.569790   \n",
       "std      1.732212    0.626536    0.049999    0.920903    2.389498    1.363279   \n",
       "min     -4.300000   -4.600000   -0.200000   -4.600000   -6.200000   -1.040000   \n",
       "25%      0.000000    0.000000    0.000000   -0.065000   -4.910000   -0.300000   \n",
       "50%      0.200000    0.000000    0.000000    0.140000   -0.450000   -0.230000   \n",
       "75%      0.300000    0.450000    0.000000    0.490000   -0.090000    2.500000   \n",
       "max      1.560000    0.700000    0.200000    2.330000    0.600000    3.500000   \n",
       "\n",
       "           eml-l5       l5-l6       l6-wf       t1-t2       t1-td       t2-td  \\\n",
       "count  143.000000  143.000000  143.000000  143.000000  143.000000  143.000000   \n",
       "mean     0.262517    0.072238    0.913357   -0.163566    0.707692    0.871259   \n",
       "std      0.517424    0.138266    0.444078    0.786173    1.474830    1.192957   \n",
       "min     -0.940000   -0.070000   -0.530000   -3.020000   -2.840000   -0.350000   \n",
       "25%      0.000000    0.000000    0.700000   -0.030000    0.170000    0.100000   \n",
       "50%      0.200000    0.000000    0.770000    0.010000    0.280000    0.260000   \n",
       "75%      0.495000    0.000000    1.150000    0.115000    0.440000    2.615000   \n",
       "max      2.280000    0.500000    1.760000    0.400000    3.000000    3.100000   \n",
       "\n",
       "            td-t3        cd/A  \n",
       "count  143.000000  143.000000  \n",
       "mean    -0.788252   24.663656  \n",
       "std      1.208823   15.437201  \n",
       "min     -3.360000    0.000000  \n",
       "25%     -0.780000   12.000000  \n",
       "50%     -0.210000   22.500000  \n",
       "75%     -0.050000   33.200000  \n",
       "max      2.700000   65.307692  "
      ]
     },
     "execution_count": 14,
     "metadata": {},
     "output_type": "execute_result"
    }
   ],
   "source": [
    "df.describe()"
   ]
  },
  {
   "cell_type": "code",
   "execution_count": 15,
   "metadata": {
    "collapsed": false
   },
   "outputs": [
    {
     "name": "stdout",
     "output_type": "stream",
     "text": [
      "(143, 13)\n"
     ]
    },
    {
     "data": {
      "text/html": [
       "<div>\n",
       "<style>\n",
       "    .dataframe thead tr:only-child th {\n",
       "        text-align: right;\n",
       "    }\n",
       "\n",
       "    .dataframe thead th {\n",
       "        text-align: left;\n",
       "    }\n",
       "\n",
       "    .dataframe tbody tr th {\n",
       "        vertical-align: top;\n",
       "    }\n",
       "</style>\n",
       "<table border=\"1\" class=\"dataframe\">\n",
       "  <thead>\n",
       "    <tr style=\"text-align: right;\">\n",
       "      <th></th>\n",
       "      <th>h1-h2</th>\n",
       "      <th>h2-h3</th>\n",
       "      <th>h3-h4</th>\n",
       "      <th>h4-eml</th>\n",
       "      <th>h4-dop</th>\n",
       "      <th>dop-l5</th>\n",
       "      <th>eml-l5</th>\n",
       "      <th>l5-l6</th>\n",
       "      <th>l6-wf</th>\n",
       "      <th>t1-t2</th>\n",
       "      <th>t1-td</th>\n",
       "      <th>t2-td</th>\n",
       "      <th>td-t3</th>\n",
       "    </tr>\n",
       "  </thead>\n",
       "  <tbody>\n",
       "    <tr>\n",
       "      <th>0</th>\n",
       "      <td>0.6</td>\n",
       "      <td>0.1</td>\n",
       "      <td>0.0</td>\n",
       "      <td>-0.56</td>\n",
       "      <td>-0.39</td>\n",
       "      <td>0.29</td>\n",
       "      <td>1.41</td>\n",
       "      <td>0.3</td>\n",
       "      <td>0.70</td>\n",
       "      <td>0.09</td>\n",
       "      <td>0.42</td>\n",
       "      <td>0.33</td>\n",
       "      <td>-0.78</td>\n",
       "    </tr>\n",
       "    <tr>\n",
       "      <th>1</th>\n",
       "      <td>-3.7</td>\n",
       "      <td>0.0</td>\n",
       "      <td>0.0</td>\n",
       "      <td>-0.24</td>\n",
       "      <td>0.14</td>\n",
       "      <td>-0.27</td>\n",
       "      <td>0.71</td>\n",
       "      <td>0.0</td>\n",
       "      <td>1.57</td>\n",
       "      <td>0.03</td>\n",
       "      <td>0.17</td>\n",
       "      <td>0.14</td>\n",
       "      <td>-0.05</td>\n",
       "    </tr>\n",
       "    <tr>\n",
       "      <th>2</th>\n",
       "      <td>0.3</td>\n",
       "      <td>0.0</td>\n",
       "      <td>0.0</td>\n",
       "      <td>0.30</td>\n",
       "      <td>-0.20</td>\n",
       "      <td>-0.27</td>\n",
       "      <td>0.33</td>\n",
       "      <td>0.0</td>\n",
       "      <td>0.77</td>\n",
       "      <td>-0.13</td>\n",
       "      <td>0.17</td>\n",
       "      <td>0.30</td>\n",
       "      <td>-0.05</td>\n",
       "    </tr>\n",
       "    <tr>\n",
       "      <th>4</th>\n",
       "      <td>0.6</td>\n",
       "      <td>0.0</td>\n",
       "      <td>0.0</td>\n",
       "      <td>-0.45</td>\n",
       "      <td>-5.35</td>\n",
       "      <td>2.80</td>\n",
       "      <td>0.78</td>\n",
       "      <td>0.0</td>\n",
       "      <td>0.70</td>\n",
       "      <td>0.00</td>\n",
       "      <td>2.60</td>\n",
       "      <td>2.60</td>\n",
       "      <td>-2.60</td>\n",
       "    </tr>\n",
       "    <tr>\n",
       "      <th>9</th>\n",
       "      <td>-4.0</td>\n",
       "      <td>0.0</td>\n",
       "      <td>0.0</td>\n",
       "      <td>0.40</td>\n",
       "      <td>-1.10</td>\n",
       "      <td>0.53</td>\n",
       "      <td>0.18</td>\n",
       "      <td>0.0</td>\n",
       "      <td>1.57</td>\n",
       "      <td>0.07</td>\n",
       "      <td>0.28</td>\n",
       "      <td>0.21</td>\n",
       "      <td>-0.16</td>\n",
       "    </tr>\n",
       "  </tbody>\n",
       "</table>\n",
       "</div>"
      ],
      "text/plain": [
       "   h1-h2  h2-h3  h3-h4  h4-eml  h4-dop  dop-l5  eml-l5  l5-l6  l6-wf  t1-t2  \\\n",
       "0    0.6    0.1    0.0   -0.56   -0.39    0.29    1.41    0.3   0.70   0.09   \n",
       "1   -3.7    0.0    0.0   -0.24    0.14   -0.27    0.71    0.0   1.57   0.03   \n",
       "2    0.3    0.0    0.0    0.30   -0.20   -0.27    0.33    0.0   0.77  -0.13   \n",
       "4    0.6    0.0    0.0   -0.45   -5.35    2.80    0.78    0.0   0.70   0.00   \n",
       "9   -4.0    0.0    0.0    0.40   -1.10    0.53    0.18    0.0   1.57   0.07   \n",
       "\n",
       "   t1-td  t2-td  td-t3  \n",
       "0   0.42   0.33  -0.78  \n",
       "1   0.17   0.14  -0.05  \n",
       "2   0.17   0.30  -0.05  \n",
       "4   2.60   2.60  -2.60  \n",
       "9   0.28   0.21  -0.16  "
      ]
     },
     "execution_count": 15,
     "metadata": {},
     "output_type": "execute_result"
    }
   ],
   "source": [
    "X = df[list(df.columns)[:-1]]\n",
    "y = df[['cd/A']]\n",
    "print(X.shape)\n",
    "X.head()"
   ]
  },
  {
   "cell_type": "code",
   "execution_count": 16,
   "metadata": {
    "collapsed": false
   },
   "outputs": [
    {
     "name": "stdout",
     "output_type": "stream",
     "text": [
      "R-squared:  0.0945879676086\n",
      "MS Error:  200.78799852\n",
      "scores:  [-0.09348134  0.16118501  0.32335307 -1.1232939   0.13009951]\n",
      "mean score:  -0.120427531139\n"
     ]
    }
   ],
   "source": [
    "from sklearn.linear_model import LinearRegression\n",
    "from sklearn.preprocessing import MinMaxScaler, Normalizer, StandardScaler\n",
    "from sklearn.model_selection import train_test_split, cross_val_score, KFold\n",
    "from sklearn.metrics import mean_squared_error\n",
    "\n",
    "X_train, X_test, y_train, y_test = train_test_split(X, y,test_size=0.25, random_state=7)\n",
    "\n",
    "scaler = Normalizer()\n",
    "scaler.fit(X_train)\n",
    "X_train = scaler.transform(X_train)\n",
    "X_test = scaler.transform(X_test)\n",
    "\n",
    "# Choose linear regression as our regressor from scikit-learn\n",
    "regressor = LinearRegression(fit_intercept=True, copy_X=True, n_jobs=-1)\n",
    "\n",
    "regressor.fit(X_train, y_train)\n",
    "y_predictions = regressor.predict(X_test)\n",
    "\n",
    "# Check how our model is doing\n",
    "print('R-squared: ', regressor.score(X_test, y_test))\n",
    "print('MS Error: ', mean_squared_error(y_test, y_predictions))\n",
    "\n",
    "kfold = KFold(n_splits=5, shuffle=True, random_state=2)\n",
    "scores = cross_val_score(regressor, X, y, cv=kfold)\n",
    "print('scores: ', scores)\n",
    "print('mean score: ', scores.mean())"
   ]
  },
  {
   "cell_type": "code",
   "execution_count": 17,
   "metadata": {
    "collapsed": false,
    "scrolled": false
   },
   "outputs": [
    {
     "data": {
      "image/png": "[encoded data removed]",
      "text/plain": [
       "<matplotlib.figure.Figure at 0x25582a6ccc0>"
      ]
     },
     "metadata": {},
     "output_type": "display_data"
    }
   ],
   "source": [
    "plt.rcParams['figure.figsize'] = (8.0, 8.0)\n",
    "plt.scatter(y_test, y_predictions)\n",
    "plt.plot([0, 60], [-0,60], 'g-', label='true line')\n",
    "plt.xlabel('true efficiency')\n",
    "plt.ylabel('predicted efficiency')\n",
    "plt.title(' Linear regression ')\n",
    "plt.show()"
   ]
  },
  {
   "cell_type": "code",
   "execution_count": 22,
   "metadata": {
    "collapsed": false
   },
   "outputs": [
    {
     "data": {
      "image/png": "[encoded data removed]",
      "text/plain": [
       "<matplotlib.figure.Figure at 0x25584320208>"
      ]
     },
     "metadata": {},
     "output_type": "display_data"
    }
   ],
   "source": [
    "plt.scatter(regressor.predict(X_train), regressor.predict(X_train).reshape(len(X_train))-y_train.values.reshape(len(y_train)), c='indianred', s=40, \n",
    "           label='training')\n",
    "plt.scatter(regressor.predict(X_test), regressor.predict(X_test).reshape(len(X_test))-np.asarray(y_test).reshape(len(y_test)), c='b', s=40,\n",
    "            label ='test')\n",
    "plt.hlines(y=0, xmin=-10, xmax=60)\n",
    "plt.title('Residual plot using training and test data')\n",
    "plt.ylabel('Residual')\n",
    "plt.legend(loc=4, frameon=True, title='Legend');"
   ]
  },
  {
   "cell_type": "code",
   "execution_count": 23,
   "metadata": {
    "collapsed": false
   },
   "outputs": [
    {
     "name": "stdout",
     "output_type": "stream",
     "text": [
      "R-squared:  0.720911123528\n",
      "MS Error:  61.8919286592\n",
      "scores:  [ 0.20441489  0.7566845   0.40959991 -0.07189734  0.54510225]\n",
      "mean score:  0.368780842492\n"
     ]
    }
   ],
   "source": [
    "from sklearn.ensemble import RandomForestRegressor\n",
    "\n",
    "regressor = RandomForestRegressor(random_state=2)\n",
    "regressor.fit(X_train, y_train.values.ravel())\n",
    "y_predictions = regressor.predict(X_test)\n",
    "\n",
    "# Check how our model is doing\n",
    "print('R-squared: ', regressor.score(X_test, y_test))\n",
    "print('MS Error: ', mean_squared_error(y_test, y_predictions))\n",
    "\n",
    "scores = cross_val_score(regressor, X, y.values.ravel(), cv=kfold)\n",
    "print('scores: ', scores)\n",
    "print('mean score: ', scores.mean())"
   ]
  },
  {
   "cell_type": "code",
   "execution_count": 24,
   "metadata": {
    "collapsed": false
   },
   "outputs": [
    {
     "data": {
      "image/png": "[encoded data removed]",
      "text/plain": [
       "<matplotlib.figure.Figure at 0x25582539898>"
      ]
     },
     "metadata": {},
     "output_type": "display_data"
    }
   ],
   "source": [
    "plt.rcParams['figure.figsize'] = (8.0, 8.0)\n",
    "plt.scatter(y_test, y_predictions)\n",
    "plt.plot([0, 60], [-0,60], 'g-', label='true line')\n",
    "plt.xlabel('true efficiency')\n",
    "plt.ylabel('predicted efficiency')\n",
    "plt.title(' random forest regression ')\n",
    "plt.show()"
   ]
  },
  {
   "cell_type": "code",
   "execution_count": 25,
   "metadata": {
    "collapsed": false
   },
   "outputs": [
    {
     "name": "stdout",
     "output_type": "stream",
     "text": [
      "        column              importance\n",
      "0       h1-h2               0.26513719931448565\n",
      "1       l6-wf               0.1551708093373559\n",
      "2       td-t3               0.14853788907161447\n",
      "3       dop-l5              0.07845950685129083\n",
      "4       t1-td               0.07550052229355056\n",
      "5       h2-h3               0.0624726457039715\n",
      "6       h4-dop              0.053336389103878265\n",
      "7       eml-l5              0.051492335974284174\n",
      "8       h4-eml              0.04328328817954992\n",
      "9       t2-td               0.033243295514854124\n",
      "10      t1-t2               0.02616596060084475\n",
      "11      l5-l6               0.005188935497167259\n",
      "12      h3-h4               0.002011222557152535\n"
     ]
    }
   ],
   "source": [
    "importance = regressor.feature_importances_.tolist()\n",
    "names = list(X)\n",
    "\n",
    "importance, names = zip(*sorted(zip(importance, names), reverse=True))\n",
    "\n",
    "fmt = '{:<8}{:<20}{}'\n",
    "print(fmt.format('', 'column', 'importance'))\n",
    "for i, (name, coef) in enumerate(zip(names, importance)):\n",
    "    print(fmt.format(i, name, coef))"
   ]
  },
  {
   "cell_type": "code",
   "execution_count": 26,
   "metadata": {
    "collapsed": false
   },
   "outputs": [
    {
     "name": "stdout",
     "output_type": "stream",
     "text": [
      "Feature ranking:\n",
      "1. feature 0 (0.265137)\n",
      "2. feature 8 (0.155171)\n",
      "3. feature 12 (0.148538)\n",
      "4. feature 5 (0.078460)\n",
      "5. feature 10 (0.075501)\n",
      "6. feature 1 (0.062473)\n",
      "7. feature 4 (0.053336)\n",
      "8. feature 6 (0.051492)\n",
      "9. feature 3 (0.043283)\n",
      "10. feature 11 (0.033243)\n",
      "11. feature 9 (0.026166)\n",
      "12. feature 7 (0.005189)\n",
      "13. feature 2 (0.002011)\n"
     ]
    }
   ],
   "source": [
    "importances = regressor.feature_importances_\n",
    "std = np.std([tree.feature_importances_ for tree in regressor.estimators_],\n",
    "             axis=0)\n",
    "indices = np.argsort(importances)[::-1]\n",
    "print(\"Feature ranking:\")\n",
    "\n",
    "for f in range(X.shape[1]):\n",
    "    print(\"%d. feature %d (%f)\" % (f + 1, indices[f], importances[indices[f]]))"
   ]
  },
  {
   "cell_type": "code",
   "execution_count": 28,
   "metadata": {
    "collapsed": false
   },
   "outputs": [
    {
     "data": {
      "image/png": "[encoded data removed]",
      "text/plain": [
       "<matplotlib.figure.Figure at 0x2558236eeb8>"
      ]
     },
     "metadata": {},
     "output_type": "display_data"
    }
   ],
   "source": [
    "x = np.arange(13)\n",
    "plt.bar(x, importance)\n",
    "plt.xticks(x, names, rotation=90);"
   ]
  },
  {
   "cell_type": "code",
   "execution_count": 29,
   "metadata": {
    "collapsed": false
   },
   "outputs": [
    {
     "data": {
      "image/png": "[encoded data removed]",
      "text/plain": [
       "<matplotlib.figure.Figure at 0x255821bef60>"
      ]
     },
     "metadata": {},
     "output_type": "display_data"
    }
   ],
   "source": [
    "plt.scatter(regressor.predict(X_train), regressor.predict(X_train).reshape(len(X_train))-y_train.values.reshape(len(y_train)), c='indianred', s=40, \n",
    "           label='training')\n",
    "plt.scatter(regressor.predict(X_test), regressor.predict(X_test).reshape(len(X_test))-np.asarray(y_test).reshape(len(y_test)), c='b', s=40,\n",
    "            label ='test')\n",
    "plt.hlines(y=0, xmin=-10, xmax=60)\n",
    "plt.title('Residual plot using training and test data')\n",
    "plt.ylabel('Residual')\n",
    "plt.legend(loc=4, frameon=True, title='Legend');"
   ]
  },
  {
   "cell_type": "code",
   "execution_count": 30,
   "metadata": {
    "collapsed": false
   },
   "outputs": [
    {
     "name": "stdout",
     "output_type": "stream",
     "text": [
      "R-squared:  0.352687664483\n",
      "MS Error:  143.550719027\n",
      "scores:  [-2.99039852  0.55987976  0.52751233 -6.10687426  0.14816093]\n",
      "mean score:  -1.57234395491\n"
     ]
    }
   ],
   "source": [
    "from sklearn.neural_network import MLPRegressor\n",
    "# choose regression algorithms\n",
    "regressor = MLPRegressor(random_state=2, hidden_layer_sizes=(13, 5), activation='relu', solver='adam', max_iter=100000)\n",
    "regressor.fit(X_train, y_train.values.ravel())\n",
    "y_predictions = regressor.predict(X_test)\n",
    "\n",
    "# Check how our model is doing\n",
    "print('R-squared: ', regressor.score(X_test, y_test))\n",
    "print('MS Error: ', mean_squared_error(y_test, y_predictions))\n",
    "\n",
    "scores = cross_val_score(regressor, X, y.values.ravel(), cv=kfold)\n",
    "print('scores: ', scores)\n",
    "print('mean score: ', scores.mean())"
   ]
  },
  {
   "cell_type": "code",
   "execution_count": 31,
   "metadata": {
    "collapsed": false
   },
   "outputs": [
    {
     "name": "stdout",
     "output_type": "stream",
     "text": [
      "R-squared:  0.0108808607639\n",
      "MS Error:  219.351240275\n",
      "scores:  [ 0.09823114 -0.13228589  0.11969127 -0.04615598  0.16871411]\n",
      "mean score:  0.041638929772\n"
     ]
    }
   ],
   "source": [
    "from sklearn.svm import SVR\n",
    "\n",
    "regressor = SVR(kernel='rbf')\n",
    "regressor.fit(X_train, y_train.values.ravel())\n",
    "y_predictions = regressor.predict(X_test)\n",
    "\n",
    "# Check how our model is doing\n",
    "print('R-squared: ', regressor.score(X_test, y_test))\n",
    "print('MS Error: ', mean_squared_error(y_test, y_predictions))\n",
    "\n",
    "scores = cross_val_score(regressor, X, y.values.ravel(), cv=kfold)\n",
    "print('scores: ', scores)\n",
    "print('mean score: ', scores.mean())"
   ]
  },
  {
   "cell_type": "code",
   "execution_count": 32,
   "metadata": {
    "collapsed": false,
    "scrolled": true
   },
   "outputs": [],
   "source": [
    "# from tpot import TPOTRegressor\n",
    "\n",
    "# tpot = TPOTRegressor(generations=10, population_size=50, verbosity=2)\n",
    "# tpot.fit(X_train, y_train.values.ravel())\n",
    "# print(tpot.score(X_test, y_test))\n",
    "# tpot.export('tpot_oled_pipeline.py')"
   ]
  },
  {
   "cell_type": "code",
   "execution_count": 33,
   "metadata": {
    "collapsed": false
   },
   "outputs": [
    {
     "name": "stderr",
     "output_type": "stream",
     "text": [
      "C:\\Anaconda3\\lib\\site-packages\\sklearn\\linear_model\\coordinate_descent.py:484: ConvergenceWarning: Objective did not converge. You might want to increase the number of iterations. Fitting data with very small alpha may cause precision problems.\n",
      "  ConvergenceWarning)\n"
     ]
    },
    {
     "name": "stdout",
     "output_type": "stream",
     "text": [
      "R-squared:  0.464619957541\n",
      "MS Error:  219.351240275\n",
      "scores:  [ 0.38177713  0.48156244  0.519037   -0.08651822  0.47237111]\n",
      "mean score:  0.353645894249\n"
     ]
    }
   ],
   "source": [
    "from sklearn.ensemble import ExtraTreesRegressor\n",
    "from sklearn.feature_selection import VarianceThreshold\n",
    "from sklearn.kernel_approximation import RBFSampler\n",
    "from sklearn.linear_model import ElasticNetCV\n",
    "from sklearn.model_selection import train_test_split\n",
    "from sklearn.pipeline import make_pipeline, make_union\n",
    "from sklearn.preprocessing import MinMaxScaler\n",
    "from tpot.builtins import StackingEstimator\n",
    "\n",
    "# # NOTE: Make sure that the class is labeled 'target' in the data file\n",
    "# tpot_data = pd.read_csv('PATH/TO/DATA/FILE', sep='COLUMN_SEPARATOR', dtype=np.float64)\n",
    "# features = tpot_data.drop('target', axis=1).values\n",
    "# training_features, testing_features, training_target, testing_target = \\\n",
    "#             train_test_split(features, tpot_data['target'].values, random_state=42)\n",
    "\n",
    "# Score on the training set was:-153.10421597838354\n",
    "exported_pipeline = make_pipeline(\n",
    "    VarianceThreshold(threshold=0.1),\n",
    "    RBFSampler(gamma=0.75),\n",
    "    MinMaxScaler(),\n",
    "    StackingEstimator(estimator=ElasticNetCV(l1_ratio=0.05, tol=1e-05)),\n",
    "    ExtraTreesRegressor(bootstrap=False, max_features=0.25, min_samples_leaf=2, min_samples_split=19, n_estimators=100)\n",
    ")\n",
    "\n",
    "exported_pipeline.fit(X_train, y_train.values.ravel())\n",
    "y_pred = exported_pipeline.predict(X_test)\n",
    "\n",
    "# Check how our model is doing\n",
    "print('R-squared: ', exported_pipeline.score(X_test, y_test))\n",
    "print('MS Error: ', mean_squared_error(y_test, y_predictions))\n",
    "\n",
    "scores = cross_val_score(exported_pipeline, X, y.values.ravel(), cv=kfold)\n",
    "print('scores: ', scores)\n",
    "print('mean score: ', scores.mean())"
   ]
  },
  {
   "cell_type": "code",
   "execution_count": 36,
   "metadata": {
    "collapsed": false
   },
   "outputs": [
    {
     "data": {
      "image/png": "[encoded data removed]",
      "text/plain": [
       "<matplotlib.figure.Figure at 0x2558347ce48>"
      ]
     },
     "metadata": {},
     "output_type": "display_data"
    }
   ],
   "source": [
    "plt.scatter(regressor.predict(X_train), regressor.predict(X_train).reshape(len(X_train))-y_train.values.reshape(len(y_train)), c='indianred', s=40, \n",
    "           label='training')\n",
    "plt.scatter(regressor.predict(X_test), regressor.predict(X_test).reshape(len(X_test))-np.asarray(y_test).reshape(len(y_test)), c='b', s=40,\n",
    "            label ='test')\n",
    "plt.hlines(y=0, xmin=22, xmax=24)\n",
    "plt.title('Residual plot using training and test data')\n",
    "plt.ylabel('Residual')\n",
    "plt.legend(loc=4, frameon=True, title='Legend');"
   ]
  }
 ],
 "metadata": {
  "kernelspec": {
   "display_name": "Python [default]",
   "language": "python",
   "name": "python3"
  },
  "language_info": {
   "codemirror_mode": {
    "name": "ipython",
    "version": 3
   },
   "file_extension": ".py",
   "mimetype": "text/x-python",
   "name": "python",
   "nbconvert_exporter": "python",
   "pygments_lexer": "ipython3",
   "version": "3.6.0"
  }
 },
 "nbformat": 4,
 "nbformat_minor": 2
}
