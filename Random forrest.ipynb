{
 "cells": [
  {
   "cell_type": "code",
   "execution_count": 1,
   "metadata": {
    "collapsed": false
   },
   "outputs": [
    {
     "data": {
      "text/html": [
       "<div>\n",
       "<table border=\"1\" class=\"dataframe\">\n",
       "  <thead>\n",
       "    <tr style=\"text-align: right;\">\n",
       "      <th></th>\n",
       "      <th>Layers</th>\n",
       "      <th>lumo_1</th>\n",
       "      <th>homo_1</th>\n",
       "      <th>t1</th>\n",
       "      <th>lumo_2</th>\n",
       "      <th>homo_2</th>\n",
       "      <th>t2</th>\n",
       "      <th>lumo_3</th>\n",
       "      <th>homo_3</th>\n",
       "      <th>t3</th>\n",
       "      <th>...</th>\n",
       "      <th>HOMO</th>\n",
       "      <th>triplet2</th>\n",
       "      <th>thick</th>\n",
       "      <th>triplet3</th>\n",
       "      <th>lumo6</th>\n",
       "      <th>homo6</th>\n",
       "      <th>t6</th>\n",
       "      <th>wf_1</th>\n",
       "      <th>t7</th>\n",
       "      <th>t8</th>\n",
       "    </tr>\n",
       "  </thead>\n",
       "  <tbody>\n",
       "    <tr>\n",
       "      <th>0</th>\n",
       "      <td>8</td>\n",
       "      <td>3.3</td>\n",
       "      <td>5.2</td>\n",
       "      <td>60.0</td>\n",
       "      <td>2.0</td>\n",
       "      <td>5.5</td>\n",
       "      <td>20.0</td>\n",
       "      <td>0.0</td>\n",
       "      <td>0.0</td>\n",
       "      <td>0.0</td>\n",
       "      <td>...</td>\n",
       "      <td>6.6</td>\n",
       "      <td>2.8</td>\n",
       "      <td>25</td>\n",
       "      <td>3.36</td>\n",
       "      <td>2.80</td>\n",
       "      <td>6.20</td>\n",
       "      <td>30.0</td>\n",
       "      <td>3.5</td>\n",
       "      <td>1.5</td>\n",
       "      <td>200</td>\n",
       "    </tr>\n",
       "    <tr>\n",
       "      <th>1</th>\n",
       "      <td>8</td>\n",
       "      <td>0.0</td>\n",
       "      <td>0.0</td>\n",
       "      <td>0.0</td>\n",
       "      <td>2.4</td>\n",
       "      <td>5.4</td>\n",
       "      <td>35.0</td>\n",
       "      <td>2.4</td>\n",
       "      <td>5.9</td>\n",
       "      <td>5.0</td>\n",
       "      <td>...</td>\n",
       "      <td>6.6</td>\n",
       "      <td>2.8</td>\n",
       "      <td>20</td>\n",
       "      <td>2.99</td>\n",
       "      <td>2.80</td>\n",
       "      <td>6.20</td>\n",
       "      <td>30.0</td>\n",
       "      <td>3.5</td>\n",
       "      <td>0.8</td>\n",
       "      <td>80</td>\n",
       "    </tr>\n",
       "    <tr>\n",
       "      <th>2</th>\n",
       "      <td>8</td>\n",
       "      <td>3.3</td>\n",
       "      <td>5.2</td>\n",
       "      <td>60.0</td>\n",
       "      <td>2.0</td>\n",
       "      <td>5.5</td>\n",
       "      <td>20.0</td>\n",
       "      <td>0.0</td>\n",
       "      <td>0.0</td>\n",
       "      <td>0.0</td>\n",
       "      <td>...</td>\n",
       "      <td>6.6</td>\n",
       "      <td>2.8</td>\n",
       "      <td>25</td>\n",
       "      <td>3.36</td>\n",
       "      <td>2.80</td>\n",
       "      <td>6.20</td>\n",
       "      <td>30.0</td>\n",
       "      <td>3.5</td>\n",
       "      <td>1.5</td>\n",
       "      <td>200</td>\n",
       "    </tr>\n",
       "    <tr>\n",
       "      <th>3</th>\n",
       "      <td>8</td>\n",
       "      <td>0.0</td>\n",
       "      <td>0.0</td>\n",
       "      <td>0.0</td>\n",
       "      <td>2.4</td>\n",
       "      <td>5.4</td>\n",
       "      <td>35.0</td>\n",
       "      <td>2.4</td>\n",
       "      <td>5.9</td>\n",
       "      <td>5.0</td>\n",
       "      <td>...</td>\n",
       "      <td>6.6</td>\n",
       "      <td>2.8</td>\n",
       "      <td>20</td>\n",
       "      <td>2.99</td>\n",
       "      <td>2.80</td>\n",
       "      <td>6.20</td>\n",
       "      <td>30.0</td>\n",
       "      <td>3.5</td>\n",
       "      <td>0.8</td>\n",
       "      <td>80</td>\n",
       "    </tr>\n",
       "    <tr>\n",
       "      <th>4</th>\n",
       "      <td>7</td>\n",
       "      <td>5.7</td>\n",
       "      <td>9.5</td>\n",
       "      <td>10.0</td>\n",
       "      <td>2.0</td>\n",
       "      <td>5.5</td>\n",
       "      <td>45.0</td>\n",
       "      <td>0.0</td>\n",
       "      <td>0.0</td>\n",
       "      <td>0.0</td>\n",
       "      <td>...</td>\n",
       "      <td>5.9</td>\n",
       "      <td>2.8</td>\n",
       "      <td>20</td>\n",
       "      <td>2.75</td>\n",
       "      <td>2.73</td>\n",
       "      <td>6.68</td>\n",
       "      <td>45.0</td>\n",
       "      <td>4.3</td>\n",
       "      <td>2.0</td>\n",
       "      <td>100</td>\n",
       "    </tr>\n",
       "  </tbody>\n",
       "</table>\n",
       "<p>5 rows × 22 columns</p>\n",
       "</div>"
      ],
      "text/plain": [
       "   Layers  lumo_1  homo_1    t1  lumo_2  homo_2    t2  lumo_3  homo_3   t3  \\\n",
       "0       8     3.3     5.2  60.0     2.0     5.5  20.0     0.0     0.0  0.0   \n",
       "1       8     0.0     0.0   0.0     2.4     5.4  35.0     2.4     5.9  5.0   \n",
       "2       8     3.3     5.2  60.0     2.0     5.5  20.0     0.0     0.0  0.0   \n",
       "3       8     0.0     0.0   0.0     2.4     5.4  35.0     2.4     5.9  5.0   \n",
       "4       7     5.7     9.5  10.0     2.0     5.5  45.0     0.0     0.0  0.0   \n",
       "\n",
       "  ...   HOMO  triplet2  thick  triplet3  lumo6  homo6    t6  wf_1   t7   t8  \n",
       "0 ...    6.6       2.8     25      3.36   2.80   6.20  30.0   3.5  1.5  200  \n",
       "1 ...    6.6       2.8     20      2.99   2.80   6.20  30.0   3.5  0.8   80  \n",
       "2 ...    6.6       2.8     25      3.36   2.80   6.20  30.0   3.5  1.5  200  \n",
       "3 ...    6.6       2.8     20      2.99   2.80   6.20  30.0   3.5  0.8   80  \n",
       "4 ...    5.9       2.8     20      2.75   2.73   6.68  45.0   4.3  2.0  100  \n",
       "\n",
       "[5 rows x 22 columns]"
      ]
     },
     "execution_count": 1,
     "metadata": {},
     "output_type": "execute_result"
    }
   ],
   "source": [
    "%matplotlib inline\n",
    "import pandas as pd\n",
    "import numpy as np\n",
    "import matplotlib.pylab as plt\n",
    "from sklearn.linear_model import LinearRegression\n",
    "from sklearn import preprocessing\n",
    "from sklearn.model_selection import train_test_split, cross_val_score\n",
    "\n",
    "# Read the data from excel using Pandas and assign features to X and efficiency to y.\n",
    "df = pd.read_excel('C:/Anaconda3/projects/oled/oled.xlsx', sheetname='Sheet3')\n",
    "df = df.fillna(value=0)\n",
    "X = df[list(df.columns)[:-1]]\n",
    "y = df[['cd/A']]\n",
    "X.head()"
   ]
  },
  {
   "cell_type": "code",
   "execution_count": 2,
   "metadata": {
    "collapsed": false
   },
   "outputs": [
    {
     "data": {
      "text/html": [
       "<div>\n",
       "<table border=\"1\" class=\"dataframe\">\n",
       "  <thead>\n",
       "    <tr style=\"text-align: right;\">\n",
       "      <th></th>\n",
       "      <th>Layers</th>\n",
       "      <th>lumo_1</th>\n",
       "      <th>homo_1</th>\n",
       "      <th>t1</th>\n",
       "      <th>lumo_2</th>\n",
       "      <th>homo_2</th>\n",
       "      <th>t2</th>\n",
       "      <th>lumo_3</th>\n",
       "      <th>homo_3</th>\n",
       "      <th>t3</th>\n",
       "      <th>...</th>\n",
       "      <th>HOMO</th>\n",
       "      <th>triplet2</th>\n",
       "      <th>thick</th>\n",
       "      <th>triplet3</th>\n",
       "      <th>lumo6</th>\n",
       "      <th>homo6</th>\n",
       "      <th>t6</th>\n",
       "      <th>wf_1</th>\n",
       "      <th>t7</th>\n",
       "      <th>t8</th>\n",
       "    </tr>\n",
       "  </thead>\n",
       "  <tbody>\n",
       "    <tr>\n",
       "      <th>99</th>\n",
       "      <td>9</td>\n",
       "      <td>5.7</td>\n",
       "      <td>9.5</td>\n",
       "      <td>10.0</td>\n",
       "      <td>2.5</td>\n",
       "      <td>5.2</td>\n",
       "      <td>10.0</td>\n",
       "      <td>2.4</td>\n",
       "      <td>5.7</td>\n",
       "      <td>5.0</td>\n",
       "      <td>...</td>\n",
       "      <td>5.75</td>\n",
       "      <td>2.96</td>\n",
       "      <td>20</td>\n",
       "      <td>2.75</td>\n",
       "      <td>2.73</td>\n",
       "      <td>6.68</td>\n",
       "      <td>50.0</td>\n",
       "      <td>4.3</td>\n",
       "      <td>1.0</td>\n",
       "      <td>120</td>\n",
       "    </tr>\n",
       "  </tbody>\n",
       "</table>\n",
       "<p>1 rows × 22 columns</p>\n",
       "</div>"
      ],
      "text/plain": [
       "    Layers  lumo_1  homo_1    t1  lumo_2  homo_2    t2  lumo_3  homo_3   t3  \\\n",
       "99       9     5.7     9.5  10.0     2.5     5.2  10.0     2.4     5.7  5.0   \n",
       "\n",
       "   ...   HOMO  triplet2  thick  triplet3  lumo6  homo6    t6  wf_1   t7   t8  \n",
       "99 ...   5.75      2.96     20      2.75   2.73   6.68  50.0   4.3  1.0  120  \n",
       "\n",
       "[1 rows x 22 columns]"
      ]
     },
     "execution_count": 2,
     "metadata": {},
     "output_type": "execute_result"
    }
   ],
   "source": [
    "X_train, X_test, y_train, y_test = train_test_split(X, y, random_state=1, test_size=0.3)\n",
    "X_train[0:1]"
   ]
  },
  {
   "cell_type": "code",
   "execution_count": 3,
   "metadata": {
    "collapsed": false
   },
   "outputs": [
    {
     "data": {
      "text/plain": [
       "array([[ 0.6       ,  0.31343284,  0.53608247,  1.        ,  0.70224719,\n",
       "         0.53608247,  0.26666667,  1.        ,  0.96721311,  0.5       ,\n",
       "         0.95238095,  0.74901961,  0.42916667,  0.74358974,  0.18181818,\n",
       "         1.        ,  0.7204611 ,  0.90666667,  0.28571429,  0.        ,\n",
       "         0.4       ,  1.        ]])"
      ]
     },
     "execution_count": 3,
     "metadata": {},
     "output_type": "execute_result"
    }
   ],
   "source": [
    "scaler = preprocessing.MinMaxScaler()\n",
    "# scaler = preprocessing.Normalizer()\n",
    "scaler.fit(X_train)\n",
    "X_train = scaler.transform(X_train)\n",
    "X_test = scaler.transform(X_test)\n",
    "X_test[0:1]"
   ]
  },
  {
   "cell_type": "code",
   "execution_count": 4,
   "metadata": {
    "collapsed": false
   },
   "outputs": [],
   "source": [
    "# from sklearn.decomposition import PCA\n",
    "# pca = PCA(n_components=10)\n",
    "# pca.fit(X_train)\n",
    "# X_train = pca.transform(X_train)\n",
    "# X_test = pca.transform(X_test)\n",
    "# X_train[:1]"
   ]
  },
  {
   "cell_type": "code",
   "execution_count": 5,
   "metadata": {
    "collapsed": false
   },
   "outputs": [
    {
     "name": "stdout",
     "output_type": "stream",
     "text": [
      "R-squared:  0.483302222091\n"
     ]
    }
   ],
   "source": [
    "from sklearn.ensemble import RandomForestRegressor\n",
    "regressor = RandomForestRegressor()\n",
    "regressor.fit(X_train, y_train.values.ravel())\n",
    "y_predictions = regressor.predict(X_test)\n",
    "\n",
    "# Check how our model is doing\n",
    "print('R-squared: ', regressor.score(X_test, y_test))"
   ]
  },
  {
   "cell_type": "code",
   "execution_count": 6,
   "metadata": {
    "collapsed": false
   },
   "outputs": [
    {
     "name": "stdout",
     "output_type": "stream",
     "text": [
      "Predicted: 26.08,  Actual: [17.0]\n",
      "Predicted: 16.8766666667,  Actual: [19.0]\n",
      "Predicted: 24.0937435897,  Actual: [43.2]\n",
      "Predicted: 51.0484615385,  Actual: [54.666666666666664]\n",
      "Predicted: 13.69,  Actual: [6.0]\n",
      "Predicted: 18.412,  Actual: [6.5]\n",
      "Predicted: 27.147025641,  Actual: [7.37]\n",
      "Predicted: 25.33,  Actual: [22.5]\n",
      "Predicted: 23.6578461538,  Actual: [33.9]\n",
      "Predicted: 28.811,  Actual: [40.8]\n",
      "Predicted: 19.9356666667,  Actual: [8.0]\n",
      "Predicted: 32.1,  Actual: [37.3]\n",
      "Predicted: 47.9,  Actual: [36.2]\n",
      "Predicted: 14.45,  Actual: [15.9]\n",
      "Predicted: 16.342,  Actual: [18.0]\n",
      "Predicted: 57.3964102564,  Actual: [65.3076923076923]\n",
      "Predicted: 16.6466666667,  Actual: [33.6]\n",
      "Predicted: 26.86,  Actual: [25.3]\n",
      "Predicted: 25.62,  Actual: [36.5]\n",
      "Predicted: 19.0415897436,  Actual: [6.3]\n",
      "Predicted: 12.874,  Actual: [16.01]\n",
      "Predicted: 2.73,  Actual: [6.1]\n",
      "Predicted: 41.05,  Actual: [34.0]\n",
      "Predicted: 15.04,  Actual: [20.8]\n",
      "Predicted: 19.9356666667,  Actual: [12.0]\n",
      "Predicted: 12.324,  Actual: [18.6]\n",
      "Predicted: 55.93,  Actual: [49.8]\n",
      "Predicted: 54.79,  Actual: [26.3]\n",
      "Predicted: 24.0937435897,  Actual: [26.0]\n",
      "Predicted: 9.20666666667,  Actual: [10.2]\n",
      "Predicted: 19.55,  Actual: [26.076923076923077]\n",
      "Predicted: 21.0366666667,  Actual: [22.4]\n",
      "Predicted: 22.6816666667,  Actual: [25.6]\n",
      "Predicted: 29.83,  Actual: [40.8]\n",
      "Predicted: 19.4346666667,  Actual: [12.0]\n",
      "Predicted: 22.44,  Actual: [14.538461538461538]\n",
      "Predicted: 19.9356666667,  Actual: [17.0]\n",
      "Predicted: 16.17,  Actual: [20.4]\n",
      "Predicted: 36.51,  Actual: [33.0]\n",
      "Predicted: 18.6056666667,  Actual: [9.0]\n",
      "Predicted: 41.33,  Actual: [20.9]\n",
      "Predicted: 6.53666666667,  Actual: [5.9]\n",
      "Predicted: 20.3271794872,  Actual: [24.0]\n",
      "Predicted: 27.36,  Actual: [26.2]\n",
      "Predicted: 29.226,  Actual: [38.8]\n",
      "Predicted: 37.53,  Actual: [14.6]\n",
      "Predicted: 4.218,  Actual: [1.87]\n",
      "Predicted: 16.74,  Actual: [15.0]\n",
      "Predicted: 18.396,  Actual: [9.7]\n"
     ]
    }
   ],
   "source": [
    "y_test = y_test.values.tolist()\n",
    "for i, prediction in enumerate(y_predictions):\n",
    "    print('Predicted: %s,  Actual: %s' % (prediction, y_test[i]))"
   ]
  },
  {
   "cell_type": "code",
   "execution_count": 7,
   "metadata": {
    "collapsed": false
   },
   "outputs": [
    {
     "data": {
      "image/png": "[encoded data removed]",
      "text/plain": [
       "<matplotlib.figure.Figure at 0x281b1a51ac8>"
      ]
     },
     "metadata": {},
     "output_type": "display_data"
    }
   ],
   "source": [
    "plt.scatter(y_test, y_predictions)\n",
    "plt.plot([0, 100], [-0,100], 'g-', label='true line')\n",
    "plt.xlabel('true efficiency')\n",
    "plt.ylabel('predicted efficiency')\n",
    "plt.title(' comparison ')\n",
    "plt.show()"
   ]
  },
  {
   "cell_type": "code",
   "execution_count": 9,
   "metadata": {
    "collapsed": false
   },
   "outputs": [
    {
     "name": "stdout",
     "output_type": "stream",
     "text": [
      "0.885012687451\n"
     ]
    },
    {
     "data": {
      "image/png": "[encoded data removed]",
      "text/plain": [
       "<matplotlib.figure.Figure at 0x281b1d55e48>"
      ]
     },
     "metadata": {},
     "output_type": "display_data"
    }
   ],
   "source": [
    "# see the prediction on training set\n",
    "# y_predictions = regressor.predict(X_train)\n",
    "# print(regressor.score(X_train, y_train))\n",
    "# plt.scatter(y_train, y_predictions)\n",
    "# plt.plot([0, 100], [-0,100], 'g-', label='true line')\n",
    "# plt.xlabel('true efficiency')\n",
    "# plt.ylabel('predicted efficiency')\n",
    "# plt.title(' comparison ')\n",
    "# plt.show()"
   ]
  },
  {
   "cell_type": "code",
   "execution_count": 10,
   "metadata": {
    "collapsed": false
   },
   "outputs": [
    {
     "name": "stdout",
     "output_type": "stream",
     "text": [
      "        column              importance\n",
      "0       Layers              0.035394290803016384\n",
      "1       lumo_1              0.007584395738688085\n",
      "2       homo_1              0.015378421719408805\n",
      "3       t1                  0.05754150302618481\n",
      "4       lumo_2              0.03771115720602719\n",
      "5       homo_2              0.022573781759334503\n",
      "6       t2                  0.1482101944185873\n",
      "7       lumo_3              0.0007100597733135632\n",
      "8       homo_3              7.940337206024059e-05\n",
      "9       t3                  0.0033564019845403006\n",
      "10      triplet1            0.07096447821975586\n",
      "11      LUMO                0.08675843742717267\n",
      "12      HOMO                0.06921332392263098\n",
      "13      triplet2            0.13010410542626138\n",
      "14      thick               0.014555399162879368\n",
      "15      triplet3            0.021052081077836005\n",
      "16      lumo6               0.04798587270354437\n",
      "17      homo6               0.05058028340239799\n",
      "18      t6                  0.12617694739757518\n",
      "19      wf_1                0.00540650888107908\n",
      "20      t7                  0.02518684361084688\n",
      "21      t8                  0.023476108966859047\n"
     ]
    }
   ],
   "source": [
    "importance = regressor.feature_importances_.tolist()\n",
    "names = list(X)\n",
    "# sort importance tp x sort names, huh\n",
    "# importance = sorted(importance, key=abs, reverse=True)\n",
    "\n",
    "fmt = '{:<8}{:<20}{}'\n",
    "print(fmt.format('', 'column', 'importance'))\n",
    "for i, (name, coef) in enumerate(zip(names, importance)):\n",
    "    print(fmt.format(i, name, coef))\n"
   ]
  },
  {
   "cell_type": "code",
   "execution_count": 11,
   "metadata": {
    "collapsed": false
   },
   "outputs": [
    {
     "data": {
      "text/plain": [
       "([<matplotlib.axis.XTick at 0x281b1a70c18>,\n",
       "  <matplotlib.axis.XTick at 0x281b1d5b400>,\n",
       "  <matplotlib.axis.XTick at 0x281b1d27f60>,\n",
       "  <matplotlib.axis.XTick at 0x281b1af5278>,\n",
       "  <matplotlib.axis.XTick at 0x281b1af5c50>,\n",
       "  <matplotlib.axis.XTick at 0x281b1ae9668>,\n",
       "  <matplotlib.axis.XTick at 0x281b1b06080>,\n",
       "  <matplotlib.axis.XTick at 0x281b1b06a58>,\n",
       "  <matplotlib.axis.XTick at 0x281b1af2470>,\n",
       "  <matplotlib.axis.XTick at 0x281b1af2e48>,\n",
       "  <matplotlib.axis.XTick at 0x281b3030860>,\n",
       "  <matplotlib.axis.XTick at 0x281b3035278>,\n",
       "  <matplotlib.axis.XTick at 0x281b3035c50>,\n",
       "  <matplotlib.axis.XTick at 0x281b1b502b0>,\n",
       "  <matplotlib.axis.XTick at 0x281b3035eb8>,\n",
       "  <matplotlib.axis.XTick at 0x281b3038780>,\n",
       "  <matplotlib.axis.XTick at 0x281b303f198>,\n",
       "  <matplotlib.axis.XTick at 0x281b303fb70>,\n",
       "  <matplotlib.axis.XTick at 0x281b3045588>,\n",
       "  <matplotlib.axis.XTick at 0x281b3045f60>,\n",
       "  <matplotlib.axis.XTick at 0x281b304b978>,\n",
       "  <matplotlib.axis.XTick at 0x281b3050390>],\n",
       " <a list of 22 Text xticklabel objects>)"
      ]
     },
     "execution_count": 11,
     "metadata": {},
     "output_type": "execute_result"
    },
    {
     "data": {
      "image/png": "[encoded data removed]",
      "text/plain": [
       "<matplotlib.figure.Figure at 0x281b1d555f8>"
      ]
     },
     "metadata": {},
     "output_type": "display_data"
    }
   ],
   "source": [
    "x = np.arange(22)\n",
    "plt.bar(x, importance)\n",
    "plt.xticks(x, names, rotation=90)"
   ]
  },
  {
   "cell_type": "code",
   "execution_count": 13,
   "metadata": {
    "collapsed": false
   },
   "outputs": [
    {
     "data": {
      "text/plain": [
       "array([-0.55123671,  0.06634814, -0.93742006, -0.40703139])"
      ]
     },
     "execution_count": 13,
     "metadata": {},
     "output_type": "execute_result"
    }
   ],
   "source": [
    "cv_results = cross_val_score(regressor, X, y.values.ravel(), cv=4)\n",
    "cv_results"
   ]
  },
  {
   "cell_type": "code",
   "execution_count": 19,
   "metadata": {
    "collapsed": false
   },
   "outputs": [
    {
     "name": "stdout",
     "output_type": "stream",
     "text": [
      "Fitting 4 folds for each of 6 candidates, totalling 24 fits\n",
      "Best score: -0.390\n",
      "Best parameters set:\n",
      "\tn_estimators: 8\n",
      "r2 on test set: -0.316056294601\n"
     ]
    },
    {
     "name": "stderr",
     "output_type": "stream",
     "text": [
      "[Parallel(n_jobs=1)]: Done  24 out of  24 | elapsed:    0.4s finished\n"
     ]
    }
   ],
   "source": [
    "from sklearn.metrics import r2_score\n",
    "from sklearn.model_selection import GridSearchCV\n",
    "\n",
    "estimator = range(5, 11, 1)\n",
    "parameters = {\n",
    "                'n_estimators': estimator\n",
    "             }\n",
    "\n",
    "reg = GridSearchCV(regressor, parameters, verbose=1, scoring='r2', cv=4)\n",
    "\n",
    "reg.fit(X, y.values.ravel())\n",
    "print('Best score: %0.3f' % reg.best_score_)\n",
    "print('Best parameters set:')\n",
    "best_parameters = reg.best_estimator_.get_params()\n",
    "for param_name in sorted(parameters.keys()):\n",
    "    print('\\t%s: %r' % (param_name, best_parameters[param_name]))\n",
    "y_predictions = reg.predict(X_test)\n",
    "print('r2 on test set:', r2_score(y_test, y_predictions))\n"
   ]
  }
 ],
 "metadata": {
  "kernelspec": {
   "display_name": "Python 3",
   "language": "python",
   "name": "python3"
  },
  "language_info": {
   "codemirror_mode": {
    "name": "ipython",
    "version": 3
   },
   "file_extension": ".py",
   "mimetype": "text/x-python",
   "name": "python",
   "nbconvert_exporter": "python",
   "pygments_lexer": "ipython3",
   "version": "3.6.0"
  }
 },
 "nbformat": 4,
 "nbformat_minor": 2
}
