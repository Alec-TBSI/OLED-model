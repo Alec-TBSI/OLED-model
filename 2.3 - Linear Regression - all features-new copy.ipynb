{
 "cells": [
  {
   "cell_type": "code",
   "execution_count": 1,
   "metadata": {
    "collapsed": false
   },
   "outputs": [
    {
     "data": {
      "text/html": [
       "<div>\n",
       "<table border=\"1\" class=\"dataframe\">\n",
       "  <thead>\n",
       "    <tr style=\"text-align: right;\">\n",
       "      <th></th>\n",
       "      <th>lumo_1</th>\n",
       "      <th>homo_1</th>\n",
       "      <th>lumo_2</th>\n",
       "      <th>homo_2</th>\n",
       "      <th>lumo_3</th>\n",
       "      <th>homo_3</th>\n",
       "      <th>LUMO</th>\n",
       "      <th>HOMO</th>\n",
       "      <th>lumo5</th>\n",
       "      <th>homo5</th>\n",
       "      <th>...</th>\n",
       "      <th>h5-h4</th>\n",
       "      <th>h6-h5</th>\n",
       "      <th>wf-h6</th>\n",
       "      <th>ito-L1</th>\n",
       "      <th>l1-l2</th>\n",
       "      <th>l2-l3</th>\n",
       "      <th>l3-l4</th>\n",
       "      <th>l4-l5</th>\n",
       "      <th>l5-l6</th>\n",
       "      <th>l6-wf</th>\n",
       "    </tr>\n",
       "  </thead>\n",
       "  <tbody>\n",
       "    <tr>\n",
       "      <th>0</th>\n",
       "      <td>2.30</td>\n",
       "      <td>5.30</td>\n",
       "      <td>2.5</td>\n",
       "      <td>5.2</td>\n",
       "      <td>2.4</td>\n",
       "      <td>5.9</td>\n",
       "      <td>2.70</td>\n",
       "      <td>5.60</td>\n",
       "      <td>2.50</td>\n",
       "      <td>6.5</td>\n",
       "      <td>...</td>\n",
       "      <td>0.90</td>\n",
       "      <td>-0.10</td>\n",
       "      <td>-2.90</td>\n",
       "      <td>2.40</td>\n",
       "      <td>-0.20</td>\n",
       "      <td>0.1</td>\n",
       "      <td>-0.30</td>\n",
       "      <td>0.20</td>\n",
       "      <td>-0.50</td>\n",
       "      <td>-0.50</td>\n",
       "    </tr>\n",
       "    <tr>\n",
       "      <th>1</th>\n",
       "      <td>3.56</td>\n",
       "      <td>6.26</td>\n",
       "      <td>2.4</td>\n",
       "      <td>6.1</td>\n",
       "      <td>0.0</td>\n",
       "      <td>0.0</td>\n",
       "      <td>2.40</td>\n",
       "      <td>6.10</td>\n",
       "      <td>3.47</td>\n",
       "      <td>7.5</td>\n",
       "      <td>...</td>\n",
       "      <td>1.40</td>\n",
       "      <td>0.00</td>\n",
       "      <td>-3.22</td>\n",
       "      <td>1.14</td>\n",
       "      <td>1.16</td>\n",
       "      <td>0.0</td>\n",
       "      <td>3.70</td>\n",
       "      <td>-1.07</td>\n",
       "      <td>0.00</td>\n",
       "      <td>-0.81</td>\n",
       "    </tr>\n",
       "    <tr>\n",
       "      <th>2</th>\n",
       "      <td>3.30</td>\n",
       "      <td>5.20</td>\n",
       "      <td>2.0</td>\n",
       "      <td>5.5</td>\n",
       "      <td>0.0</td>\n",
       "      <td>0.0</td>\n",
       "      <td>2.27</td>\n",
       "      <td>5.85</td>\n",
       "      <td>2.50</td>\n",
       "      <td>6.8</td>\n",
       "      <td>...</td>\n",
       "      <td>0.95</td>\n",
       "      <td>-0.60</td>\n",
       "      <td>-2.70</td>\n",
       "      <td>1.40</td>\n",
       "      <td>1.30</td>\n",
       "      <td>0.0</td>\n",
       "      <td>3.23</td>\n",
       "      <td>-0.23</td>\n",
       "      <td>-0.30</td>\n",
       "      <td>-0.70</td>\n",
       "    </tr>\n",
       "    <tr>\n",
       "      <th>3</th>\n",
       "      <td>3.30</td>\n",
       "      <td>5.20</td>\n",
       "      <td>2.0</td>\n",
       "      <td>5.5</td>\n",
       "      <td>0.0</td>\n",
       "      <td>0.0</td>\n",
       "      <td>2.28</td>\n",
       "      <td>5.80</td>\n",
       "      <td>2.50</td>\n",
       "      <td>6.8</td>\n",
       "      <td>...</td>\n",
       "      <td>1.00</td>\n",
       "      <td>-0.60</td>\n",
       "      <td>-2.70</td>\n",
       "      <td>1.40</td>\n",
       "      <td>1.30</td>\n",
       "      <td>0.0</td>\n",
       "      <td>3.22</td>\n",
       "      <td>-0.22</td>\n",
       "      <td>-0.30</td>\n",
       "      <td>-0.70</td>\n",
       "    </tr>\n",
       "    <tr>\n",
       "      <th>4</th>\n",
       "      <td>5.70</td>\n",
       "      <td>9.50</td>\n",
       "      <td>2.0</td>\n",
       "      <td>5.5</td>\n",
       "      <td>0.0</td>\n",
       "      <td>0.0</td>\n",
       "      <td>2.55</td>\n",
       "      <td>5.90</td>\n",
       "      <td>0.00</td>\n",
       "      <td>0.0</td>\n",
       "      <td>...</td>\n",
       "      <td>0.00</td>\n",
       "      <td>0.78</td>\n",
       "      <td>-2.38</td>\n",
       "      <td>-1.00</td>\n",
       "      <td>3.70</td>\n",
       "      <td>0.0</td>\n",
       "      <td>2.95</td>\n",
       "      <td>0.00</td>\n",
       "      <td>-0.18</td>\n",
       "      <td>-1.57</td>\n",
       "    </tr>\n",
       "  </tbody>\n",
       "</table>\n",
       "<p>5 rows × 38 columns</p>\n",
       "</div>"
      ],
      "text/plain": [
       "   lumo_1  homo_1  lumo_2  homo_2  lumo_3  homo_3  LUMO  HOMO  lumo5  homo5  \\\n",
       "0    2.30    5.30     2.5     5.2     2.4     5.9  2.70  5.60   2.50    6.5   \n",
       "1    3.56    6.26     2.4     6.1     0.0     0.0  2.40  6.10   3.47    7.5   \n",
       "2    3.30    5.20     2.0     5.5     0.0     0.0  2.27  5.85   2.50    6.8   \n",
       "3    3.30    5.20     2.0     5.5     0.0     0.0  2.28  5.80   2.50    6.8   \n",
       "4    5.70    9.50     2.0     5.5     0.0     0.0  2.55  5.90   0.00    0.0   \n",
       "\n",
       "   ...    h5-h4  h6-h5  wf-h6  ito-L1  l1-l2  l2-l3  l3-l4  l4-l5  l5-l6  \\\n",
       "0  ...     0.90  -0.10  -2.90    2.40  -0.20    0.1  -0.30   0.20  -0.50   \n",
       "1  ...     1.40   0.00  -3.22    1.14   1.16    0.0   3.70  -1.07   0.00   \n",
       "2  ...     0.95  -0.60  -2.70    1.40   1.30    0.0   3.23  -0.23  -0.30   \n",
       "3  ...     1.00  -0.60  -2.70    1.40   1.30    0.0   3.22  -0.22  -0.30   \n",
       "4  ...     0.00   0.78  -2.38   -1.00   3.70    0.0   2.95   0.00  -0.18   \n",
       "\n",
       "   l6-wf  \n",
       "0  -0.50  \n",
       "1  -0.81  \n",
       "2  -0.70  \n",
       "3  -0.70  \n",
       "4  -1.57  \n",
       "\n",
       "[5 rows x 38 columns]"
      ]
     },
     "execution_count": 1,
     "metadata": {},
     "output_type": "execute_result"
    }
   ],
   "source": [
    "import pandas as pd\n",
    "import numpy as np\n",
    "import matplotlib.pylab as plt\n",
    "from sklearn.linear_model import LinearRegression\n",
    "from sklearn import preprocessing\n",
    "from sklearn.model_selection import train_test_split, cross_val_score\n",
    "%matplotlib inline\n",
    "\n",
    "# Read the data from excel using Pandas and assign features to X and efficiency to y.\n",
    "df = pd.read_excel('C:/Anaconda3/projects/oled/oled.xlsx', sheetname='features')\n",
    "df = df.fillna(value=0)\n",
    "X = df[list(df.columns)[1:-2]]\n",
    "y = df.iloc[:, -1]\n",
    "X.head()"
   ]
  },
  {
   "cell_type": "code",
   "execution_count": 2,
   "metadata": {
    "collapsed": false
   },
   "outputs": [
    {
     "name": "stdout",
     "output_type": "stream",
     "text": [
      "R-squared:  0.490109247812\n"
     ]
    }
   ],
   "source": [
    "# preprocess the data and split the data for training and testing\n",
    "# assign random state for reproducibility\n",
    "X = preprocessing.scale(X)\n",
    "X_train, X_test, y_train, y_test = train_test_split(X, y, random_state=2793)\n",
    "\n",
    "# Choose linear regression as our regressor from scikit-learn\n",
    "regressor = LinearRegression(fit_intercept=True, normalize=False, copy_X=True, n_jobs=-1)\n",
    "\n",
    "regressor.fit(X_train, y_train)\n",
    "y_predictions = regressor.predict(X_test)\n",
    "\n",
    "# Check how our model is doing\n",
    "print('R-squared: ', regressor.score(X_test, y_test))"
   ]
  },
  {
   "cell_type": "code",
   "execution_count": 3,
   "metadata": {
    "collapsed": false
   },
   "outputs": [
    {
     "name": "stdout",
     "output_type": "stream",
     "text": [
      "regression coefficient =\n",
      " [-49.93542562   1.38249313 -55.23682722  51.60445224  12.12743556\n",
      "  -3.4400028    0.65389787   5.68584617  67.66094939 -51.44851462\n",
      "  12.16031513  -1.58481741   3.93212639   9.50199845   5.23376093\n",
      "  13.00997253   2.96723923 -18.85734332   5.88424897   0.89881866\n",
      "  -8.01794805 -16.34268002   5.95573083   5.69905056   1.38249313\n",
      "  -1.97114705  32.62612439 -19.74814107  -1.83614316  -4.21661537\n",
      "  -1.3692916   -0.29067571  46.15007942  45.31035381  22.5629572\n",
      "   2.75951925   3.01035404  11.83430964]\n",
      "regression intercept =  22.1050628655\n"
     ]
    }
   ],
   "source": [
    "# see the coefficient of regression\n",
    "coefficients = regressor.coef_\n",
    "intercept = regressor.intercept_\n",
    "print('regression coefficient =\\n', coefficients)\n",
    "print('regression intercept = ', intercept)"
   ]
  },
  {
   "cell_type": "code",
   "execution_count": 4,
   "metadata": {
    "collapsed": false
   },
   "outputs": [
    {
     "data": {
      "image/png": "[encoded data removed]",
      "text/plain": [
       "<matplotlib.figure.Figure at 0x288381857f0>"
      ]
     },
     "metadata": {},
     "output_type": "display_data"
    }
   ],
   "source": [
    "# take a look at our model prediction. the best model will be very close to the line in the middle\n",
    "plt.scatter(y_test, y_predictions)\n",
    "plt.plot([0, 100], [-0,100], 'g-', label='true line')\n",
    "plt.xlabel('true efficiency')\n",
    "plt.ylabel('predicted efficiency')\n",
    "plt.title(' comparison ')\n",
    "plt.show()"
   ]
  },
  {
   "cell_type": "code",
   "execution_count": 5,
   "metadata": {
    "collapsed": false
   },
   "outputs": [
    {
     "name": "stdout",
     "output_type": "stream",
     "text": [
      "Predicted: -2.90937945263,  Actual: 4.0\n",
      "Predicted: 19.0575265512,  Actual: 20.4\n",
      "Predicted: 4.28627245684,  Actual: 4.27\n",
      "Predicted: 56.24547595,  Actual: 55.0\n",
      "Predicted: 33.6763963528,  Actual: 10.0\n",
      "Predicted: 9.72029997608,  Actual: 8.7\n",
      "Predicted: 19.8408732967,  Actual: 38.8\n",
      "Predicted: 51.8266153254,  Actual: 66.5\n",
      "Predicted: 28.5737890126,  Actual: 10.0\n",
      "Predicted: -13.8054577258,  Actual: 1.0\n",
      "Predicted: 26.4687305662,  Actual: 5.4\n",
      "Predicted: 22.1783024306,  Actual: 29.4\n",
      "Predicted: 30.6128099519,  Actual: 13.5\n",
      "Predicted: -4.30160061513,  Actual: 14.3\n",
      "Predicted: 8.55421563972,  Actual: 14.3\n",
      "Predicted: 45.8199146016,  Actual: 47.2\n",
      "Predicted: 15.2084350947,  Actual: 33.2\n",
      "Predicted: 15.9471088161,  Actual: 25.6\n",
      "Predicted: 25.4170752757,  Actual: 5.6\n",
      "Predicted: 9.72029997608,  Actual: 10.2\n",
      "Predicted: 18.9257813559,  Actual: 8.5\n",
      "Predicted: 4.89845524957,  Actual: 3.02\n",
      "Predicted: 38.6862954463,  Actual: 30.1\n",
      "Predicted: 33.7496780367,  Actual: 23.7\n",
      "Predicted: 12.7567288901,  Actual: 5.47\n",
      "Predicted: 32.9931902166,  Actual: 55.4\n",
      "Predicted: 14.9040669116,  Actual: 10.0\n",
      "Predicted: 40.6513233102,  Actual: 34.0\n",
      "Predicted: 2.49746634104,  Actual: 3.25\n",
      "Predicted: 12.7567288901,  Actual: 18.42\n"
     ]
    }
   ],
   "source": [
    "# print predicted value and actual value to see how far off the prediction\n",
    "y_test = y_test.values.tolist()\n",
    "for i, prediction in enumerate(y_predictions):\n",
    "    print('Predicted: %s,  Actual: %s' % (prediction, y_test[i]))"
   ]
  },
  {
   "cell_type": "markdown",
   "metadata": {},
   "source": [
    "### Now we select only features with high correlation to the efficiency"
   ]
  },
  {
   "cell_type": "code",
   "execution_count": 6,
   "metadata": {
    "collapsed": false
   },
   "outputs": [
    {
     "data": {
      "text/html": [
       "<div>\n",
       "<table border=\"1\" class=\"dataframe\">\n",
       "  <thead>\n",
       "    <tr style=\"text-align: right;\">\n",
       "      <th></th>\n",
       "      <th>triplet2</th>\n",
       "      <th>homo6</th>\n",
       "      <th>HOMO</th>\n",
       "      <th>triplet3</th>\n",
       "      <th>wf-h6</th>\n",
       "      <th>lumo6</th>\n",
       "      <th>h5-h4</th>\n",
       "      <th>t6</th>\n",
       "      <th>t2</th>\n",
       "      <th>t5</th>\n",
       "      <th>thick</th>\n",
       "    </tr>\n",
       "  </thead>\n",
       "  <tbody>\n",
       "    <tr>\n",
       "      <th>0</th>\n",
       "      <td>2.80</td>\n",
       "      <td>6.40</td>\n",
       "      <td>5.60</td>\n",
       "      <td>2.99</td>\n",
       "      <td>-2.90</td>\n",
       "      <td>3.00</td>\n",
       "      <td>0.90</td>\n",
       "      <td>30.0</td>\n",
       "      <td>70.0</td>\n",
       "      <td>5.0</td>\n",
       "      <td>20</td>\n",
       "    </tr>\n",
       "    <tr>\n",
       "      <th>1</th>\n",
       "      <td>2.80</td>\n",
       "      <td>7.50</td>\n",
       "      <td>6.10</td>\n",
       "      <td>2.99</td>\n",
       "      <td>-3.22</td>\n",
       "      <td>3.47</td>\n",
       "      <td>1.40</td>\n",
       "      <td>50.0</td>\n",
       "      <td>15.0</td>\n",
       "      <td>20.0</td>\n",
       "      <td>30</td>\n",
       "    </tr>\n",
       "    <tr>\n",
       "      <th>2</th>\n",
       "      <td>2.86</td>\n",
       "      <td>6.20</td>\n",
       "      <td>5.85</td>\n",
       "      <td>3.36</td>\n",
       "      <td>-2.70</td>\n",
       "      <td>2.80</td>\n",
       "      <td>0.95</td>\n",
       "      <td>30.0</td>\n",
       "      <td>30.0</td>\n",
       "      <td>5.0</td>\n",
       "      <td>25</td>\n",
       "    </tr>\n",
       "    <tr>\n",
       "      <th>3</th>\n",
       "      <td>2.91</td>\n",
       "      <td>6.20</td>\n",
       "      <td>5.80</td>\n",
       "      <td>3.36</td>\n",
       "      <td>-2.70</td>\n",
       "      <td>2.80</td>\n",
       "      <td>1.00</td>\n",
       "      <td>30.0</td>\n",
       "      <td>30.0</td>\n",
       "      <td>5.0</td>\n",
       "      <td>25</td>\n",
       "    </tr>\n",
       "    <tr>\n",
       "      <th>4</th>\n",
       "      <td>2.80</td>\n",
       "      <td>6.68</td>\n",
       "      <td>5.90</td>\n",
       "      <td>2.75</td>\n",
       "      <td>-2.38</td>\n",
       "      <td>2.73</td>\n",
       "      <td>0.00</td>\n",
       "      <td>45.0</td>\n",
       "      <td>45.0</td>\n",
       "      <td>0.0</td>\n",
       "      <td>20</td>\n",
       "    </tr>\n",
       "  </tbody>\n",
       "</table>\n",
       "</div>"
      ],
      "text/plain": [
       "   triplet2  homo6  HOMO  triplet3  wf-h6  lumo6  h5-h4    t6    t2    t5  \\\n",
       "0      2.80   6.40  5.60      2.99  -2.90   3.00   0.90  30.0  70.0   5.0   \n",
       "1      2.80   7.50  6.10      2.99  -3.22   3.47   1.40  50.0  15.0  20.0   \n",
       "2      2.86   6.20  5.85      3.36  -2.70   2.80   0.95  30.0  30.0   5.0   \n",
       "3      2.91   6.20  5.80      3.36  -2.70   2.80   1.00  30.0  30.0   5.0   \n",
       "4      2.80   6.68  5.90      2.75  -2.38   2.73   0.00  45.0  45.0   0.0   \n",
       "\n",
       "   thick  \n",
       "0     20  \n",
       "1     30  \n",
       "2     25  \n",
       "3     25  \n",
       "4     20  "
      ]
     },
     "execution_count": 6,
     "metadata": {},
     "output_type": "execute_result"
    }
   ],
   "source": [
    "new_X = df[[ 'triplet2', 'homo6', 'HOMO', 'triplet3', 'wf-h6', 'lumo6','h5-h4','t6', 't2', 't5', 'thick']] \n",
    "new_X.head()"
   ]
  },
  {
   "cell_type": "code",
   "execution_count": 7,
   "metadata": {
    "collapsed": false
   },
   "outputs": [
    {
     "name": "stdout",
     "output_type": "stream",
     "text": [
      "R-squared:  0.0922015273648\n"
     ]
    }
   ],
   "source": [
    "# preprocess the data and split the data for training and testing\n",
    "# assign random state for reproducibility\n",
    "new_X = preprocessing.scale(new_X)\n",
    "X_train, X_test, y_train, y_test = train_test_split(new_X, y, random_state=2793)\n",
    "\n",
    "# Choose linear regression as our regressor from scikit-learn\n",
    "regressor = LinearRegression(fit_intercept=True, normalize=False, copy_X=True, n_jobs=-1)\n",
    "\n",
    "regressor.fit(X_train, y_train)\n",
    "y_predictions = regressor.predict(X_test)\n",
    "\n",
    "# Check how our model is doing\n",
    "print('R-squared: ', regressor.score(X_test, y_test))"
   ]
  },
  {
   "cell_type": "code",
   "execution_count": 8,
   "metadata": {
    "collapsed": false
   },
   "outputs": [
    {
     "data": {
      "text/plain": [
       "array([  -10.25323705,    -7.66929689,   -37.13696533, -3330.16450807])"
      ]
     },
     "execution_count": 8,
     "metadata": {},
     "output_type": "execute_result"
    }
   ],
   "source": [
    "# see the cross validated score using new_X\n",
    "cv_results = cross_val_score(regressor, new_X, y, cv=4)\n",
    "cv_results"
   ]
  },
  {
   "cell_type": "code",
   "execution_count": 9,
   "metadata": {
    "collapsed": false
   },
   "outputs": [
    {
     "name": "stdout",
     "output_type": "stream",
     "text": [
      "regression coefficient =\n",
      " [  2.49155687  10.28734256   6.70401841  -9.53228988  -5.30290612\n",
      "  -5.85148473  16.91785208   8.24145417   4.2430866  -12.09567853\n",
      "   3.90792022]\n",
      "regression intercept =  23.3485374019\n"
     ]
    }
   ],
   "source": [
    "# see the coefficient of regression\n",
    "coefficients = regressor.coef_\n",
    "intercept = regressor.intercept_\n",
    "print('regression coefficient =\\n', coefficients)\n",
    "print('regression intercept = ', intercept)"
   ]
  },
  {
   "cell_type": "code",
   "execution_count": 10,
   "metadata": {
    "collapsed": false
   },
   "outputs": [
    {
     "data": {
      "image/png": "[encoded data removed]",
      "text/plain": [
       "<matplotlib.figure.Figure at 0x2883bce7b70>"
      ]
     },
     "metadata": {},
     "output_type": "display_data"
    }
   ],
   "source": [
    "# take a look at our model prediction. the best model will be very close to the line in the middle\n",
    "plt.scatter(y_test, y_predictions)\n",
    "plt.plot([0, 70], [0, 70], 'g-', label='true line')\n",
    "plt.xlabel('true efficiency')\n",
    "plt.ylabel('predicted efficiency')\n",
    "plt.title(' comparison ')\n",
    "plt.show()"
   ]
  }
 ],
 "metadata": {
  "kernelspec": {
   "display_name": "Python 3",
   "language": "python",
   "name": "python3"
  },
  "language_info": {
   "codemirror_mode": {
    "name": "ipython",
    "version": 3
   },
   "file_extension": ".py",
   "mimetype": "text/x-python",
   "name": "python",
   "nbconvert_exporter": "python",
   "pygments_lexer": "ipython3",
   "version": "3.6.0"
  }
 },
 "nbformat": 4,
 "nbformat_minor": 2
}
