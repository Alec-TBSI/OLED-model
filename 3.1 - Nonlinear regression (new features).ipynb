{
 "cells": [
  {
   "cell_type": "code",
   "execution_count": 1,
   "metadata": {
    "collapsed": true
   },
   "outputs": [],
   "source": [
    "# import libraries\n",
    "import pandas as pd\n",
    "import matplotlib.pylab as plt\n",
    "from sklearn.linear_model import LinearRegression, Ridge, Lasso\n",
    "from sklearn import preprocessing\n",
    "from sklearn.model_selection import cross_val_score, KFold\n",
    "from sklearn.neighbors import KNeighborsRegressor\n",
    "from sklearn.tree import DecisionTreeRegressor\n",
    "from sklearn.svm import SVR\n",
    "from sklearn.ensemble import RandomForestRegressor, GradientBoostingRegressor\n",
    "from sklearn.metrics import mean_squared_error\n",
    "%matplotlib inline"
   ]
  },
  {
   "cell_type": "code",
   "execution_count": 2,
   "metadata": {
    "collapsed": false
   },
   "outputs": [],
   "source": [
    "# Read the data from excel using Pandas and assign features to X and efficiency to y.\n",
    "df = pd.read_excel('C:/Anaconda3/projects/oled/oled.xlsx', sheetname='extend_side')\n",
    "df.dropna(axis=0, inplace=True)\n",
    "\n",
    "X = df[list(df.columns)[1:-2]]\n",
    "y = df[['cd/A']]\n",
    "\n",
    "# preprocessing/scaling data/ standardization\n",
    "X = preprocessing.minmax_scale(X)\n",
    "y = preprocessing.minmax_scale(y)"
   ]
  },
  {
   "cell_type": "code",
   "execution_count": 18,
   "metadata": {
    "collapsed": false
   },
   "outputs": [
    {
     "name": "stdout",
     "output_type": "stream",
     "text": [
      "LASS: -0.763429 (0.780868)\n",
      "RIDG: -1.980874 (2.789198)\n",
      "GRB: -0.161158 (0.658490)\n",
      "SVR: -0.730834 (0.754829)\n",
      "KNN: -0.665779 (1.169970)\n",
      "DTR: -0.803199 (1.478900)\n",
      "RFR: -0.190511 (0.698394)\n"
     ]
    }
   ],
   "source": [
    "# prepare models. here I used the model right away using the default parameter\n",
    "regressor = []\n",
    "# regressor.append(('LR', LinearRegression(fit_intercept=True, normalize=False, copy_X=True, n_jobs=-1)))\n",
    "regressor.append(('LASS', Lasso(alpha=0.01)))\n",
    "regressor.append(('RIDG', Ridge(fit_intercept=True, alpha=0.1)))\n",
    "regressor.append(('GRB', GradientBoostingRegressor()))\n",
    "regressor.append(('SVR', SVR(kernel='rbf')))\n",
    "regressor.append(('KNN', KNeighborsRegressor()))\n",
    "regressor.append(('DTR', DecisionTreeRegressor()))\n",
    "regressor.append(('RFR', RandomForestRegressor()))\n",
    "\n",
    "# evaluate each model in turn\n",
    "results = []\n",
    "names = []\n",
    "\n",
    "# Calculate the r-squared for every algorithm (mean score of cross validated data)\n",
    "for name, reg in regressor:\n",
    "    kfold = KFold(n_splits=5, random_state=2)\n",
    "    cv_results = cross_val_score(reg, X, y.ravel(), cv=kfold)\n",
    "    results.append(cv_results)\n",
    "    names.append(name)\n",
    "    msg = \"%s: %f (%f)\" % (name, cv_results.mean(), cv_results.std())\n",
    "    print(msg)"
   ]
  },
  {
   "cell_type": "code",
   "execution_count": 4,
   "metadata": {
    "collapsed": false
   },
   "outputs": [
    {
     "data": {
      "image/png": "[encoded data removed]",
      "text/plain": [
       "<matplotlib.figure.Figure at 0x19dfb4eb160>"
      ]
     },
     "metadata": {},
     "output_type": "display_data"
    }
   ],
   "source": [
    "# boxplot algorithm comparison\n",
    "fig = plt.figure()\n",
    "fig.suptitle('Algorithm Comparison')\n",
    "ax = fig.add_subplot(111)\n",
    "plt.boxplot(results)\n",
    "ax.set_xticklabels(names)\n",
    "plt.show()"
   ]
  },
  {
   "cell_type": "code",
   "execution_count": 10,
   "metadata": {
    "collapsed": false
   },
   "outputs": [
    {
     "name": "stdout",
     "output_type": "stream",
     "text": [
      "R-squared:  0.783039139528\n",
      "MS Error:  0.011280911903\n"
     ]
    }
   ],
   "source": [
    "from sklearn.model_selection import train_test_split, cross_val_score\n",
    "from sklearn.metrics import mean_squared_error\n",
    "\n",
    "X_train, X_test, y_train, y_test = train_test_split(X, y,test_size=0.25, random_state=7)\n",
    "\n",
    "regressor = RandomForestRegressor(random_state=2)\n",
    "regressor.fit(X_train, y_train.ravel())\n",
    "y_predictions = regressor.predict(X_test)\n",
    "\n",
    "# Check how our model is doing\n",
    "print('R-squared: ', regressor.score(X_test, y_test))\n",
    "print('MS Error: ', mean_squared_error(y_test, y_predictions))"
   ]
  },
  {
   "cell_type": "code",
   "execution_count": 14,
   "metadata": {
    "collapsed": false
   },
   "outputs": [
    {
     "name": "stdout",
     "output_type": "stream",
     "text": [
      "scores:  [ 0.51177478  0.72291621  0.52611334  0.6410401 ]\n",
      "mean score:  0.60046110853\n"
     ]
    }
   ],
   "source": [
    "from sklearn.model_selection import KFold\n",
    "kfold = KFold(n_splits=4, shuffle=True, random_state=2)\n",
    "scores = cross_val_score(regressor, X, y.ravel(), cv=kfold)\n",
    "print('scores: ', scores)\n",
    "print('mean score: ', scores.mean())"
   ]
  },
  {
   "cell_type": "code",
   "execution_count": 16,
   "metadata": {
    "collapsed": false
   },
   "outputs": [
    {
     "name": "stdout",
     "output_type": "stream",
     "text": [
      "scores:  [ 0.69950191  0.45297735  0.70414993  0.63925064  0.68012741  0.29619859\n",
      "  0.28290099  0.70969624  0.69031113  0.71770582]\n",
      "mean score:  0.587282001318\n"
     ]
    }
   ],
   "source": [
    "from sklearn.model_selection import KFold\n",
    "kfold = KFold(n_splits=10, shuffle=True, random_state=2)\n",
    "scores = cross_val_score(regressor, X, y.ravel(), cv=kfold)\n",
    "print('scores: ', scores)\n",
    "print('mean score: ', scores.mean())"
   ]
  }
 ],
 "metadata": {
  "kernelspec": {
   "display_name": "Python [default]",
   "language": "python",
   "name": "python3"
  },
  "language_info": {
   "codemirror_mode": {
    "name": "ipython",
    "version": 3
   },
   "file_extension": ".py",
   "mimetype": "text/x-python",
   "name": "python",
   "nbconvert_exporter": "python",
   "pygments_lexer": "ipython3",
   "version": "3.6.0"
  }
 },
 "nbformat": 4,
 "nbformat_minor": 2
}
