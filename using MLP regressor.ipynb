{
 "cells": [
  {
   "cell_type": "markdown",
   "metadata": {},
   "source": [
    "# Using MLP regressor\n",
    "\n",
    "this model used multi layer perceptron regressor."
   ]
  },
  {
   "cell_type": "code",
   "execution_count": 2,
   "metadata": {
    "collapsed": false
   },
   "outputs": [],
   "source": [
    "from sklearn.neural_network import MLPRegressor\n",
    "from sklearn import preprocessing\n",
    "from sklearn.model_selection import train_test_split\n",
    "import pandas as pd\n",
    "import numpy as np\n",
    "import matplotlib.pylab as plt\n",
    "\n",
    "df = pd.read_excel('C:/Anaconda3/projects/oled/oled.xlsx', sheetname='Sheet3')\n",
    "df = df.fillna(value=0)\n",
    "X = df[list(df.columns)[:-4]]\n",
    "y = df.iloc[:, -1:]\n",
    "y = np.array(y)\n",
    "\n"
   ]
  },
  {
   "cell_type": "code",
   "execution_count": 8,
   "metadata": {
    "collapsed": true
   },
   "outputs": [],
   "source": [
    "# preprocessing/scaling data/ standardization\n",
    "X = preprocessing.minmax_scale(X)\n",
    "# y = preprocessing.scale(y)\n",
    "\n",
    "# print(X[:1])\n",
    "# print(y[:5])\n",
    "\n",
    "X_train, X_test, y_train, y_test = train_test_split(X, y, random_state=278)"
   ]
  },
  {
   "cell_type": "code",
   "execution_count": 9,
   "metadata": {
    "collapsed": false
   },
   "outputs": [
    {
     "name": "stdout",
     "output_type": "stream",
     "text": [
      "R-squared:  0.583205982156\n"
     ]
    }
   ],
   "source": [
    "# choose regression algorithms\n",
    "regressor = MLPRegressor(hidden_layer_sizes=(100, ), activation='relu', solver='adam', alpha=0.0001, batch_size='auto',\n",
    "                         learning_rate='constant', learning_rate_init=0.001, max_iter=10000, shuffle=True)\n",
    "\n",
    "\n",
    "# print r squared, scores and coefficient\n",
    "regressor.fit(X_train, y_train.ravel())\n",
    "y_predictions = regressor.predict(X_test)\n",
    "print('R-squared: ', regressor.score(X_test, y_test))\n",
    "\n"
   ]
  },
  {
   "cell_type": "code",
   "execution_count": 10,
   "metadata": {
    "collapsed": false
   },
   "outputs": [
    {
     "data": {
      "image/png": "[encoded data removed]",
      "text/plain": [
       "<matplotlib.figure.Figure at 0x17d7fb537f0>"
      ]
     },
     "metadata": {},
     "output_type": "display_data"
    }
   ],
   "source": [
    "\n",
    "plt.scatter(y_test, y_predictions)\n",
    "plt.plot([0, 70], [0, 70], 'g-', label='true line')\n",
    "plt.xlabel('true efficiency')\n",
    "plt.ylabel('predicted efficiency')\n",
    "plt.title(' comparison ')\n",
    "plt.show()"
   ]
  },
  {
   "cell_type": "code",
   "execution_count": 12,
   "metadata": {
    "collapsed": false
   },
   "outputs": [
    {
     "name": "stdout",
     "output_type": "stream",
     "text": [
      "Predicted: 0.693284467229, Actual: [4.0]\n",
      "Predicted: 53.3410698752, Actual: [55.0]\n",
      "Predicted: 33.6675682598, Actual: [36.3]\n",
      "Predicted: 6.64314640595, Actual: [0.69]\n",
      "Predicted: 28.4025902792, Actual: [14.7]\n",
      "Predicted: 1.56314082246, Actual: [12.0]\n",
      "Predicted: 21.0431218273, Actual: [7.4]\n",
      "Predicted: 32.3442826327, Actual: [26.3]\n",
      "Predicted: 5.26967337264, Actual: [0.47]\n",
      "Predicted: 36.1750993808, Actual: [51.8]\n",
      "Predicted: 42.7864591209, Actual: [61.1]\n",
      "Predicted: 9.7461942447, Actual: [3.12]\n",
      "Predicted: 11.6711074955, Actual: [8.7]\n",
      "Predicted: 55.8186530469, Actual: [50.0]\n",
      "Predicted: 38.916387616, Actual: [40.8]\n",
      "Predicted: 11.6764537565, Actual: [3.38]\n",
      "Predicted: 28.4824608471, Actual: [14.4]\n",
      "Predicted: 42.1305161849, Actual: [14.6]\n",
      "Predicted: 30.7953707655, Actual: [10.0]\n",
      "Predicted: 51.0913110973, Actual: [60.3]\n",
      "Predicted: 1.91782775302, Actual: [1.87]\n",
      "Predicted: 62.9147838175, Actual: [25.6]\n",
      "Predicted: 17.0606362312, Actual: [5.47]\n",
      "Predicted: 40.6373852585, Actual: [60.5]\n",
      "Predicted: 11.6711074955, Actual: [10.2]\n"
     ]
    }
   ],
   "source": [
    "# print predicted value and actual value\n",
    "y_test = y_test.tolist()\n",
    "for i, prediction in enumerate(y_predictions):\n",
    "    print('Predicted: %s, Actual: %s' % (prediction, y_test[i]))"
   ]
  },
  {
   "cell_type": "code",
   "execution_count": null,
   "metadata": {
    "collapsed": true
   },
   "outputs": [],
   "source": []
  }
 ],
 "metadata": {
  "kernelspec": {
   "display_name": "Python 3",
   "language": "python",
   "name": "python3"
  },
  "language_info": {
   "codemirror_mode": {
    "name": "ipython",
    "version": 3
   },
   "file_extension": ".py",
   "mimetype": "text/x-python",
   "name": "python",
   "nbconvert_exporter": "python",
   "pygments_lexer": "ipython3",
   "version": "3.6.0"
  }
 },
 "nbformat": 4,
 "nbformat_minor": 2
}
