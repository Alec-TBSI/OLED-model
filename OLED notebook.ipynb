{
 "cells": [
  {
   "cell_type": "markdown",
   "metadata": {},
   "source": [
    "# Using linear regression to model OLED\n"
   ]
  },
  {
   "cell_type": "markdown",
   "metadata": {},
   "source": [
    "1- Import dependencies"
   ]
  },
  {
   "cell_type": "code",
   "execution_count": 1,
   "metadata": {
    "collapsed": true
   },
   "outputs": [],
   "source": [
    "import pandas as pd\n",
    "import numpy as np\n",
    "import matplotlib.pylab as plt\n",
    "from sklearn.linear_model import LinearRegression, LogisticRegression, Ridge, RidgeCV, Lasso, LassoCV\n",
    "from sklearn.ensemble import AdaBoostRegressor\n",
    "from sklearn.preprocessing import StandardScaler\n",
    "from sklearn import preprocessing\n",
    "from sklearn.model_selection import train_test_split, cross_val_score\n",
    "%matplotlib inline"
   ]
  },
  {
   "cell_type": "markdown",
   "metadata": {},
   "source": [
    "import data"
   ]
  },
  {
   "cell_type": "code",
   "execution_count": 8,
   "metadata": {
    "collapsed": false
   },
   "outputs": [
    {
     "data": {
      "text/html": [
       "<div>\n",
       "<table border=\"1\" class=\"dataframe\">\n",
       "  <thead>\n",
       "    <tr style=\"text-align: right;\">\n",
       "      <th></th>\n",
       "      <th>cd/a</th>\n",
       "    </tr>\n",
       "  </thead>\n",
       "  <tbody>\n",
       "    <tr>\n",
       "      <th>0</th>\n",
       "      <td>28.24</td>\n",
       "    </tr>\n",
       "    <tr>\n",
       "      <th>1</th>\n",
       "      <td>40.80</td>\n",
       "    </tr>\n",
       "    <tr>\n",
       "      <th>2</th>\n",
       "      <td>26.30</td>\n",
       "    </tr>\n",
       "    <tr>\n",
       "      <th>3</th>\n",
       "      <td>3.38</td>\n",
       "    </tr>\n",
       "    <tr>\n",
       "      <th>4</th>\n",
       "      <td>1.00</td>\n",
       "    </tr>\n",
       "  </tbody>\n",
       "</table>\n",
       "</div>"
      ],
      "text/plain": [
       "    cd/a\n",
       "0  28.24\n",
       "1  40.80\n",
       "2  26.30\n",
       "3   3.38\n",
       "4   1.00"
      ]
     },
     "execution_count": 8,
     "metadata": {},
     "output_type": "execute_result"
    }
   ],
   "source": [
    "df = pd.read_excel('C:/Anaconda3/projects/oled/oled.xlsx', sheetname='Sheet3')\n",
    "df = df.fillna(value=0)\n",
    "X = df[list(df.columns)[:-5]]\n",
    "y = df.iloc[:, -1:]\n",
    "\n",
    "#display data \n",
    "X.head()\n",
    "y.head()"
   ]
  },
  {
   "cell_type": "code",
   "execution_count": 9,
   "metadata": {
    "collapsed": true
   },
   "outputs": [],
   "source": [
    "X = preprocessing.scale(X)\n",
    "y = preprocessing.scale(y)\n",
    "\n",
    "X_train, X_test, y_train, y_test = train_test_split(X, y, random_state=2)"
   ]
  },
  {
   "cell_type": "code",
   "execution_count": 10,
   "metadata": {
    "collapsed": true
   },
   "outputs": [],
   "source": [
    "regressor = AdaBoostRegressor(base_estimator=None, n_estimators=100, learning_rate=1.0,\n",
    "                              loss='linear', random_state=None)"
   ]
  },
  {
   "cell_type": "code",
   "execution_count": 11,
   "metadata": {
    "collapsed": false
   },
   "outputs": [
    {
     "name": "stdout",
     "output_type": "stream",
     "text": [
      "R-squared:  0.539395802189\n"
     ]
    }
   ],
   "source": [
    "regressor.fit(X_train, y_train.ravel())\n",
    "y_predictions = regressor.predict(X_test)\n",
    "\n",
    "# print(regressor.feature_importances_)\n",
    "print('R-squared: ', regressor.score(X_test, y_test))"
   ]
  },
  {
   "cell_type": "code",
   "execution_count": 12,
   "metadata": {
    "collapsed": false
   },
   "outputs": [
    {
     "data": {
      "image/png": "[encoded data removed]",
      "text/plain": [
       "<matplotlib.figure.Figure at 0x1d4028a1940>"
      ]
     },
     "metadata": {},
     "output_type": "display_data"
    }
   ],
   "source": [
    "plt.scatter(y_test, y_predictions)\n",
    "plt.plot([-1, 2], [-1, 2], 'g-', label='true line')\n",
    "plt.xlabel('true efficiency')\n",
    "plt.ylabel('predicted efficiency')\n",
    "plt.title(' comparison ')\n",
    "plt.show()"
   ]
  },
  {
   "cell_type": "code",
   "execution_count": 14,
   "metadata": {
    "collapsed": false
   },
   "outputs": [
    {
     "name": "stdout",
     "output_type": "stream",
     "text": [
      "Predicted: -0.343179009569, Actual: [0.33224204684861586]\n",
      "Predicted: 1.31673781548, Actual: [1.42646608172985]\n",
      "Predicted: -0.457457374552, Actual: [-0.7361748173986268]\n",
      "Predicted: -0.491006696376, Actual: [-1.004569391992137]\n",
      "Predicted: 1.25835079874, Actual: [1.1735558095167347]\n",
      "Predicted: -0.261440183054, Actual: [-0.1890627999580097]\n",
      "Predicted: 1.08691745096, Actual: [0.09481607701589535]\n",
      "Predicted: -0.448830406082, Actual: [-0.5193945840730992]\n",
      "Predicted: 1.25581616591, Actual: [1.576147671407]\n",
      "Predicted: -0.236806065631, Actual: [-0.15809419519722018]\n",
      "Predicted: -0.746497685652, Actual: [-0.9999241012780186]\n",
      "Predicted: -0.558664495388, Actual: [-0.43629549463164696]\n",
      "Predicted: 0.3709528028, Actual: [0.48708507065256407]\n",
      "Predicted: -0.133577383095, Actual: [0.8432240254016449]\n",
      "Predicted: -0.565847491214, Actual: [0.19494789907578175]\n",
      "Predicted: 0.777415740285, Actual: [1.596793407914193]\n",
      "Predicted: -0.515523508478, Actual: [-1.088184624846269]\n",
      "Predicted: -0.211298816169, Actual: [0.936129839684014]\n",
      "Predicted: 0.360916680886, Actual: [0.47160076827216935]\n",
      "Predicted: 0.373533519863, Actual: [0.7038653039780917]\n",
      "Predicted: 1.25581616591, Actual: [2.1697125959888015]\n",
      "Predicted: -0.300549777097, Actual: [-0.10131841980243908]\n",
      "Predicted: 0.447858171289, Actual: [-1.0603128805615583]\n",
      "Predicted: 0.447858171289, Actual: [-1.0422478611177644]\n",
      "Predicted: 1.58453500186, Actual: [2.4019771316947236]\n"
     ]
    }
   ],
   "source": [
    "# print predicted value and actual value\n",
    "y_test = y_test.tolist()\n",
    "for i, prediction in enumerate(y_predictions):\n",
    "    print('Predicted: %s,  Actual: %s' % (prediction, y_test[i]))"
   ]
  },
  {
   "cell_type": "code",
   "execution_count": null,
   "metadata": {
    "collapsed": true
   },
   "outputs": [],
   "source": []
  }
 ],
 "metadata": {
  "kernelspec": {
   "display_name": "Python 3",
   "language": "python",
   "name": "python3"
  },
  "language_info": {
   "codemirror_mode": {
    "name": "ipython",
    "version": 3
   },
   "file_extension": ".py",
   "mimetype": "text/x-python",
   "name": "python",
   "nbconvert_exporter": "python",
   "pygments_lexer": "ipython3",
   "version": "3.6.0"
  }
 },
 "nbformat": 4,
 "nbformat_minor": 2
}
