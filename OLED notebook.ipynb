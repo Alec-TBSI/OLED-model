{
 "cells": [
  {
   "cell_type": "markdown",
   "metadata": {},
   "source": [
    "# Using linear regression to model OLED\n"
   ]
  },
  {
   "cell_type": "markdown",
   "metadata": {},
   "source": [
    "1- Import dependencies"
   ]
  },
  {
   "cell_type": "code",
   "execution_count": 1,
   "metadata": {
    "collapsed": true
   },
   "outputs": [],
   "source": [
    "import pandas as pd\n",
    "import numpy as np\n",
    "import matplotlib.pylab as plt\n",
    "from sklearn.linear_model import LinearRegression\n",
    "from sklearn import preprocessing\n",
    "from sklearn.model_selection import train_test_split, cross_val_score\n",
    "%matplotlib inline"
   ]
  },
  {
   "cell_type": "markdown",
   "metadata": {},
   "source": [
    "import data"
   ]
  },
  {
   "cell_type": "code",
   "execution_count": 2,
   "metadata": {
    "collapsed": false
   },
   "outputs": [
    {
     "data": {
      "text/html": [
       "<div>\n",
       "<table border=\"1\" class=\"dataframe\">\n",
       "  <thead>\n",
       "    <tr style=\"text-align: right;\">\n",
       "      <th></th>\n",
       "      <th>lumo_1</th>\n",
       "      <th>homo_1</th>\n",
       "      <th>t1</th>\n",
       "      <th>lumo_2</th>\n",
       "      <th>homo_2</th>\n",
       "      <th>t2</th>\n",
       "      <th>lumo_3</th>\n",
       "      <th>homo_3</th>\n",
       "      <th>t3</th>\n",
       "      <th>LUMO</th>\n",
       "      <th>...</th>\n",
       "      <th>t4</th>\n",
       "      <th>lumo5</th>\n",
       "      <th>homo5</th>\n",
       "      <th>t5</th>\n",
       "      <th>lumo6</th>\n",
       "      <th>homo6</th>\n",
       "      <th>t6</th>\n",
       "      <th>wf_1</th>\n",
       "      <th>t7</th>\n",
       "      <th>t8</th>\n",
       "    </tr>\n",
       "  </thead>\n",
       "  <tbody>\n",
       "    <tr>\n",
       "      <th>0</th>\n",
       "      <td>3.3</td>\n",
       "      <td>5.2</td>\n",
       "      <td>60</td>\n",
       "      <td>2.0</td>\n",
       "      <td>5.8</td>\n",
       "      <td>20.0</td>\n",
       "      <td>2.4</td>\n",
       "      <td>5.9</td>\n",
       "      <td>10.0</td>\n",
       "      <td>1.09</td>\n",
       "      <td>...</td>\n",
       "      <td>25.0</td>\n",
       "      <td>2.5</td>\n",
       "      <td>6.8</td>\n",
       "      <td>5.0</td>\n",
       "      <td>2.80</td>\n",
       "      <td>6.20</td>\n",
       "      <td>30.0</td>\n",
       "      <td>3.5</td>\n",
       "      <td>1.5</td>\n",
       "      <td>200</td>\n",
       "    </tr>\n",
       "    <tr>\n",
       "      <th>1</th>\n",
       "      <td>5.7</td>\n",
       "      <td>9.5</td>\n",
       "      <td>10</td>\n",
       "      <td>2.0</td>\n",
       "      <td>5.8</td>\n",
       "      <td>40.0</td>\n",
       "      <td>0.0</td>\n",
       "      <td>0.0</td>\n",
       "      <td>0.0</td>\n",
       "      <td>2.02</td>\n",
       "      <td>...</td>\n",
       "      <td>20.0</td>\n",
       "      <td>0.0</td>\n",
       "      <td>0.0</td>\n",
       "      <td>0.0</td>\n",
       "      <td>2.73</td>\n",
       "      <td>6.68</td>\n",
       "      <td>45.0</td>\n",
       "      <td>4.3</td>\n",
       "      <td>2.0</td>\n",
       "      <td>120</td>\n",
       "    </tr>\n",
       "    <tr>\n",
       "      <th>2</th>\n",
       "      <td>2.3</td>\n",
       "      <td>5.3</td>\n",
       "      <td>10</td>\n",
       "      <td>2.0</td>\n",
       "      <td>5.6</td>\n",
       "      <td>70.0</td>\n",
       "      <td>0.0</td>\n",
       "      <td>0.0</td>\n",
       "      <td>0.0</td>\n",
       "      <td>2.40</td>\n",
       "      <td>...</td>\n",
       "      <td>20.0</td>\n",
       "      <td>0.0</td>\n",
       "      <td>0.0</td>\n",
       "      <td>0.0</td>\n",
       "      <td>2.73</td>\n",
       "      <td>6.68</td>\n",
       "      <td>45.0</td>\n",
       "      <td>3.5</td>\n",
       "      <td>1.0</td>\n",
       "      <td>100</td>\n",
       "    </tr>\n",
       "    <tr>\n",
       "      <th>3</th>\n",
       "      <td>3.3</td>\n",
       "      <td>5.2</td>\n",
       "      <td>40</td>\n",
       "      <td>0.0</td>\n",
       "      <td>0.0</td>\n",
       "      <td>0.0</td>\n",
       "      <td>0.0</td>\n",
       "      <td>0.0</td>\n",
       "      <td>0.0</td>\n",
       "      <td>2.70</td>\n",
       "      <td>...</td>\n",
       "      <td>50.0</td>\n",
       "      <td>0.0</td>\n",
       "      <td>0.0</td>\n",
       "      <td>0.0</td>\n",
       "      <td>0.00</td>\n",
       "      <td>0.00</td>\n",
       "      <td>0.0</td>\n",
       "      <td>4.2</td>\n",
       "      <td>1.0</td>\n",
       "      <td>100</td>\n",
       "    </tr>\n",
       "    <tr>\n",
       "      <th>4</th>\n",
       "      <td>3.3</td>\n",
       "      <td>5.2</td>\n",
       "      <td>50</td>\n",
       "      <td>2.7</td>\n",
       "      <td>5.8</td>\n",
       "      <td>5.0</td>\n",
       "      <td>0.0</td>\n",
       "      <td>0.0</td>\n",
       "      <td>0.0</td>\n",
       "      <td>2.02</td>\n",
       "      <td>...</td>\n",
       "      <td>30.0</td>\n",
       "      <td>0.0</td>\n",
       "      <td>0.0</td>\n",
       "      <td>0.0</td>\n",
       "      <td>2.80</td>\n",
       "      <td>6.20</td>\n",
       "      <td>30.0</td>\n",
       "      <td>3.5</td>\n",
       "      <td>1.0</td>\n",
       "      <td>200</td>\n",
       "    </tr>\n",
       "  </tbody>\n",
       "</table>\n",
       "<p>5 rows × 21 columns</p>\n",
       "</div>"
      ],
      "text/plain": [
       "   lumo_1  homo_1  t1  lumo_2  homo_2    t2  lumo_3  homo_3    t3  LUMO ...   \\\n",
       "0     3.3     5.2  60     2.0     5.8  20.0     2.4     5.9  10.0  1.09 ...    \n",
       "1     5.7     9.5  10     2.0     5.8  40.0     0.0     0.0   0.0  2.02 ...    \n",
       "2     2.3     5.3  10     2.0     5.6  70.0     0.0     0.0   0.0  2.40 ...    \n",
       "3     3.3     5.2  40     0.0     0.0   0.0     0.0     0.0   0.0  2.70 ...    \n",
       "4     3.3     5.2  50     2.7     5.8   5.0     0.0     0.0   0.0  2.02 ...    \n",
       "\n",
       "     t4  lumo5  homo5   t5  lumo6  homo6    t6  wf_1   t7   t8  \n",
       "0  25.0    2.5    6.8  5.0   2.80   6.20  30.0   3.5  1.5  200  \n",
       "1  20.0    0.0    0.0  0.0   2.73   6.68  45.0   4.3  2.0  120  \n",
       "2  20.0    0.0    0.0  0.0   2.73   6.68  45.0   3.5  1.0  100  \n",
       "3  50.0    0.0    0.0  0.0   0.00   0.00   0.0   4.2  1.0  100  \n",
       "4  30.0    0.0    0.0  0.0   2.80   6.20  30.0   3.5  1.0  200  \n",
       "\n",
       "[5 rows x 21 columns]"
      ]
     },
     "execution_count": 2,
     "metadata": {},
     "output_type": "execute_result"
    }
   ],
   "source": [
    "df = pd.read_excel('C:/Anaconda3/projects/oled/oled.xlsx', sheetname='Sheet3')\n",
    "df = df.fillna(value=0)\n",
    "X = df[list(df.columns)[:-4]]\n",
    "y = df.iloc[:, -1:]\n",
    "\n",
    "#display data \n",
    "X.head()"
   ]
  },
  {
   "cell_type": "code",
   "execution_count": 3,
   "metadata": {
    "collapsed": false
   },
   "outputs": [
    {
     "data": {
      "text/html": [
       "<div>\n",
       "<table border=\"1\" class=\"dataframe\">\n",
       "  <thead>\n",
       "    <tr style=\"text-align: right;\">\n",
       "      <th></th>\n",
       "      <th>cd/a</th>\n",
       "    </tr>\n",
       "  </thead>\n",
       "  <tbody>\n",
       "    <tr>\n",
       "      <th>0</th>\n",
       "      <td>28.24</td>\n",
       "    </tr>\n",
       "    <tr>\n",
       "      <th>1</th>\n",
       "      <td>40.80</td>\n",
       "    </tr>\n",
       "    <tr>\n",
       "      <th>2</th>\n",
       "      <td>26.30</td>\n",
       "    </tr>\n",
       "    <tr>\n",
       "      <th>3</th>\n",
       "      <td>3.38</td>\n",
       "    </tr>\n",
       "    <tr>\n",
       "      <th>4</th>\n",
       "      <td>1.00</td>\n",
       "    </tr>\n",
       "  </tbody>\n",
       "</table>\n",
       "</div>"
      ],
      "text/plain": [
       "    cd/a\n",
       "0  28.24\n",
       "1  40.80\n",
       "2  26.30\n",
       "3   3.38\n",
       "4   1.00"
      ]
     },
     "execution_count": 3,
     "metadata": {},
     "output_type": "execute_result"
    }
   ],
   "source": [
    "y.head()"
   ]
  },
  {
   "cell_type": "code",
   "execution_count": 4,
   "metadata": {
    "collapsed": false
   },
   "outputs": [],
   "source": [
    "# preprocess the data and split the data for \n",
    "X = preprocessing.scale(X)\n",
    "X_train, X_test, y_train, y_test = train_test_split(X, y, random_state=278)\n",
    "# X[:5]"
   ]
  },
  {
   "cell_type": "code",
   "execution_count": 5,
   "metadata": {
    "collapsed": true
   },
   "outputs": [],
   "source": [
    "regressor = LinearRegression(fit_intercept=True, normalize=False, copy_X=True, n_jobs=-1)"
   ]
  },
  {
   "cell_type": "code",
   "execution_count": 6,
   "metadata": {
    "collapsed": false
   },
   "outputs": [
    {
     "name": "stdout",
     "output_type": "stream",
     "text": [
      "R-squared:  0.488756849655\n"
     ]
    }
   ],
   "source": [
    "regressor.fit(X_train, y_train)\n",
    "y_predictions = regressor.predict(X_test)\n",
    "\n",
    "print('R-squared: ', regressor.score(X_test, y_test))"
   ]
  },
  {
   "cell_type": "code",
   "execution_count": 7,
   "metadata": {
    "collapsed": false
   },
   "outputs": [
    {
     "data": {
      "image/png": "[encoded data removed]",
      "text/plain": [
       "<matplotlib.figure.Figure at 0x17d575a1f98>"
      ]
     },
     "metadata": {},
     "output_type": "display_data"
    }
   ],
   "source": [
    "plt.scatter(y_test, y_predictions)\n",
    "plt.plot([0, 100], [-0,100], 'g-', label='true line')\n",
    "plt.xlabel('true efficiency')\n",
    "plt.ylabel('predicted efficiency')\n",
    "plt.title(' comparison ')\n",
    "plt.show()"
   ]
  },
  {
   "cell_type": "code",
   "execution_count": 8,
   "metadata": {
    "collapsed": false
   },
   "outputs": [
    {
     "name": "stdout",
     "output_type": "stream",
     "text": [
      "Predicted: [ 0.27595328],  Actual: [4.0]\n",
      "Predicted: [ 74.1212664],  Actual: [55.0]\n",
      "Predicted: [ 51.74668053],  Actual: [36.3]\n",
      "Predicted: [ 6.05779334],  Actual: [0.69]\n",
      "Predicted: [ 16.57048741],  Actual: [14.7]\n",
      "Predicted: [-1.87341699],  Actual: [12.0]\n",
      "Predicted: [ 17.09171774],  Actual: [7.4]\n",
      "Predicted: [ 53.60263596],  Actual: [26.3]\n",
      "Predicted: [ 1.35794395],  Actual: [0.47]\n",
      "Predicted: [ 28.47459263],  Actual: [51.8]\n",
      "Predicted: [ 38.05988798],  Actual: [61.1]\n",
      "Predicted: [ 7.1562221],  Actual: [3.12]\n",
      "Predicted: [ 15.31789394],  Actual: [8.7]\n",
      "Predicted: [ 51.60343217],  Actual: [50.0]\n",
      "Predicted: [ 30.98901377],  Actual: [40.8]\n",
      "Predicted: [ 1.62619067],  Actual: [3.38]\n",
      "Predicted: [-7.22459186],  Actual: [14.4]\n",
      "Predicted: [ 26.56931297],  Actual: [14.6]\n",
      "Predicted: [ 38.37393656],  Actual: [10.0]\n",
      "Predicted: [ 36.84023121],  Actual: [60.3]\n",
      "Predicted: [-4.20936908],  Actual: [1.87]\n",
      "Predicted: [ 23.8115423],  Actual: [25.6]\n",
      "Predicted: [ 23.37736548],  Actual: [5.47]\n",
      "Predicted: [ 37.40660076],  Actual: [60.5]\n",
      "Predicted: [ 15.31789394],  Actual: [10.2]\n"
     ]
    }
   ],
   "source": [
    "# print predicted value and actual value\n",
    "y_test = y_test.values.tolist()\n",
    "for i, prediction in enumerate(y_predictions):\n",
    "    print('Predicted: %s,  Actual: %s' % (prediction, y_test[i]))"
   ]
  },
  {
   "cell_type": "markdown",
   "metadata": {
    "collapsed": true
   },
   "source": [
    "# Try using regularized model"
   ]
  },
  {
   "cell_type": "code",
   "execution_count": 9,
   "metadata": {
    "collapsed": true
   },
   "outputs": [],
   "source": [
    "from sklearn.linear_model import Ridge, RidgeCV, ElasticNet, LassoCV, LassoLarsCV\n",
    "from sklearn.model_selection import cross_val_score\n",
    "\n",
    "def rmse_cv(model):\n",
    "    rmse= np.sqrt(-cross_val_score(model, X_train, y_train, scoring=\"neg_mean_squared_error\", cv = 5))\n",
    "    return(rmse)"
   ]
  },
  {
   "cell_type": "code",
   "execution_count": 17,
   "metadata": {
    "collapsed": false
   },
   "outputs": [],
   "source": [
    "regressor = Ridge()\n",
    "alphas = [0.05, 0.1, 0.3, 1, 3, 5, 10, 15, 30, 40]\n",
    "cv_ridge = [rmse_cv(Ridge(alpha = alpha)).mean() \n",
    "            for alpha in alphas]"
   ]
  },
  {
   "cell_type": "code",
   "execution_count": 18,
   "metadata": {
    "collapsed": false
   },
   "outputs": [
    {
     "data": {
      "text/plain": [
       "<matplotlib.text.Text at 0x17d58c45a90>"
      ]
     },
     "execution_count": 18,
     "metadata": {},
     "output_type": "execute_result"
    },
    {
     "data": {
      "image/png": "[encoded data removed]",
      "text/plain": [
       "<matplotlib.figure.Figure at 0x17d58cc7da0>"
      ]
     },
     "metadata": {},
     "output_type": "display_data"
    }
   ],
   "source": [
    "cv_ridge = pd.Series(cv_ridge, index = alphas)\n",
    "cv_ridge.plot(title = \"Validation - don't just Do It\")\n",
    "plt.xlabel(\"alpha\")\n",
    "plt.ylabel(\"rmse\")\n"
   ]
  },
  {
   "cell_type": "code",
   "execution_count": 12,
   "metadata": {
    "collapsed": false
   },
   "outputs": [
    {
     "data": {
      "text/plain": [
       "13.635479146948757"
      ]
     },
     "execution_count": 12,
     "metadata": {},
     "output_type": "execute_result"
    }
   ],
   "source": [
    "cv_ridge.min()"
   ]
  },
  {
   "cell_type": "code",
   "execution_count": 13,
   "metadata": {
    "collapsed": false
   },
   "outputs": [
    {
     "name": "stdout",
     "output_type": "stream",
     "text": [
      "R-squared:  0.481927465708\n"
     ]
    }
   ],
   "source": [
    "regressor = Ridge(alpha=1)\n",
    "regressor.fit(X_train, y_train)\n",
    "y_predictions = regressor.predict(X_test)\n",
    "\n",
    "print('R-squared: ', regressor.score(X_test, y_test))"
   ]
  },
  {
   "cell_type": "code",
   "execution_count": 14,
   "metadata": {
    "collapsed": false
   },
   "outputs": [
    {
     "data": {
      "image/png": "[encoded data removed]",
      "text/plain": [
       "<matplotlib.figure.Figure at 0x17d58b34da0>"
      ]
     },
     "metadata": {},
     "output_type": "display_data"
    }
   ],
   "source": [
    "plt.scatter(y_test, y_predictions)\n",
    "plt.plot([0, 100], [-0,100], 'g-', label='true line')\n",
    "plt.xlabel('true efficiency')\n",
    "plt.ylabel('predicted efficiency')\n",
    "plt.title(' comparison ')\n",
    "plt.show()"
   ]
  }
 ],
 "metadata": {
  "kernelspec": {
   "display_name": "Python 3",
   "language": "python",
   "name": "python3"
  },
  "language_info": {
   "codemirror_mode": {
    "name": "ipython",
    "version": 3
   },
   "file_extension": ".py",
   "mimetype": "text/x-python",
   "name": "python",
   "nbconvert_exporter": "python",
   "pygments_lexer": "ipython3",
   "version": "3.6.0"
  }
 },
 "nbformat": 4,
 "nbformat_minor": 2
}
