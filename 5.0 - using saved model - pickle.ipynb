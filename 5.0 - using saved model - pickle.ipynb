{
 "cells": [
  {
   "cell_type": "code",
   "execution_count": 1,
   "metadata": {
    "collapsed": false
   },
   "outputs": [
    {
     "data": {
      "text/html": [
       "<div>\n",
       "<style>\n",
       "    .dataframe thead tr:only-child th {\n",
       "        text-align: right;\n",
       "    }\n",
       "\n",
       "    .dataframe thead th {\n",
       "        text-align: left;\n",
       "    }\n",
       "\n",
       "    .dataframe tbody tr th {\n",
       "        vertical-align: top;\n",
       "    }\n",
       "</style>\n",
       "<table border=\"1\" class=\"dataframe\">\n",
       "  <thead>\n",
       "    <tr style=\"text-align: right;\">\n",
       "      <th></th>\n",
       "      <th>homo_HIL</th>\n",
       "      <th>thickness_HIL</th>\n",
       "      <th>lumo_HTL1</th>\n",
       "      <th>homo_HTL1</th>\n",
       "      <th>thickness_HTL1</th>\n",
       "      <th>lumo_HTL2</th>\n",
       "      <th>homo_HTL2</th>\n",
       "      <th>thickness_HTL2</th>\n",
       "      <th>lumo_HTL3</th>\n",
       "      <th>homo_HTL3</th>\n",
       "      <th>...</th>\n",
       "      <th>triplet_ETL</th>\n",
       "      <th>total_ETL_thickness</th>\n",
       "      <th>lumo_ETL1</th>\n",
       "      <th>homo_ETL1</th>\n",
       "      <th>thickness_ETL1</th>\n",
       "      <th>lumo_ETL2</th>\n",
       "      <th>homo_ETL2</th>\n",
       "      <th>thickness_ETL2</th>\n",
       "      <th>cathode_workfunction</th>\n",
       "      <th>thickness_EIL</th>\n",
       "    </tr>\n",
       "  </thead>\n",
       "  <tbody>\n",
       "    <tr>\n",
       "      <th>0</th>\n",
       "      <td>5.2</td>\n",
       "      <td>25.0</td>\n",
       "      <td>3.3</td>\n",
       "      <td>5.2</td>\n",
       "      <td>0</td>\n",
       "      <td>3.3</td>\n",
       "      <td>5.2</td>\n",
       "      <td>0</td>\n",
       "      <td>3.3</td>\n",
       "      <td>5.2</td>\n",
       "      <td>...</td>\n",
       "      <td>2.6</td>\n",
       "      <td>35</td>\n",
       "      <td>2.8</td>\n",
       "      <td>6.2</td>\n",
       "      <td>0</td>\n",
       "      <td>2.8</td>\n",
       "      <td>6.2</td>\n",
       "      <td>35.0</td>\n",
       "      <td>2.8</td>\n",
       "      <td>10.0</td>\n",
       "    </tr>\n",
       "    <tr>\n",
       "      <th>1</th>\n",
       "      <td>5.2</td>\n",
       "      <td>25.0</td>\n",
       "      <td>3.3</td>\n",
       "      <td>5.2</td>\n",
       "      <td>0</td>\n",
       "      <td>3.3</td>\n",
       "      <td>5.2</td>\n",
       "      <td>0</td>\n",
       "      <td>3.3</td>\n",
       "      <td>5.2</td>\n",
       "      <td>...</td>\n",
       "      <td>2.6</td>\n",
       "      <td>35</td>\n",
       "      <td>2.8</td>\n",
       "      <td>6.2</td>\n",
       "      <td>0</td>\n",
       "      <td>2.8</td>\n",
       "      <td>6.2</td>\n",
       "      <td>35.0</td>\n",
       "      <td>2.8</td>\n",
       "      <td>10.0</td>\n",
       "    </tr>\n",
       "    <tr>\n",
       "      <th>2</th>\n",
       "      <td>5.2</td>\n",
       "      <td>25.0</td>\n",
       "      <td>3.3</td>\n",
       "      <td>5.2</td>\n",
       "      <td>0</td>\n",
       "      <td>3.3</td>\n",
       "      <td>5.2</td>\n",
       "      <td>0</td>\n",
       "      <td>3.3</td>\n",
       "      <td>5.2</td>\n",
       "      <td>...</td>\n",
       "      <td>2.6</td>\n",
       "      <td>35</td>\n",
       "      <td>2.8</td>\n",
       "      <td>6.2</td>\n",
       "      <td>0</td>\n",
       "      <td>2.8</td>\n",
       "      <td>6.2</td>\n",
       "      <td>35.0</td>\n",
       "      <td>2.8</td>\n",
       "      <td>10.0</td>\n",
       "    </tr>\n",
       "    <tr>\n",
       "      <th>3</th>\n",
       "      <td>5.2</td>\n",
       "      <td>25.0</td>\n",
       "      <td>3.3</td>\n",
       "      <td>5.2</td>\n",
       "      <td>0</td>\n",
       "      <td>3.3</td>\n",
       "      <td>5.2</td>\n",
       "      <td>0</td>\n",
       "      <td>3.3</td>\n",
       "      <td>5.2</td>\n",
       "      <td>...</td>\n",
       "      <td>2.6</td>\n",
       "      <td>35</td>\n",
       "      <td>2.8</td>\n",
       "      <td>6.2</td>\n",
       "      <td>0</td>\n",
       "      <td>2.8</td>\n",
       "      <td>6.2</td>\n",
       "      <td>35.0</td>\n",
       "      <td>2.8</td>\n",
       "      <td>10.0</td>\n",
       "    </tr>\n",
       "    <tr>\n",
       "      <th>4</th>\n",
       "      <td>5.2</td>\n",
       "      <td>25.0</td>\n",
       "      <td>3.3</td>\n",
       "      <td>5.2</td>\n",
       "      <td>0</td>\n",
       "      <td>3.3</td>\n",
       "      <td>5.2</td>\n",
       "      <td>0</td>\n",
       "      <td>3.3</td>\n",
       "      <td>5.2</td>\n",
       "      <td>...</td>\n",
       "      <td>2.6</td>\n",
       "      <td>35</td>\n",
       "      <td>2.8</td>\n",
       "      <td>6.2</td>\n",
       "      <td>0</td>\n",
       "      <td>2.8</td>\n",
       "      <td>6.2</td>\n",
       "      <td>35.0</td>\n",
       "      <td>2.8</td>\n",
       "      <td>10.0</td>\n",
       "    </tr>\n",
       "  </tbody>\n",
       "</table>\n",
       "<p>5 rows × 31 columns</p>\n",
       "</div>"
      ],
      "text/plain": [
       "   homo_HIL  thickness_HIL  lumo_HTL1  homo_HTL1  thickness_HTL1  lumo_HTL2  \\\n",
       "0       5.2           25.0        3.3        5.2               0        3.3   \n",
       "1       5.2           25.0        3.3        5.2               0        3.3   \n",
       "2       5.2           25.0        3.3        5.2               0        3.3   \n",
       "3       5.2           25.0        3.3        5.2               0        3.3   \n",
       "4       5.2           25.0        3.3        5.2               0        3.3   \n",
       "\n",
       "   homo_HTL2  thickness_HTL2  lumo_HTL3  homo_HTL3      ...        \\\n",
       "0        5.2               0        3.3        5.2      ...         \n",
       "1        5.2               0        3.3        5.2      ...         \n",
       "2        5.2               0        3.3        5.2      ...         \n",
       "3        5.2               0        3.3        5.2      ...         \n",
       "4        5.2               0        3.3        5.2      ...         \n",
       "\n",
       "   triplet_ETL  total_ETL_thickness  lumo_ETL1  homo_ETL1  thickness_ETL1  \\\n",
       "0          2.6                   35        2.8        6.2               0   \n",
       "1          2.6                   35        2.8        6.2               0   \n",
       "2          2.6                   35        2.8        6.2               0   \n",
       "3          2.6                   35        2.8        6.2               0   \n",
       "4          2.6                   35        2.8        6.2               0   \n",
       "\n",
       "   lumo_ETL2  homo_ETL2  thickness_ETL2  cathode_workfunction  thickness_EIL  \n",
       "0        2.8        6.2            35.0                   2.8           10.0  \n",
       "1        2.8        6.2            35.0                   2.8           10.0  \n",
       "2        2.8        6.2            35.0                   2.8           10.0  \n",
       "3        2.8        6.2            35.0                   2.8           10.0  \n",
       "4        2.8        6.2            35.0                   2.8           10.0  \n",
       "\n",
       "[5 rows x 31 columns]"
      ]
     },
     "execution_count": 1,
     "metadata": {},
     "output_type": "execute_result"
    }
   ],
   "source": [
    "import pandas as pd\n",
    "import numpy as np\n",
    "from sklearn import model_selection\n",
    "from sklearn.ensemble import RandomForestRegressor\n",
    "import pickle\n",
    "from sklearn.linear_model import LinearRegression\n",
    "from sklearn.preprocessing import MinMaxScaler, Normalizer, StandardScaler\n",
    "from sklearn.model_selection import train_test_split, cross_val_score\n",
    "from sklearn.metrics import mean_squared_error\n",
    "\n",
    "df = pd.read_excel('C:/Anaconda3/projects/oled/oled.xlsx', sheetname='pholed_model')\n",
    "df = df[list(df.columns)[1:-1] + ['cd/A']]\n",
    "df.dropna(axis=0, inplace=True)\n",
    "\n",
    "X = df[list(df.columns)[:-1]]\n",
    "y = df[['cd/A']]\n",
    "\n",
    "X.head()"
   ]
  },
  {
   "cell_type": "code",
   "execution_count": 2,
   "metadata": {
    "collapsed": false
   },
   "outputs": [
    {
     "name": "stdout",
     "output_type": "stream",
     "text": [
      "R-squared:  0.87869391923\n"
     ]
    }
   ],
   "source": [
    "X_train, X_test, y_train, y_test = train_test_split(X, y,test_size=0.25, random_state=12)\n",
    "\n",
    "# filename = 'adaboost_model.sav'\n",
    "filename = 'pholed_rf_model.sav'\n",
    "\n",
    "# load the model from disk\n",
    "loaded_model = pickle.load(open(filename, 'rb'))\n",
    "print('R-squared: ', loaded_model.score(X_test, y_test))"
   ]
  },
  {
   "cell_type": "code",
   "execution_count": 11,
   "metadata": {
    "collapsed": false,
    "scrolled": false
   },
   "outputs": [
    {
     "name": "stdout",
     "output_type": "stream",
     "text": [
      "(348840, 31)\n"
     ]
    },
    {
     "name": "stderr",
     "output_type": "stream",
     "text": [
      "C:\\Anaconda3\\lib\\site-packages\\ipykernel\\__main__.py:10: SettingWithCopyWarning: \n",
      "A value is trying to be set on a copy of a slice from a DataFrame.\n",
      "Try using .loc[row_indexer,col_indexer] = value instead\n",
      "\n",
      "See the caveats in the documentation: http://pandas.pydata.org/pandas-docs/stable/indexing.html#indexing-view-versus-copy\n"
     ]
    },
    {
     "data": {
      "text/plain": [
       "(38760, 32)"
      ]
     },
     "execution_count": 11,
     "metadata": {},
     "output_type": "execute_result"
    }
   ],
   "source": [
    "# new_df = pd.read_excel('C:/Anaconda3/projects/oled/generated_devices.xlsx', sheetname='Sheet1')\n",
    "new_df = pd.read_pickle('C:/Anaconda3/projects/oled/vary triplet/triplet.pkl')\n",
    "\n",
    "new_X = new_df[:]\n",
    "print(new_X.shape)\n",
    "\n",
    "y_pred = loaded_model.predict(new_X)\n",
    "y_pred = [round(float(i), 2) for i in y_pred]\n",
    "\n",
    "new_X['cd/a'] = y_pred\n",
    "\n",
    "triplet3 = new_X.loc[new_X['triplet_HOST'] == 3]\n",
    "triplet3.shape"
   ]
  },
  {
   "cell_type": "code",
   "execution_count": 14,
   "metadata": {
    "collapsed": false
   },
   "outputs": [
    {
     "data": {
      "text/plain": [
       "(193, 32)"
      ]
     },
     "execution_count": 14,
     "metadata": {},
     "output_type": "execute_result"
    }
   ],
   "source": [
    "# device = new_X.loc[(new_X['cd/a'] >= 10) & (new_X['cd/a'] < 25)]\n",
    "device = triplet3.loc[triplet3['cd/a'] > 50]\n",
    "device.shape"
   ]
  },
  {
   "cell_type": "code",
   "execution_count": 23,
   "metadata": {
    "collapsed": false
   },
   "outputs": [],
   "source": [
    "# device.columns = ['homo_HIL','thick_HIL','lumo_HTL1','homo_HTL1','thickness_HTL1','lumo_HTL2','homo_HTL2','thickness_HTL2',\n",
    "#                   'lumo_HTL3','homo_HTL3','thickness_HTL3','total_HTL_thickness','triplet_HTL','LUMO_EML','HOMO_EML',\n",
    "#                   'triplet_HOST','thickness_EML','lumo_dopant','homo_dopant','triplet_dopant','dopant_percentage','triplet_ETL',\n",
    "#                   'total ETL','lumo_ETL1','homo_ETL1','thickness_ETL1','lumo_ETL2','homo_ETL2','thickness_ETL2','wf_1',\n",
    "#                   'thickness_EIL','cd/a']\n",
    "# device.head()"
   ]
  },
  {
   "cell_type": "code",
   "execution_count": 18,
   "metadata": {
    "collapsed": false,
    "scrolled": false
   },
   "outputs": [],
   "source": [
    "# from openpyxl import load_workbook\n",
    "\n",
    "# with pd.ExcelWriter('C:\\Anaconda3\\projects\\oled\\device_40.xlsx', engine='openpyxl') as writer:\n",
    "#     writer.book = load_workbook('C:\\Anaconda3\\projects\\oled\\device_50.xlsx')\n",
    "#     device.to_excel(writer,  sheet_name='35-40', index=True)\n",
    "# writer.save()"
   ]
  },
  {
   "cell_type": "code",
   "execution_count": 46,
   "metadata": {
    "collapsed": false
   },
   "outputs": [],
   "source": [
    "device.to_pickle('C:/Anaconda3/projects/oled/firpic sppo13/25.pkl')"
   ]
  },
  {
   "cell_type": "code",
   "execution_count": 47,
   "metadata": {
    "collapsed": false
   },
   "outputs": [
    {
     "data": {
      "text/html": [
       "<div>\n",
       "<style>\n",
       "    .dataframe thead tr:only-child th {\n",
       "        text-align: right;\n",
       "    }\n",
       "\n",
       "    .dataframe thead th {\n",
       "        text-align: left;\n",
       "    }\n",
       "\n",
       "    .dataframe tbody tr th {\n",
       "        vertical-align: top;\n",
       "    }\n",
       "</style>\n",
       "<table border=\"1\" class=\"dataframe\">\n",
       "  <thead>\n",
       "    <tr style=\"text-align: right;\">\n",
       "      <th></th>\n",
       "      <th>homo_HIL</th>\n",
       "      <th>lumo_HTL1</th>\n",
       "      <th>homo_HTL1</th>\n",
       "      <th>triplet_HTL</th>\n",
       "      <th>LUMO_EML</th>\n",
       "      <th>HOMO_EML</th>\n",
       "      <th>triplet_HOST</th>\n",
       "      <th>dopant_percentage</th>\n",
       "      <th>triplet_ETL</th>\n",
       "      <th>lumo_ETL2</th>\n",
       "      <th>homo_ETL2</th>\n",
       "      <th>wf_1</th>\n",
       "    </tr>\n",
       "  </thead>\n",
       "  <tbody>\n",
       "    <tr>\n",
       "      <th>count</th>\n",
       "      <td>442.000000</td>\n",
       "      <td>442.000000</td>\n",
       "      <td>442.00000</td>\n",
       "      <td>442.000000</td>\n",
       "      <td>442.000000</td>\n",
       "      <td>442.000000</td>\n",
       "      <td>442.000000</td>\n",
       "      <td>442.0</td>\n",
       "      <td>4.420000e+02</td>\n",
       "      <td>4.420000e+02</td>\n",
       "      <td>4.420000e+02</td>\n",
       "      <td>442.000000</td>\n",
       "    </tr>\n",
       "    <tr>\n",
       "      <th>mean</th>\n",
       "      <td>6.947964</td>\n",
       "      <td>2.130452</td>\n",
       "      <td>5.31448</td>\n",
       "      <td>2.644367</td>\n",
       "      <td>2.404253</td>\n",
       "      <td>6.040679</td>\n",
       "      <td>2.872986</td>\n",
       "      <td>10.0</td>\n",
       "      <td>2.700000e+00</td>\n",
       "      <td>2.910000e+00</td>\n",
       "      <td>6.560000e+00</td>\n",
       "      <td>2.935294</td>\n",
       "    </tr>\n",
       "    <tr>\n",
       "      <th>std</th>\n",
       "      <td>1.988700</td>\n",
       "      <td>0.249851</td>\n",
       "      <td>0.23127</td>\n",
       "      <td>0.227347</td>\n",
       "      <td>0.235656</td>\n",
       "      <td>0.570452</td>\n",
       "      <td>0.116664</td>\n",
       "      <td>0.0</td>\n",
       "      <td>2.222962e-14</td>\n",
       "      <td>8.002664e-15</td>\n",
       "      <td>4.357006e-14</td>\n",
       "      <td>0.645110</td>\n",
       "    </tr>\n",
       "    <tr>\n",
       "      <th>min</th>\n",
       "      <td>5.200000</td>\n",
       "      <td>1.900000</td>\n",
       "      <td>5.10000</td>\n",
       "      <td>2.300000</td>\n",
       "      <td>2.020000</td>\n",
       "      <td>5.560000</td>\n",
       "      <td>2.640000</td>\n",
       "      <td>10.0</td>\n",
       "      <td>2.700000e+00</td>\n",
       "      <td>2.910000e+00</td>\n",
       "      <td>6.560000e+00</td>\n",
       "      <td>2.200000</td>\n",
       "    </tr>\n",
       "    <tr>\n",
       "      <th>25%</th>\n",
       "      <td>5.300000</td>\n",
       "      <td>1.900000</td>\n",
       "      <td>5.10000</td>\n",
       "      <td>2.300000</td>\n",
       "      <td>2.270000</td>\n",
       "      <td>5.800000</td>\n",
       "      <td>2.800000</td>\n",
       "      <td>10.0</td>\n",
       "      <td>2.700000e+00</td>\n",
       "      <td>2.910000e+00</td>\n",
       "      <td>6.560000e+00</td>\n",
       "      <td>2.200000</td>\n",
       "    </tr>\n",
       "    <tr>\n",
       "      <th>50%</th>\n",
       "      <td>6.100000</td>\n",
       "      <td>2.000000</td>\n",
       "      <td>5.20000</td>\n",
       "      <td>2.670000</td>\n",
       "      <td>2.400000</td>\n",
       "      <td>5.900000</td>\n",
       "      <td>2.900000</td>\n",
       "      <td>10.0</td>\n",
       "      <td>2.700000e+00</td>\n",
       "      <td>2.910000e+00</td>\n",
       "      <td>6.560000e+00</td>\n",
       "      <td>3.500000</td>\n",
       "    </tr>\n",
       "    <tr>\n",
       "      <th>75%</th>\n",
       "      <td>9.500000</td>\n",
       "      <td>2.500000</td>\n",
       "      <td>5.50000</td>\n",
       "      <td>2.870000</td>\n",
       "      <td>2.460000</td>\n",
       "      <td>5.920000</td>\n",
       "      <td>2.930000</td>\n",
       "      <td>10.0</td>\n",
       "      <td>2.700000e+00</td>\n",
       "      <td>2.910000e+00</td>\n",
       "      <td>6.560000e+00</td>\n",
       "      <td>3.500000</td>\n",
       "    </tr>\n",
       "    <tr>\n",
       "      <th>max</th>\n",
       "      <td>9.700000</td>\n",
       "      <td>2.500000</td>\n",
       "      <td>5.90000</td>\n",
       "      <td>3.000000</td>\n",
       "      <td>3.000000</td>\n",
       "      <td>7.500000</td>\n",
       "      <td>3.100000</td>\n",
       "      <td>10.0</td>\n",
       "      <td>2.700000e+00</td>\n",
       "      <td>2.910000e+00</td>\n",
       "      <td>6.560000e+00</td>\n",
       "      <td>3.500000</td>\n",
       "    </tr>\n",
       "  </tbody>\n",
       "</table>\n",
       "</div>"
      ],
      "text/plain": [
       "         homo_HIL   lumo_HTL1  homo_HTL1  triplet_HTL    LUMO_EML    HOMO_EML  \\\n",
       "count  442.000000  442.000000  442.00000   442.000000  442.000000  442.000000   \n",
       "mean     6.947964    2.130452    5.31448     2.644367    2.404253    6.040679   \n",
       "std      1.988700    0.249851    0.23127     0.227347    0.235656    0.570452   \n",
       "min      5.200000    1.900000    5.10000     2.300000    2.020000    5.560000   \n",
       "25%      5.300000    1.900000    5.10000     2.300000    2.270000    5.800000   \n",
       "50%      6.100000    2.000000    5.20000     2.670000    2.400000    5.900000   \n",
       "75%      9.500000    2.500000    5.50000     2.870000    2.460000    5.920000   \n",
       "max      9.700000    2.500000    5.90000     3.000000    3.000000    7.500000   \n",
       "\n",
       "       triplet_HOST  dopant_percentage   triplet_ETL     lumo_ETL2  \\\n",
       "count    442.000000              442.0  4.420000e+02  4.420000e+02   \n",
       "mean       2.872986               10.0  2.700000e+00  2.910000e+00   \n",
       "std        0.116664                0.0  2.222962e-14  8.002664e-15   \n",
       "min        2.640000               10.0  2.700000e+00  2.910000e+00   \n",
       "25%        2.800000               10.0  2.700000e+00  2.910000e+00   \n",
       "50%        2.900000               10.0  2.700000e+00  2.910000e+00   \n",
       "75%        2.930000               10.0  2.700000e+00  2.910000e+00   \n",
       "max        3.100000               10.0  2.700000e+00  2.910000e+00   \n",
       "\n",
       "          homo_ETL2        wf_1  \n",
       "count  4.420000e+02  442.000000  \n",
       "mean   6.560000e+00    2.935294  \n",
       "std    4.357006e-14    0.645110  \n",
       "min    6.560000e+00    2.200000  \n",
       "25%    6.560000e+00    2.200000  \n",
       "50%    6.560000e+00    3.500000  \n",
       "75%    6.560000e+00    3.500000  \n",
       "max    6.560000e+00    3.500000  "
      ]
     },
     "execution_count": 47,
     "metadata": {},
     "output_type": "execute_result"
    }
   ],
   "source": [
    "df = pd.read_pickle('C:/Anaconda3/projects/oled/firpic sppo13/25.pkl')\n",
    "\n",
    "data = df.drop(['thick_HIL', 'thickness_HTL1', 'thickness_HTL2', 'thickness_HTL3', 'total_HTL_thickness', 'thickness_EML', \n",
    "               'total ETL', 'thickness_ETL2', 'thickness_ETL1','thickness_EIL', 'cd/a', 'lumo_dopant', 'homo_dopant', \n",
    "               'triplet_dopant', 'lumo_ETL1', 'homo_ETL1', 'lumo_HTL2', 'homo_HTL2', 'lumo_HTL3', 'homo_HTL3'], axis=1)\n",
    "data.describe()"
   ]
  },
  {
   "cell_type": "code",
   "execution_count": 48,
   "metadata": {
    "collapsed": false
   },
   "outputs": [
    {
     "data": {
      "image/png": "[encoded data removed]",
      "text/plain": [
       "<matplotlib.figure.Figure at 0x18f012086d8>"
      ]
     },
     "metadata": {},
     "output_type": "display_data"
    }
   ],
   "source": [
    "import matplotlib.pyplot as plt\n",
    "import seaborn as sns\n",
    "\n",
    "%matplotlib inline\n",
    "\n",
    "f, ax = plt.subplots(figsize=(12, 10))\n",
    "fig = sns.boxplot(data=data)\n",
    "plt.xticks(rotation=90,fontsize=12);"
   ]
  },
  {
   "cell_type": "code",
   "execution_count": 20,
   "metadata": {
    "collapsed": false
   },
   "outputs": [
    {
     "name": "stdout",
     "output_type": "stream",
     "text": [
      "-3.27889023847 34.395431293 5.86476182747\n"
     ]
    }
   ],
   "source": [
    "from sklearn.metrics import r2_score, mean_squared_error\n",
    "import numpy as np\n",
    "\n",
    "new_y = new_df['cd/A']\n",
    "\n",
    "r2 = r2_score(new_y, y_pred)\n",
    "mse = mean_squared_error(new_y, y_pred)\n",
    "\n",
    "print(r2, mse, np.sqrt(mse))"
   ]
  },
  {
   "cell_type": "code",
   "execution_count": 14,
   "metadata": {
    "collapsed": false
   },
   "outputs": [
    {
     "name": "stdout",
     "output_type": "stream",
     "text": [
      "Instance 0 prediction: [ 19.587]\n",
      "Instance 1 prediction: [ 23.39179487]\n"
     ]
    },
    {
     "name": "stderr",
     "output_type": "stream",
     "text": [
      "C:\\Anaconda3\\lib\\site-packages\\sklearn\\utils\\validation.py:395: DeprecationWarning: Passing 1d arrays as data is deprecated in 0.17 and will raise ValueError in 0.19. Reshape your data either using X.reshape(-1, 1) if your data has a single feature or X.reshape(1, -1) if it contains a single sample.\n",
      "  DeprecationWarning)\n",
      "C:\\Anaconda3\\lib\\site-packages\\sklearn\\utils\\validation.py:395: DeprecationWarning: Passing 1d arrays as data is deprecated in 0.17 and will raise ValueError in 0.19. Reshape your data either using X.reshape(-1, 1) if your data has a single feature or X.reshape(1, -1) if it contains a single sample.\n",
      "  DeprecationWarning)\n"
     ]
    }
   ],
   "source": [
    "print(\"Instance 0 prediction:\", loaded_model.predict(new_X[0]))\n",
    "print(\"Instance 1 prediction:\", loaded_model.predict(new_X[1]))"
   ]
  },
  {
   "cell_type": "markdown",
   "metadata": {},
   "source": [
    "### Tree interpreter\n",
    "Using tree interpreter, instruction available on this blog post http://blog.datadive.net/random-forest-interpretation-with-scikit-learn/"
   ]
  },
  {
   "cell_type": "code",
   "execution_count": 16,
   "metadata": {
    "collapsed": false,
    "scrolled": false
   },
   "outputs": [
    {
     "name": "stdout",
     "output_type": "stream",
     "text": [
      "Instance 0\n",
      "Bias (trainset mean) 26.7501777778\n",
      "Feature contributions:\n",
      "thickness_EIL 18.21\n",
      "triplet_ETL 2.32\n",
      "homo_HIL 2.02\n",
      "thickness_HTL1 0.75\n",
      "thickness_ETL2 0.74\n",
      "homo_dopant 0.72\n",
      "triplet_HOST -0.67\n",
      "LUMO_EML 0.67\n",
      "lumo_HTL1 -0.36\n",
      "total_ETL_thickness 0.28\n",
      "homo_ETL1 -0.22\n",
      "total_HTL_thickness 0.17\n",
      "homo_HTL3 0.17\n",
      "homo_HTL1 -0.14\n",
      "thickness_EML 0.1\n",
      "dopant_percentage 0.08\n",
      "homo_ETL2 -0.04\n",
      "homo_HTL2 -0.01\n",
      "lumo_HTL3 -0.0\n",
      "thickness_HIL 0.0\n",
      "lumo_HTL2 0.0\n",
      "thickness_HTL2 0.0\n",
      "thickness_HTL3 0.0\n",
      "triplet_HTL 0.0\n",
      "HOMO_EML 0.0\n",
      "lumo_dopant 0.0\n",
      "triplet_dopant 0.0\n",
      "lumo_ETL1 0.0\n",
      "thickness_ETL1 0.0\n",
      "lumo_ETL2 0.0\n",
      "cathode_workfunction 0.0\n",
      "--------------------\n",
      "Instance 1\n",
      "Bias (trainset mean) 26.7501777778\n",
      "Feature contributions:\n",
      "thickness_EIL 18.21\n",
      "triplet_ETL 2.32\n",
      "homo_HIL 2.02\n",
      "thickness_HTL1 0.75\n",
      "thickness_ETL2 0.74\n",
      "homo_dopant 0.72\n",
      "triplet_HOST -0.67\n",
      "LUMO_EML 0.67\n",
      "lumo_HTL1 -0.36\n",
      "total_ETL_thickness 0.28\n",
      "homo_ETL1 -0.22\n",
      "total_HTL_thickness 0.17\n",
      "homo_HTL3 0.17\n",
      "homo_HTL1 -0.14\n",
      "thickness_EML 0.1\n",
      "dopant_percentage 0.08\n",
      "homo_ETL2 -0.04\n",
      "homo_HTL2 -0.01\n",
      "lumo_HTL3 -0.0\n",
      "thickness_HIL 0.0\n",
      "lumo_HTL2 0.0\n",
      "thickness_HTL2 0.0\n",
      "thickness_HTL3 0.0\n",
      "triplet_HTL 0.0\n",
      "HOMO_EML 0.0\n",
      "lumo_dopant 0.0\n",
      "triplet_dopant 0.0\n",
      "lumo_ETL1 0.0\n",
      "thickness_ETL1 0.0\n",
      "lumo_ETL2 0.0\n",
      "cathode_workfunction 0.0\n",
      "--------------------\n"
     ]
    }
   ],
   "source": [
    "from treeinterpreter import treeinterpreter as ti\n",
    "\n",
    "prediction, bias, contributions = ti.predict(loaded_model, new_X[:2])\n",
    "names = list(X)\n",
    "for i in range(len(new_X[:2])):\n",
    "    print(\"Instance\", i)\n",
    "    print(\"Bias (trainset mean)\", bias[i])\n",
    "    print(\"Feature contributions:\")\n",
    "    for c, feature in sorted(zip(contributions[i], \n",
    "                                 names), \n",
    "                             key=lambda x: -abs(x[0])):\n",
    "        print(feature, round(c, 2))\n",
    "    print(\"-\"*20 )"
   ]
  },
  {
   "cell_type": "code",
   "execution_count": 26,
   "metadata": {
    "collapsed": false
   },
   "outputs": [
    {
     "name": "stdout",
     "output_type": "stream",
     "text": [
      "[ 19.587       23.39179487  21.45        20.76333333  23.39179487\n",
      "  26.42179487]\n",
      "[ 19.587       23.39179487  21.45        20.76333333  23.39179487\n",
      "  26.42179487]\n"
     ]
    }
   ],
   "source": [
    "import numpy as np\n",
    "\n",
    "print(prediction)\n",
    "print(bias + np.sum(contributions, axis=1))"
   ]
  },
  {
   "cell_type": "code",
   "execution_count": 27,
   "metadata": {
    "collapsed": false
   },
   "outputs": [
    {
     "data": {
      "text/plain": [
       "(<6x1310 sparse matrix of type '<class 'numpy.int64'>'\n",
       " \twith 461 stored elements in Compressed Sparse Row format>,\n",
       " array([   0,  121,  250,  387,  528,  663,  794,  921, 1058, 1191, 1310], dtype=int32))"
      ]
     },
     "execution_count": 27,
     "metadata": {},
     "output_type": "execute_result"
    }
   ],
   "source": [
    "# try using scikit decision path\n",
    "loaded_model.decision_path(new_X)"
   ]
  }
 ],
 "metadata": {
  "kernelspec": {
   "display_name": "Python [default]",
   "language": "python",
   "name": "python3"
  },
  "language_info": {
   "codemirror_mode": {
    "name": "ipython",
    "version": 3
   },
   "file_extension": ".py",
   "mimetype": "text/x-python",
   "name": "python",
   "nbconvert_exporter": "python",
   "pygments_lexer": "ipython3",
   "version": "3.6.0"
  }
 },
 "nbformat": 4,
 "nbformat_minor": 2
}
