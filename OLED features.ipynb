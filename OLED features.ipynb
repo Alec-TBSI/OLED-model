{
 "cells": [
  {
   "cell_type": "markdown",
   "metadata": {},
   "source": [
    "# Features in OLED devices\n",
    "\n",
    "To fabricate OLED devices, there are various materials that are being used. Different materials are used for hole transporting layer(HTL), hole injection layer(HIL), buffer layer, electron transport layer(ETL) and of course the emissive layer(EML). There are many combination of the material and several architecture used in fabricating these devices. For this model, I am focusing on the BLUE OLED.\n",
    "\n",
    "\n",
    "Now, let's take a look at the features used for our regression model. \n",
    "Every material has a distinct property. However each material has their own energy level, the lowest unoccupied molecular orbital(LUMO) and highest occupied molecular orbital(HOMO) that can be measured measured. Another parameter that can be changed is the thickness of each layer. So, these three features are going to be considered for our model.  "
   ]
  },
  {
   "cell_type": "markdown",
   "metadata": {},
   "source": [
    "Let's import some dependencies first."
   ]
  },
  {
   "cell_type": "code",
   "execution_count": null,
   "metadata": {
    "collapsed": false
   },
   "outputs": [],
   "source": [
    "import os\n",
    "import matplotlib.pyplot as plt\n",
    "import pandas as pd\n",
    "import numpy as np\n",
    "import seaborn as sns\n",
    "from sklearn import preprocessing\n",
    "%matplotlib inline"
   ]
  },
  {
   "cell_type": "code",
   "execution_count": null,
   "metadata": {
    "collapsed": true
   },
   "outputs": [],
   "source": [
    "# change directory to excel file and read excel file\n",
    "os.chdir('C:/Anaconda3/projects/oled')\n",
    "df = pd.read_excel('oled.xlsx', sheetname='Sheet3')\n",
    "#fill the missing data\n",
    "df = df.fillna(value=0)"
   ]
  },
  {
   "cell_type": "markdown",
   "metadata": {},
   "source": [
    "PS: There will be a lot of missing data since devices have different number of layers. Some devices use 2 different layers for charge transport (HTL and ETL) and some devices don't even have some of the layers. Therefore, there will be lots of zeros in the dataframe."
   ]
  },
  {
   "cell_type": "code",
   "execution_count": null,
   "metadata": {
    "collapsed": false
   },
   "outputs": [],
   "source": [
    "# device efficiency distribution\n",
    "plt.rcParams['figure.figsize'] = (12.0, 6.0)\n",
    "efficiency = df['cd/a']\n",
    "plt.ylabel('number')\n",
    "plt.xlabel('efficiency')\n",
    "efficiency.hist()"
   ]
  },
  {
   "cell_type": "markdown",
   "metadata": {},
   "source": [
    "From the above graph, we can observe that most of our data has efficiency less than 10 Cd/A and the distribution is not normal distribution. It is skewed to the left.\n",
    "\n",
    "Let's take a look at the distribution of the features as well. They are denoted by X below."
   ]
  },
  {
   "cell_type": "code",
   "execution_count": null,
   "metadata": {
    "collapsed": false
   },
   "outputs": [],
   "source": [
    "X = df[list(df.columns)[:-5]]\n",
    "plt.rcParams['figure.figsize'] = (18.0, 18.0)\n",
    "X.hist()"
   ]
  },
  {
   "cell_type": "code",
   "execution_count": null,
   "metadata": {
    "collapsed": false
   },
   "outputs": [],
   "source": [
    "# we can also see the density of the distribution plot\n",
    "X.plot(kind='density', subplots=True, layout=(7,3), sharex=False)"
   ]
  },
  {
   "cell_type": "markdown",
   "metadata": {},
   "source": [
    "Based on the data, we can observe how the features correlate with efficiency."
   ]
  },
  {
   "cell_type": "code",
   "execution_count": null,
   "metadata": {
    "collapsed": false
   },
   "outputs": [],
   "source": [
    "# See correlation of features with each other and with efficiency\n",
    "corr = X.select_dtypes(include = ['float64', 'int64']).iloc[:, 1:].corr()\n",
    "plt.figure(figsize=(15, 15))\n",
    "sns.heatmap(corr, vmax=1, square=True, cmap=\"YlGnBu\",linecolor='black', annot=False)\n",
    "plt.yticks(rotation=0)\n",
    "plt.xticks(rotation=90)\n",
    "plt.show()\n",
    "\n",
    "cor_dict = corr['cd/a'].to_dict()\n",
    "del cor_dict['cd/a']\n",
    "print(\"List the features in descending order of their correlation with cd/a:\\n\")\n",
    "for ele in sorted(cor_dict.items(), key=lambda x: -abs(x[1])):\n",
    "    print(\"{0}:   {1}\".format(*ele))"
   ]
  }
 ],
 "metadata": {
  "kernelspec": {
   "display_name": "Python 3",
   "language": "python",
   "name": "python3"
  },
  "language_info": {
   "codemirror_mode": {
    "name": "ipython",
    "version": 3
   },
   "file_extension": ".py",
   "mimetype": "text/x-python",
   "name": "python",
   "nbconvert_exporter": "python",
   "pygments_lexer": "ipython3",
   "version": "3.6.0"
  }
 },
 "nbformat": 4,
 "nbformat_minor": 2
}
