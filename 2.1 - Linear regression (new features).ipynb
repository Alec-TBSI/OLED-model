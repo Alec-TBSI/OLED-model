{
 "cells": [
  {
   "cell_type": "code",
   "execution_count": 9,
   "metadata": {
    "collapsed": true
   },
   "outputs": [],
   "source": [
    "import pandas as pd\n",
    "import numpy as np\n",
    "import matplotlib.pylab as plt\n",
    "from sklearn.linear_model import LinearRegression\n",
    "from sklearn import preprocessing\n",
    "from sklearn.model_selection import train_test_split, cross_val_score\n",
    "%matplotlib inline"
   ]
  },
  {
   "cell_type": "code",
   "execution_count": 13,
   "metadata": {
    "collapsed": false
   },
   "outputs": [
    {
     "data": {
      "text/html": [
       "<div>\n",
       "<table border=\"1\" class=\"dataframe\">\n",
       "  <thead>\n",
       "    <tr style=\"text-align: right;\">\n",
       "      <th></th>\n",
       "      <th>h1-ito</th>\n",
       "      <th>h2-h1</th>\n",
       "      <th>h3-h2</th>\n",
       "      <th>h4-h3</th>\n",
       "      <th>h5-h4</th>\n",
       "      <th>h6-h5</th>\n",
       "      <th>wf-h6</th>\n",
       "      <th>ito-L1</th>\n",
       "      <th>l1-l2</th>\n",
       "      <th>l2-l3</th>\n",
       "      <th>l3-l4</th>\n",
       "      <th>l4-l5</th>\n",
       "      <th>l5-l6</th>\n",
       "      <th>l6-wf</th>\n",
       "    </tr>\n",
       "  </thead>\n",
       "  <tbody>\n",
       "    <tr>\n",
       "      <th>0</th>\n",
       "      <td>0.5</td>\n",
       "      <td>0.6</td>\n",
       "      <td>0.1</td>\n",
       "      <td>-0.56</td>\n",
       "      <td>1.46</td>\n",
       "      <td>-0.60</td>\n",
       "      <td>-2.70</td>\n",
       "      <td>1.4</td>\n",
       "      <td>1.3</td>\n",
       "      <td>-0.40</td>\n",
       "      <td>1.31</td>\n",
       "      <td>-1.41</td>\n",
       "      <td>-0.3</td>\n",
       "      <td>-0.70</td>\n",
       "    </tr>\n",
       "    <tr>\n",
       "      <th>1</th>\n",
       "      <td>4.8</td>\n",
       "      <td>-3.7</td>\n",
       "      <td>0.0</td>\n",
       "      <td>-0.24</td>\n",
       "      <td>0.00</td>\n",
       "      <td>1.12</td>\n",
       "      <td>-2.38</td>\n",
       "      <td>-1.0</td>\n",
       "      <td>3.7</td>\n",
       "      <td>-0.02</td>\n",
       "      <td>0.00</td>\n",
       "      <td>-0.71</td>\n",
       "      <td>0.0</td>\n",
       "      <td>-1.57</td>\n",
       "    </tr>\n",
       "    <tr>\n",
       "      <th>2</th>\n",
       "      <td>0.6</td>\n",
       "      <td>0.3</td>\n",
       "      <td>0.0</td>\n",
       "      <td>0.30</td>\n",
       "      <td>0.00</td>\n",
       "      <td>0.78</td>\n",
       "      <td>-3.18</td>\n",
       "      <td>2.4</td>\n",
       "      <td>0.3</td>\n",
       "      <td>-0.40</td>\n",
       "      <td>0.00</td>\n",
       "      <td>-0.33</td>\n",
       "      <td>0.0</td>\n",
       "      <td>-0.77</td>\n",
       "    </tr>\n",
       "    <tr>\n",
       "      <th>3</th>\n",
       "      <td>0.5</td>\n",
       "      <td>0.0</td>\n",
       "      <td>0.0</td>\n",
       "      <td>0.51</td>\n",
       "      <td>0.00</td>\n",
       "      <td>0.00</td>\n",
       "      <td>-1.51</td>\n",
       "      <td>1.4</td>\n",
       "      <td>0.6</td>\n",
       "      <td>0.00</td>\n",
       "      <td>0.00</td>\n",
       "      <td>-1.50</td>\n",
       "      <td>0.0</td>\n",
       "      <td>0.00</td>\n",
       "    </tr>\n",
       "    <tr>\n",
       "      <th>4</th>\n",
       "      <td>0.5</td>\n",
       "      <td>0.6</td>\n",
       "      <td>0.0</td>\n",
       "      <td>-0.45</td>\n",
       "      <td>0.00</td>\n",
       "      <td>0.85</td>\n",
       "      <td>-2.70</td>\n",
       "      <td>1.4</td>\n",
       "      <td>0.6</td>\n",
       "      <td>0.68</td>\n",
       "      <td>0.00</td>\n",
       "      <td>-0.78</td>\n",
       "      <td>0.0</td>\n",
       "      <td>-0.70</td>\n",
       "    </tr>\n",
       "  </tbody>\n",
       "</table>\n",
       "</div>"
      ],
      "text/plain": [
       "   h1-ito  h2-h1  h3-h2  h4-h3  h5-h4  h6-h5  wf-h6  ito-L1  l1-l2  l2-l3  \\\n",
       "0     0.5    0.6    0.1  -0.56   1.46  -0.60  -2.70     1.4    1.3  -0.40   \n",
       "1     4.8   -3.7    0.0  -0.24   0.00   1.12  -2.38    -1.0    3.7  -0.02   \n",
       "2     0.6    0.3    0.0   0.30   0.00   0.78  -3.18     2.4    0.3  -0.40   \n",
       "3     0.5    0.0    0.0   0.51   0.00   0.00  -1.51     1.4    0.6   0.00   \n",
       "4     0.5    0.6    0.0  -0.45   0.00   0.85  -2.70     1.4    0.6   0.68   \n",
       "\n",
       "   l3-l4  l4-l5  l5-l6  l6-wf  \n",
       "0   1.31  -1.41   -0.3  -0.70  \n",
       "1   0.00  -0.71    0.0  -1.57  \n",
       "2   0.00  -0.33    0.0  -0.77  \n",
       "3   0.00  -1.50    0.0   0.00  \n",
       "4   0.00  -0.78    0.0  -0.70  "
      ]
     },
     "execution_count": 13,
     "metadata": {},
     "output_type": "execute_result"
    }
   ],
   "source": [
    "# Read the data from excel using Pandas and assign features to X and efficiency to y.\n",
    "df = pd.read_excel('C:/Anaconda3/projects/oled/oled.xlsx', sheetname='edited lumo')\n",
    "df = df.fillna(value=0)\n",
    "X = df[list(df.columns)[42:56]]\n",
    "y = df.iloc[:, -1:]\n",
    "X.head()"
   ]
  },
  {
   "cell_type": "code",
   "execution_count": 14,
   "metadata": {
    "collapsed": false
   },
   "outputs": [
    {
     "data": {
      "text/plain": [
       "array([[-0.49841369,  0.47940942,  0.02881177, -0.43031292,  2.94540298,\n",
       "        -2.00191673,  0.20983406,  0.04888505,  0.18893604, -0.62080419,\n",
       "         4.31479298, -1.83140356, -2.09162921,  0.24639639],\n",
       "       [ 1.7311911 , -1.64693754, -0.11827988, -0.09361231, -0.49001104,\n",
       "         1.06962812,  0.86181095, -1.72376921,  1.67288715,  0.07897692,\n",
       "        -0.09757419, -0.5932048 ,  0.44025141, -1.61848177]])"
      ]
     },
     "execution_count": 14,
     "metadata": {},
     "output_type": "execute_result"
    }
   ],
   "source": [
    "# preprocess the data and split the data for training and testing\n",
    "# assign random state for reproducibility\n",
    "X = preprocessing.scale(X)\n",
    "X_train, X_test, y_train, y_test = train_test_split(X, y, random_state=2793)\n",
    "\n",
    "# take a look at the data after scaling\n",
    "X[0:2]"
   ]
  },
  {
   "cell_type": "code",
   "execution_count": 15,
   "metadata": {
    "collapsed": false
   },
   "outputs": [
    {
     "name": "stdout",
     "output_type": "stream",
     "text": [
      "R-squared:  0.33517608479\n"
     ]
    }
   ],
   "source": [
    "# Choose linear regression as our regressor from scikit-learn\n",
    "regressor = LinearRegression(fit_intercept=True, normalize=False, copy_X=True, n_jobs=-1)\n",
    "\n",
    "regressor.fit(X_train, y_train)\n",
    "y_predictions = regressor.predict(X_test)\n",
    "\n",
    "# Check how our model is doing\n",
    "print('R-squared: ', regressor.score(X_test, y_test))"
   ]
  },
  {
   "cell_type": "code",
   "execution_count": 16,
   "metadata": {
    "collapsed": false
   },
   "outputs": [
    {
     "name": "stdout",
     "output_type": "stream",
     "text": [
      "scores:  [-0.48224168 -1.04820449  0.28211483  0.51455076 -0.57554236]\n",
      "mean score:  -0.261864587667\n"
     ]
    }
   ],
   "source": [
    "# Check the cross validation score for the whole model\n",
    "\n",
    "scores = cross_val_score(regressor, X, y, cv=5)\n",
    "print('scores: ', scores)\n",
    "print('mean score: ', scores.mean())"
   ]
  },
  {
   "cell_type": "code",
   "execution_count": 17,
   "metadata": {
    "collapsed": false
   },
   "outputs": [
    {
     "name": "stdout",
     "output_type": "stream",
     "text": [
      "regression coefficient =\n",
      " [[ 32.13659933  30.62056564   7.35623634  12.03578043  -3.18525621\n",
      "    0.62174446 -15.01323493 -29.15230334 -37.69211645 -18.6442378\n",
      "  -10.93362181 -21.46374221 -13.8789917   -9.406472  ]]\n",
      "regression intercept =  [ 24.95062407]\n"
     ]
    },
    {
     "data": {
      "image/png": "[encoded data removed]",
      "text/plain": [
       "<matplotlib.figure.Figure at 0x1ed950121d0>"
      ]
     },
     "metadata": {},
     "output_type": "display_data"
    }
   ],
   "source": [
    "# see the coefficient of regression\n",
    "coefficients = regressor.coef_\n",
    "intercept = regressor.intercept_\n",
    "print('regression coefficient =\\n', coefficients)\n",
    "print('regression intercept = ', intercept)# take a look at our model prediction. the best model will be very close to the line in the middle\n",
    "plt.scatter(y_test, y_predictions)\n",
    "plt.plot([0, 100], [-0,100], 'g-', label='true line')\n",
    "plt.xlabel('true efficiency')\n",
    "plt.ylabel('predicted efficiency')\n",
    "plt.title(' comparison ')\n",
    "plt.show()"
   ]
  },
  {
   "cell_type": "code",
   "execution_count": 18,
   "metadata": {
    "collapsed": false
   },
   "outputs": [
    {
     "name": "stdout",
     "output_type": "stream",
     "text": [
      "Predicted: [ 4.75936959],  Actual: [0.9]\n",
      "Predicted: [ 28.67061138],  Actual: [27.7]\n",
      "Predicted: [ 4.97637524],  Actual: [5.09]\n",
      "Predicted: [ 31.91934418],  Actual: [5.6]\n",
      "Predicted: [ 36.49192924],  Actual: [9.0]\n",
      "Predicted: [ 7.93928683],  Actual: [4.92]\n",
      "Predicted: [ 20.30146892],  Actual: [2.36]\n",
      "Predicted: [ 26.42874823],  Actual: [10.2]\n",
      "Predicted: [-10.5295515],  Actual: [14.3]\n",
      "Predicted: [ 54.30241147],  Actual: [55.0]\n",
      "Predicted: [ 19.61906765],  Actual: [1.8]\n",
      "Predicted: [ 31.36136056],  Actual: [30.6]\n",
      "Predicted: [ 11.65618024],  Actual: [3.78]\n",
      "Predicted: [ 31.91934418],  Actual: [30.9]\n",
      "Predicted: [ 40.01050326],  Actual: [52.1]\n",
      "Predicted: [ 7.9538693],  Actual: [3.12]\n",
      "Predicted: [ 27.91764599],  Actual: [14.7]\n",
      "Predicted: [ 7.9538693],  Actual: [3.25]\n",
      "Predicted: [ 27.65996003],  Actual: [21.4]\n",
      "Predicted: [ 30.17754279],  Actual: [28.6]\n",
      "Predicted: [ 40.02837765],  Actual: [34.0]\n",
      "Predicted: [ 7.33230873],  Actual: [16.01]\n",
      "Predicted: [ 26.7414057],  Actual: [28.24]\n",
      "Predicted: [ 27.34316542],  Actual: [60.3]\n",
      "Predicted: [ 23.6359404],  Actual: [55.4]\n"
     ]
    }
   ],
   "source": [
    "# print predicted value and actual value to see how far off the prediction\n",
    "y_test = y_test.values.tolist()\n",
    "for i, prediction in enumerate(y_predictions):\n",
    "    print('Predicted: %s,  Actual: %s' % (prediction, y_test[i]))"
   ]
  },
  {
   "cell_type": "code",
   "execution_count": null,
   "metadata": {
    "collapsed": true
   },
   "outputs": [],
   "source": []
  }
 ],
 "metadata": {
  "kernelspec": {
   "display_name": "Python 3",
   "language": "python",
   "name": "python3"
  },
  "language_info": {
   "codemirror_mode": {
    "name": "ipython",
    "version": 3
   },
   "file_extension": ".py",
   "mimetype": "text/x-python",
   "name": "python",
   "nbconvert_exporter": "python",
   "pygments_lexer": "ipython3",
   "version": "3.6.0"
  }
 },
 "nbformat": 4,
 "nbformat_minor": 2
}
