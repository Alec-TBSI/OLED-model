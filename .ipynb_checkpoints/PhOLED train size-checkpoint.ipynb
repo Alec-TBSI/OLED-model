{
 "cells": [
  {
   "cell_type": "code",
   "execution_count": 1,
   "metadata": {},
   "outputs": [],
   "source": [
    "import random\n",
    "import matplotlib.pyplot as plt\n",
    "import pandas as pd\n",
    "import numpy as np\n",
    "import seaborn as sns\n",
    "from pandas.plotting import parallel_coordinates\n",
    "from PIL import Image\n",
    "from io import BytesIO\n",
    "from sklearn.model_selection import train_test_split, cross_val_score\n",
    "from sklearn.metrics import mean_squared_error\n",
    "from sklearn.ensemble import RandomForestRegressor\n",
    "from sklearn.model_selection import KFold, LeaveOneOut\n",
    "\n",
    "plt.style.use('classic')\n",
    "%matplotlib inline"
   ]
  },
  {
   "cell_type": "code",
   "execution_count": 19,
   "metadata": {},
   "outputs": [
    {
     "name": "stdout",
     "output_type": "stream",
     "text": [
      "(166, 32)\n",
      "(165, 32)\n"
     ]
    },
    {
     "data": {
      "text/html": [
       "<div>\n",
       "<style>\n",
       "    .dataframe thead tr:only-child th {\n",
       "        text-align: right;\n",
       "    }\n",
       "\n",
       "    .dataframe thead th {\n",
       "        text-align: left;\n",
       "    }\n",
       "\n",
       "    .dataframe tbody tr th {\n",
       "        vertical-align: top;\n",
       "    }\n",
       "</style>\n",
       "<table border=\"1\" class=\"dataframe\">\n",
       "  <thead>\n",
       "    <tr style=\"text-align: right;\">\n",
       "      <th></th>\n",
       "      <th>homo_HIL</th>\n",
       "      <th>thickness_HIL</th>\n",
       "      <th>lumo_HTL1</th>\n",
       "      <th>homo_HTL1</th>\n",
       "      <th>thickness_HTL1</th>\n",
       "      <th>lumo_HTL2</th>\n",
       "      <th>homo_HTL2</th>\n",
       "      <th>thickness_HTL2</th>\n",
       "      <th>lumo_HTL3</th>\n",
       "      <th>homo_HTL3</th>\n",
       "      <th>...</th>\n",
       "      <th>total_ETL_thickness</th>\n",
       "      <th>lumo_ETL1</th>\n",
       "      <th>homo_ETL1</th>\n",
       "      <th>thickness_ETL1</th>\n",
       "      <th>lumo_ETL2</th>\n",
       "      <th>homo_ETL2</th>\n",
       "      <th>thickness_ETL2</th>\n",
       "      <th>cathode_workfunction</th>\n",
       "      <th>thickness_EIL</th>\n",
       "      <th>efficiency</th>\n",
       "    </tr>\n",
       "  </thead>\n",
       "  <tbody>\n",
       "    <tr>\n",
       "      <th>0</th>\n",
       "      <td>5.2</td>\n",
       "      <td>25.0</td>\n",
       "      <td>3.3</td>\n",
       "      <td>5.2</td>\n",
       "      <td>0</td>\n",
       "      <td>3.3</td>\n",
       "      <td>5.2</td>\n",
       "      <td>0</td>\n",
       "      <td>3.3</td>\n",
       "      <td>5.2</td>\n",
       "      <td>...</td>\n",
       "      <td>35</td>\n",
       "      <td>2.8</td>\n",
       "      <td>6.2</td>\n",
       "      <td>0</td>\n",
       "      <td>2.8</td>\n",
       "      <td>6.2</td>\n",
       "      <td>35.0</td>\n",
       "      <td>2.8</td>\n",
       "      <td>10.0</td>\n",
       "      <td>5.0</td>\n",
       "    </tr>\n",
       "    <tr>\n",
       "      <th>1</th>\n",
       "      <td>5.2</td>\n",
       "      <td>25.0</td>\n",
       "      <td>3.3</td>\n",
       "      <td>5.2</td>\n",
       "      <td>0</td>\n",
       "      <td>3.3</td>\n",
       "      <td>5.2</td>\n",
       "      <td>0</td>\n",
       "      <td>3.3</td>\n",
       "      <td>5.2</td>\n",
       "      <td>...</td>\n",
       "      <td>35</td>\n",
       "      <td>2.8</td>\n",
       "      <td>6.2</td>\n",
       "      <td>0</td>\n",
       "      <td>2.8</td>\n",
       "      <td>6.2</td>\n",
       "      <td>35.0</td>\n",
       "      <td>2.8</td>\n",
       "      <td>10.0</td>\n",
       "      <td>4.0</td>\n",
       "    </tr>\n",
       "    <tr>\n",
       "      <th>2</th>\n",
       "      <td>5.2</td>\n",
       "      <td>25.0</td>\n",
       "      <td>3.3</td>\n",
       "      <td>5.2</td>\n",
       "      <td>0</td>\n",
       "      <td>3.3</td>\n",
       "      <td>5.2</td>\n",
       "      <td>0</td>\n",
       "      <td>3.3</td>\n",
       "      <td>5.2</td>\n",
       "      <td>...</td>\n",
       "      <td>35</td>\n",
       "      <td>2.8</td>\n",
       "      <td>6.2</td>\n",
       "      <td>0</td>\n",
       "      <td>2.8</td>\n",
       "      <td>6.2</td>\n",
       "      <td>35.0</td>\n",
       "      <td>2.8</td>\n",
       "      <td>10.0</td>\n",
       "      <td>9.0</td>\n",
       "    </tr>\n",
       "    <tr>\n",
       "      <th>3</th>\n",
       "      <td>5.2</td>\n",
       "      <td>25.0</td>\n",
       "      <td>3.3</td>\n",
       "      <td>5.2</td>\n",
       "      <td>0</td>\n",
       "      <td>3.3</td>\n",
       "      <td>5.2</td>\n",
       "      <td>0</td>\n",
       "      <td>3.3</td>\n",
       "      <td>5.2</td>\n",
       "      <td>...</td>\n",
       "      <td>35</td>\n",
       "      <td>2.8</td>\n",
       "      <td>6.2</td>\n",
       "      <td>0</td>\n",
       "      <td>2.8</td>\n",
       "      <td>6.2</td>\n",
       "      <td>35.0</td>\n",
       "      <td>2.8</td>\n",
       "      <td>10.0</td>\n",
       "      <td>12.0</td>\n",
       "    </tr>\n",
       "    <tr>\n",
       "      <th>4</th>\n",
       "      <td>5.2</td>\n",
       "      <td>25.0</td>\n",
       "      <td>3.3</td>\n",
       "      <td>5.2</td>\n",
       "      <td>0</td>\n",
       "      <td>3.3</td>\n",
       "      <td>5.2</td>\n",
       "      <td>0</td>\n",
       "      <td>3.3</td>\n",
       "      <td>5.2</td>\n",
       "      <td>...</td>\n",
       "      <td>35</td>\n",
       "      <td>2.8</td>\n",
       "      <td>6.2</td>\n",
       "      <td>0</td>\n",
       "      <td>2.8</td>\n",
       "      <td>6.2</td>\n",
       "      <td>35.0</td>\n",
       "      <td>2.8</td>\n",
       "      <td>10.0</td>\n",
       "      <td>8.0</td>\n",
       "    </tr>\n",
       "  </tbody>\n",
       "</table>\n",
       "<p>5 rows × 32 columns</p>\n",
       "</div>"
      ],
      "text/plain": [
       "   homo_HIL  thickness_HIL  lumo_HTL1  homo_HTL1  thickness_HTL1  lumo_HTL2  \\\n",
       "0       5.2           25.0        3.3        5.2               0        3.3   \n",
       "1       5.2           25.0        3.3        5.2               0        3.3   \n",
       "2       5.2           25.0        3.3        5.2               0        3.3   \n",
       "3       5.2           25.0        3.3        5.2               0        3.3   \n",
       "4       5.2           25.0        3.3        5.2               0        3.3   \n",
       "\n",
       "   homo_HTL2  thickness_HTL2  lumo_HTL3  homo_HTL3     ...      \\\n",
       "0        5.2               0        3.3        5.2     ...       \n",
       "1        5.2               0        3.3        5.2     ...       \n",
       "2        5.2               0        3.3        5.2     ...       \n",
       "3        5.2               0        3.3        5.2     ...       \n",
       "4        5.2               0        3.3        5.2     ...       \n",
       "\n",
       "   total_ETL_thickness  lumo_ETL1  homo_ETL1  thickness_ETL1  lumo_ETL2  \\\n",
       "0                   35        2.8        6.2               0        2.8   \n",
       "1                   35        2.8        6.2               0        2.8   \n",
       "2                   35        2.8        6.2               0        2.8   \n",
       "3                   35        2.8        6.2               0        2.8   \n",
       "4                   35        2.8        6.2               0        2.8   \n",
       "\n",
       "   homo_ETL2  thickness_ETL2  cathode_workfunction  thickness_EIL  efficiency  \n",
       "0        6.2            35.0                   2.8           10.0         5.0  \n",
       "1        6.2            35.0                   2.8           10.0         4.0  \n",
       "2        6.2            35.0                   2.8           10.0         9.0  \n",
       "3        6.2            35.0                   2.8           10.0        12.0  \n",
       "4        6.2            35.0                   2.8           10.0         8.0  \n",
       "\n",
       "[5 rows x 32 columns]"
      ]
     },
     "execution_count": 19,
     "metadata": {},
     "output_type": "execute_result"
    }
   ],
   "source": [
    "# read excel file\n",
    "df = pd.read_excel('C:/Users/acc_a/OneDrive/PhOLED.xlsx', sheetname='Sheet2')\n",
    "\n",
    "df = df[list(df.columns)[1:]]\n",
    "print(df.shape)\n",
    "\n",
    "#Checking for missing data\n",
    "NAs = df.isnull().sum()\n",
    "NAs.sort_values(0, ascending=False)\n",
    "NAs[NAs > 0]\n",
    "\n",
    "#drop the missing data\n",
    "df.dropna(axis=0, inplace=True)\n",
    "print(df.shape)\n",
    "\n",
    "# copy original data\n",
    "dfc = df.copy()\n",
    "dfc.head()"
   ]
  },
  {
   "cell_type": "code",
   "execution_count": 20,
   "metadata": {},
   "outputs": [],
   "source": [
    "rs = 2\n",
    "\n",
    "# divide dfc into training and testing\n",
    "X = dfc.iloc[:, :-1]\n",
    "y = dfc[['efficiency']]\n",
    "\n",
    "X_train, X_test, y_train, y_test = train_test_split(X, y, test_size=0.25, random_state=rs)"
   ]
  },
  {
   "cell_type": "code",
   "execution_count": 21,
   "metadata": {},
   "outputs": [
    {
     "name": "stdout",
     "output_type": "stream",
     "text": [
      "R2 scores:  [ 0.55660482  0.7114293   0.42606843  0.37361347]\n",
      "mean R2 score:  0.516929007688 \n",
      "\n",
      "RMSE mean:  8.08832893649 \n",
      "\n",
      "R-squared test:  0.704689264975\n",
      "RMSE:  8.55006195893\n"
     ]
    }
   ],
   "source": [
    "from sklearn.ensemble import RandomForestRegressor\n",
    "from sklearn.model_selection import KFold, LeaveOneOut\n",
    "\n",
    "regressor = RandomForestRegressor(random_state=rs)\n",
    "regressor.fit(X_train, y_train.values.ravel())\n",
    "y_predictions = regressor.predict(X_test)\n",
    "\n",
    "kfold = KFold(n_splits=4, shuffle=True, random_state=rs)\n",
    "loo = LeaveOneOut()\n",
    "r2_scores = cross_val_score(regressor, X, y.values.ravel(), cv=kfold)\n",
    "print('R2 scores: ', r2_scores)\n",
    "print('mean R2 score: ', r2_scores.mean(), '\\n')\n",
    "\n",
    "mse_scores = cross_val_score(regressor, X, y.values.ravel(), cv=loo, scoring='neg_mean_squared_error')\n",
    "# print('MSE scores: ', -mse_scores)\n",
    "print('RMSE mean: ', np.sqrt(-mse_scores.mean()) , '\\n')\n",
    "\n",
    "# Check how our model is doing on test set\n",
    "print('R-squared test: ', regressor.score(X_test, y_test))\n",
    "print('RMSE: ', np.sqrt(mean_squared_error(y_test, y_predictions)))"
   ]
  },
  {
   "cell_type": "code",
   "execution_count": 22,
   "metadata": {},
   "outputs": [
    {
     "data": {
      "image/png": "[encoded data removed]",
      "text/plain": [
       "<matplotlib.figure.Figure at 0x2d588790cc0>"
      ]
     },
     "metadata": {},
     "output_type": "display_data"
    }
   ],
   "source": [
    "pred_train = regressor.predict(X_train)\n",
    "\n",
    "plt.rcParams['figure.figsize'] = (8.0, 8.0)\n",
    "plt.scatter(pred_train, y_train, c='r', s=40, label='training')\n",
    "plt.scatter(y_predictions, y_test, c='b', s=40, label='testing')\n",
    "plt.plot([0, 60], [-0,60], 'g-', label='true line')\n",
    "plt.legend(loc=4, frameon=True, title='Legend', fontsize=14);\n",
    "plt.ylabel('True efficiency', fontsize=18)\n",
    "plt.xlabel('Predicted efficiency', fontsize=18)\n",
    "plt.xticks(fontsize=14)\n",
    "plt.yticks(fontsize=14)\n",
    "plt.title(' Random Forest ',fontsize=20)\n",
    "plt.xticks(fontsize=14)\n",
    "plt.show()"
   ]
  },
  {
   "cell_type": "code",
   "execution_count": 23,
   "metadata": {},
   "outputs": [
    {
     "name": "stdout",
     "output_type": "stream",
     "text": [
      "R2 scores:  [ 0.55660482  0.7114293   0.42606843  0.37361347]\n",
      "mean R2 score:  0.516929007688 \n",
      "\n",
      "RMSE mean:  8.08832893649 \n",
      "\n",
      "R-squared test:  0.506005999216\n",
      "RMSE:  10.3819371429\n"
     ]
    }
   ],
   "source": [
    "dfc = df.copy()\n",
    "\n",
    "# divide dfc into training and testing\n",
    "X = dfc.iloc[:, :-1]\n",
    "y = dfc[['efficiency']]\n",
    "\n",
    "X_train, X_test, y_train, y_test = train_test_split(X, y, test_size=0.5, random_state=rs)\n",
    "\n",
    "regressor = RandomForestRegressor(random_state=rs)\n",
    "regressor.fit(X_train, y_train.values.ravel())\n",
    "y_predictions = regressor.predict(X_test)\n",
    "\n",
    "r2_scores = cross_val_score(regressor, X, y.values.ravel(), cv=kfold)\n",
    "print('R2 scores: ', r2_scores)\n",
    "print('mean R2 score: ', r2_scores.mean(), '\\n')\n",
    "\n",
    "mse_scores = cross_val_score(regressor, X, y.values.ravel(), cv=loo, scoring='neg_mean_squared_error')\n",
    "# print('MSE scores: ', -mse_scores)\n",
    "print('RMSE mean: ', np.sqrt(-mse_scores.mean()) , '\\n')\n",
    "\n",
    "# Check how our model is doing on test set\n",
    "print('R-squared test: ', regressor.score(X_test, y_test))\n",
    "print('RMSE: ', np.sqrt(mean_squared_error(y_test, y_predictions)))"
   ]
  },
  {
   "cell_type": "code",
   "execution_count": 24,
   "metadata": {},
   "outputs": [
    {
     "data": {
      "image/png": "[encoded data removed]",
      "text/plain": [
       "<matplotlib.figure.Figure at 0x2d588720c18>"
      ]
     },
     "metadata": {},
     "output_type": "display_data"
    }
   ],
   "source": [
    "pred_train = regressor.predict(X_train)\n",
    "\n",
    "plt.rcParams['figure.figsize'] = (8.0, 8.0)\n",
    "plt.scatter(pred_train, y_train, c='r', s=40, label='training')\n",
    "plt.scatter(y_predictions, y_test, c='b', s=40, label='testing')\n",
    "plt.plot([0, 60], [-0,60], 'g-', label='true line')\n",
    "plt.legend(loc=4, frameon=True, title='Legend', fontsize=14);\n",
    "plt.ylabel('True efficiency', fontsize=18)\n",
    "plt.xlabel('Predicted efficiency', fontsize=18)\n",
    "plt.xticks(fontsize=14)\n",
    "plt.yticks(fontsize=14)\n",
    "plt.title(' Random Forest ',fontsize=20)\n",
    "plt.xticks(fontsize=14)\n",
    "plt.show()"
   ]
  },
  {
   "cell_type": "code",
   "execution_count": 25,
   "metadata": {},
   "outputs": [
    {
     "name": "stdout",
     "output_type": "stream",
     "text": [
      "R2 scores:  [ 0.55660482  0.7114293   0.42606843  0.37361347]\n",
      "mean R2 score:  0.516929007688 \n",
      "\n",
      "RMSE mean:  8.08832893649 \n",
      "\n",
      "R-squared test:  0.154258088962\n",
      "RMSE:  13.2027272315\n"
     ]
    }
   ],
   "source": [
    "dfc = df.copy()\n",
    "\n",
    "# divide dfc into training and testing\n",
    "X = dfc.iloc[:, :-1]\n",
    "y = dfc[['efficiency']]\n",
    "\n",
    "X_train, X_test, y_train, y_test = train_test_split(X, y, test_size=0.75, random_state=rs)\n",
    "\n",
    "regressor = RandomForestRegressor(random_state=rs)\n",
    "regressor.fit(X_train, y_train.values.ravel())\n",
    "y_predictions = regressor.predict(X_test)\n",
    "\n",
    "r2_scores = cross_val_score(regressor, X, y.values.ravel(), cv=kfold)\n",
    "print('R2 scores: ', r2_scores)\n",
    "print('mean R2 score: ', r2_scores.mean(), '\\n')\n",
    "\n",
    "mse_scores = cross_val_score(regressor, X, y.values.ravel(), cv=loo, scoring='neg_mean_squared_error')\n",
    "# print('MSE scores: ', -mse_scores)\n",
    "print('RMSE mean: ', np.sqrt(-mse_scores.mean()) , '\\n')\n",
    "\n",
    "# Check how our model is doing on test set\n",
    "print('R-squared test: ', regressor.score(X_test, y_test))\n",
    "print('RMSE: ', np.sqrt(mean_squared_error(y_test, y_predictions)))"
   ]
  },
  {
   "cell_type": "code",
   "execution_count": 26,
   "metadata": {},
   "outputs": [
    {
     "data": {
      "image/png": "[encoded data removed]",
      "text/plain": [
       "<matplotlib.figure.Figure at 0x2d588dd5048>"
      ]
     },
     "metadata": {},
     "output_type": "display_data"
    }
   ],
   "source": [
    "pred_train = regressor.predict(X_train)\n",
    "\n",
    "plt.rcParams['figure.figsize'] = (8.0, 8.0)\n",
    "plt.scatter(pred_train, y_train, c='r', s=40, label='training')\n",
    "plt.scatter(y_predictions, y_test, c='b', s=40, label='testing')\n",
    "plt.plot([0, 60], [-0,60], 'g-', label='true line')\n",
    "plt.legend(loc=4, frameon=True, title='Legend', fontsize=14);\n",
    "plt.ylabel('True efficiency', fontsize=18)\n",
    "plt.xlabel('Predicted efficiency', fontsize=18)\n",
    "plt.xticks(fontsize=14)\n",
    "plt.yticks(fontsize=14)\n",
    "plt.title(' Random Forest ',fontsize=20)\n",
    "plt.xticks(fontsize=14)\n",
    "plt.show()"
   ]
  },
  {
   "cell_type": "code",
   "execution_count": 27,
   "metadata": {},
   "outputs": [
    {
     "name": "stdout",
     "output_type": "stream",
     "text": [
      "R2 scores:  [ 0.64998293  0.68599443  0.51921265  0.37852491]\n",
      "mean R2 score:  0.558428727884 \n",
      "\n",
      "RMSE mean:  8.57423555625 \n",
      "\n",
      "R-squared test:  0.649982925042\n",
      "RMSE:  9.30838333989\n"
     ]
    }
   ],
   "source": [
    "from xgboost import XGBRegressor\n",
    "\n",
    "dfc = df.copy()\n",
    "\n",
    "# divide dfc into training and testing\n",
    "X = dfc.iloc[:, :-1]\n",
    "y = dfc[['efficiency']]\n",
    "\n",
    "X_train, X_test, y_train, y_test = train_test_split(X, y, test_size=0.25, random_state=rs)\n",
    "\n",
    "regressor = XGBRegressor()\n",
    "regressor.fit(X_train, y_train.values.ravel())\n",
    "y_predictions = regressor.predict(X_test)\n",
    "\n",
    "r2_scores = cross_val_score(regressor, X, y.values.ravel(), cv=kfold)\n",
    "print('R2 scores: ', r2_scores)\n",
    "print('mean R2 score: ', r2_scores.mean(), '\\n')\n",
    "\n",
    "mse_scores = cross_val_score(regressor, X, y.values.ravel(), cv=loo, scoring='neg_mean_squared_error')\n",
    "# print('MSE scores: ', -mse_scores)\n",
    "print('RMSE mean: ', np.sqrt(-mse_scores.mean()) , '\\n')\n",
    "\n",
    "# Check how our model is doing on test set\n",
    "print('R-squared test: ', regressor.score(X_test, y_test))\n",
    "print('RMSE: ', np.sqrt(mean_squared_error(y_test, y_predictions)))"
   ]
  },
  {
   "cell_type": "code",
   "execution_count": 28,
   "metadata": {},
   "outputs": [
    {
     "name": "stdout",
     "output_type": "stream",
     "text": [
      "R2 scores:  [ 0.64998293  0.68599443  0.51921265  0.37852491]\n",
      "mean R2 score:  0.558428727884 \n",
      "\n",
      "RMSE mean:  8.57423555625 \n",
      "\n",
      "R-squared test:  0.334050142556\n",
      "RMSE:  12.0541980574\n"
     ]
    }
   ],
   "source": [
    "dfc = df.copy()\n",
    "\n",
    "# divide dfc into training and testing\n",
    "X = dfc.iloc[:, :-1]\n",
    "y = dfc[['efficiency']]\n",
    "\n",
    "X_train, X_test, y_train, y_test = train_test_split(X, y, test_size=0.5, random_state=rs)\n",
    "\n",
    "regressor = XGBRegressor()\n",
    "regressor.fit(X_train, y_train.values.ravel())\n",
    "y_predictions = regressor.predict(X_test)\n",
    "\n",
    "r2_scores = cross_val_score(regressor, X, y.values.ravel(), cv=kfold)\n",
    "print('R2 scores: ', r2_scores)\n",
    "print('mean R2 score: ', r2_scores.mean(), '\\n')\n",
    "\n",
    "mse_scores = cross_val_score(regressor, X, y.values.ravel(), cv=loo, scoring='neg_mean_squared_error')\n",
    "# print('MSE scores: ', -mse_scores)\n",
    "print('RMSE mean: ', np.sqrt(-mse_scores.mean()) , '\\n')\n",
    "\n",
    "# Check how our model is doing on test set\n",
    "print('R-squared test: ', regressor.score(X_test, y_test))\n",
    "print('RMSE: ', np.sqrt(mean_squared_error(y_test, y_predictions)))"
   ]
  },
  {
   "cell_type": "code",
   "execution_count": 29,
   "metadata": {},
   "outputs": [
    {
     "name": "stdout",
     "output_type": "stream",
     "text": [
      "R2 scores:  [ 0.64998293  0.68599443  0.51921265  0.37852491]\n",
      "mean R2 score:  0.558428727884 \n",
      "\n",
      "RMSE mean:  8.57423555625 \n",
      "\n",
      "R-squared test:  0.0545073272077\n",
      "RMSE:  13.9596268114\n"
     ]
    }
   ],
   "source": [
    "dfc = df.copy()\n",
    "\n",
    "# divide dfc into training and testing\n",
    "X = dfc.iloc[:, :-1]\n",
    "y = dfc[['efficiency']]\n",
    "\n",
    "X_train, X_test, y_train, y_test = train_test_split(X, y, test_size=0.75, random_state=rs)\n",
    "\n",
    "regressor = XGBRegressor()\n",
    "regressor.fit(X_train, y_train.values.ravel())\n",
    "y_predictions = regressor.predict(X_test)\n",
    "\n",
    "# Check how our model is doing on test set\n",
    "print('R-squared test: ', regressor.score(X_test, y_test))\n",
    "print('RMSE: ', np.sqrt(mean_squared_error(y_test, y_predictions)))"
   ]
  },
  {
   "cell_type": "code",
   "execution_count": 35,
   "metadata": {},
   "outputs": [
    {
     "name": "stdout",
     "output_type": "stream",
     "text": [
      "R-squared test:  0.640697001141\n",
      "RMSE:  9.43105039696\n"
     ]
    }
   ],
   "source": [
    "from sklearn.ensemble import AdaBoostRegressor\n",
    "\n",
    "dfc = df.copy()\n",
    "\n",
    "# divide dfc into training and testing\n",
    "X = dfc.iloc[:, :-1]\n",
    "y = dfc[['efficiency']]\n",
    "\n",
    "X_train, X_test, y_train, y_test = train_test_split(X, y, test_size=0.25, random_state=rs)\n",
    "\n",
    "regressor = AdaBoostRegressor()\n",
    "regressor.fit(X_train, y_train.values.ravel())\n",
    "y_predictions = regressor.predict(X_test)\n",
    "\n",
    "# Check how our model is doing on test set\n",
    "print('R-squared test: ', regressor.score(X_test, y_test))\n",
    "print('RMSE: ', np.sqrt(mean_squared_error(y_test, y_predictions)))"
   ]
  },
  {
   "cell_type": "code",
   "execution_count": 36,
   "metadata": {},
   "outputs": [
    {
     "name": "stdout",
     "output_type": "stream",
     "text": [
      "R-squared test:  0.480728352472\n",
      "RMSE:  10.6442450202\n"
     ]
    }
   ],
   "source": [
    "dfc = df.copy()\n",
    "\n",
    "# divide dfc into training and testing\n",
    "X = dfc.iloc[:, :-1]\n",
    "y = dfc[['efficiency']]\n",
    "\n",
    "X_train, X_test, y_train, y_test = train_test_split(X, y, test_size=0.5, random_state=rs)\n",
    "\n",
    "regressor = AdaBoostRegressor()\n",
    "regressor.fit(X_train, y_train.values.ravel())\n",
    "y_predictions = regressor.predict(X_test)\n",
    "\n",
    "# Check how our model is doing on test set\n",
    "print('R-squared test: ', regressor.score(X_test, y_test))\n",
    "print('RMSE: ', np.sqrt(mean_squared_error(y_test, y_predictions)))"
   ]
  },
  {
   "cell_type": "code",
   "execution_count": 37,
   "metadata": {},
   "outputs": [
    {
     "name": "stdout",
     "output_type": "stream",
     "text": [
      "R-squared test:  0.0542242955043\n",
      "RMSE:  13.9617160509\n"
     ]
    }
   ],
   "source": [
    "dfc = df.copy()\n",
    "\n",
    "# divide dfc into training and testing\n",
    "X = dfc.iloc[:, :-1]\n",
    "y = dfc[['efficiency']]\n",
    "\n",
    "X_train, X_test, y_train, y_test = train_test_split(X, y, test_size=0.75, random_state=rs)\n",
    "\n",
    "regressor = AdaBoostRegressor()\n",
    "regressor.fit(X_train, y_train.values.ravel())\n",
    "y_predictions = regressor.predict(X_test)\n",
    "\n",
    "# Check how our model is doing on test set\n",
    "print('R-squared test: ', regressor.score(X_test, y_test))\n",
    "print('RMSE: ', np.sqrt(mean_squared_error(y_test, y_predictions)))"
   ]
  },
  {
   "cell_type": "code",
   "execution_count": 38,
   "metadata": {},
   "outputs": [
    {
     "name": "stdout",
     "output_type": "stream",
     "text": [
      "R-squared test:  0.691534256173\n",
      "RMSE:  8.73842403559\n"
     ]
    }
   ],
   "source": [
    "from sklearn.ensemble import GradientBoostingRegressor\n",
    "\n",
    "dfc = df.copy()\n",
    "\n",
    "# divide dfc into training and testing\n",
    "X = dfc.iloc[:, :-1]\n",
    "y = dfc[['efficiency']]\n",
    "\n",
    "X_train, X_test, y_train, y_test = train_test_split(X, y, test_size=0.25, random_state=rs)\n",
    "\n",
    "regressor = GradientBoostingRegressor()\n",
    "regressor.fit(X_train, y_train.values.ravel())\n",
    "y_predictions = regressor.predict(X_test)\n",
    "\n",
    "# Check how our model is doing on test set\n",
    "print('R-squared test: ', regressor.score(X_test, y_test))\n",
    "print('RMSE: ', np.sqrt(mean_squared_error(y_test, y_predictions)))"
   ]
  },
  {
   "cell_type": "code",
   "execution_count": 39,
   "metadata": {},
   "outputs": [
    {
     "name": "stdout",
     "output_type": "stream",
     "text": [
      "R-squared test:  0.550773002495\n",
      "RMSE:  9.90034849123\n"
     ]
    }
   ],
   "source": [
    "dfc = df.copy()\n",
    "\n",
    "# divide dfc into training and testing\n",
    "X = dfc.iloc[:, :-1]\n",
    "y = dfc[['efficiency']]\n",
    "\n",
    "X_train, X_test, y_train, y_test = train_test_split(X, y, test_size=0.5, random_state=rs)\n",
    "\n",
    "regressor = GradientBoostingRegressor()\n",
    "regressor.fit(X_train, y_train.values.ravel())\n",
    "y_predictions = regressor.predict(X_test)\n",
    "\n",
    "# Check how our model is doing on test set\n",
    "print('R-squared test: ', regressor.score(X_test, y_test))\n",
    "print('RMSE: ', np.sqrt(mean_squared_error(y_test, y_predictions)))"
   ]
  },
  {
   "cell_type": "code",
   "execution_count": 40,
   "metadata": {},
   "outputs": [
    {
     "name": "stdout",
     "output_type": "stream",
     "text": [
      "R-squared test:  0.174355428862\n",
      "RMSE:  13.0449160719\n"
     ]
    }
   ],
   "source": [
    "dfc = df.copy()\n",
    "\n",
    "# divide dfc into training and testing\n",
    "X = dfc.iloc[:, :-1]\n",
    "y = dfc[['efficiency']]\n",
    "\n",
    "X_train, X_test, y_train, y_test = train_test_split(X, y, test_size=0.75, random_state=rs)\n",
    "\n",
    "regressor = GradientBoostingRegressor()\n",
    "regressor.fit(X_train, y_train.values.ravel())\n",
    "y_predictions = regressor.predict(X_test)\n",
    "\n",
    "# Check how our model is doing on test set\n",
    "print('R-squared test: ', regressor.score(X_test, y_test))\n",
    "print('RMSE: ', np.sqrt(mean_squared_error(y_test, y_predictions)))"
   ]
  },
  {
   "cell_type": "code",
   "execution_count": 41,
   "metadata": {},
   "outputs": [
    {
     "name": "stdout",
     "output_type": "stream",
     "text": [
      "R-squared test:  0.348444010444\n",
      "RMSE:  12.7000524735\n"
     ]
    }
   ],
   "source": [
    "from sklearn.neighbors import KNeighborsRegressor\n",
    "\n",
    "dfc = df.copy()\n",
    "\n",
    "# divide dfc into training and testing\n",
    "X = dfc.iloc[:, :-1]\n",
    "y = dfc[['efficiency']]\n",
    "\n",
    "X_train, X_test, y_train, y_test = train_test_split(X, y, test_size=0.25, random_state=rs)\n",
    "\n",
    "regressor = KNeighborsRegressor(n_neighbors=8)\n",
    "regressor.fit(X_train, y_train.values.ravel())\n",
    "y_predictions = regressor.predict(X_test)\n",
    "\n",
    "# Check how our model is doing on test set\n",
    "print('R-squared test: ', regressor.score(X_test, y_test))\n",
    "print('RMSE: ', np.sqrt(mean_squared_error(y_test, y_predictions)))"
   ]
  },
  {
   "cell_type": "code",
   "execution_count": 42,
   "metadata": {},
   "outputs": [
    {
     "name": "stdout",
     "output_type": "stream",
     "text": [
      "R-squared test:  0.195762664881\n",
      "RMSE:  13.2467601526\n"
     ]
    }
   ],
   "source": [
    "dfc = df.copy()\n",
    "\n",
    "# divide dfc into training and testing\n",
    "X = dfc.iloc[:, :-1]\n",
    "y = dfc[['efficiency']]\n",
    "\n",
    "X_train, X_test, y_train, y_test = train_test_split(X, y, test_size=0.5, random_state=rs)\n",
    "\n",
    "regressor = KNeighborsRegressor(n_neighbors=8)\n",
    "regressor.fit(X_train, y_train.values.ravel())\n",
    "y_predictions = regressor.predict(X_test)\n",
    "\n",
    "# Check how our model is doing on test set\n",
    "print('R-squared test: ', regressor.score(X_test, y_test))\n",
    "print('RMSE: ', np.sqrt(mean_squared_error(y_test, y_predictions)))"
   ]
  },
  {
   "cell_type": "code",
   "execution_count": 43,
   "metadata": {},
   "outputs": [
    {
     "name": "stdout",
     "output_type": "stream",
     "text": [
      "R-squared test:  0.0990164345519\n",
      "RMSE:  13.627091094\n"
     ]
    }
   ],
   "source": [
    "dfc = df.copy()\n",
    "\n",
    "# divide dfc into training and testing\n",
    "X = dfc.iloc[:, :-1]\n",
    "y = dfc[['efficiency']]\n",
    "\n",
    "X_train, X_test, y_train, y_test = train_test_split(X, y, test_size=0.75, random_state=rs)\n",
    "\n",
    "regressor = KNeighborsRegressor(n_neighbors=8)\n",
    "regressor.fit(X_train, y_train.values.ravel())\n",
    "y_predictions = regressor.predict(X_test)\n",
    "\n",
    "# Check how our model is doing on test set\n",
    "print('R-squared test: ', regressor.score(X_test, y_test))\n",
    "print('RMSE: ', np.sqrt(mean_squared_error(y_test, y_predictions)))"
   ]
  },
  {
   "cell_type": "code",
   "execution_count": null,
   "metadata": {},
   "outputs": [],
   "source": []
  }
 ],
 "metadata": {
  "kernelspec": {
   "display_name": "Python [default]",
   "language": "python",
   "name": "python3"
  },
  "language_info": {
   "codemirror_mode": {
    "name": "ipython",
    "version": 3
   },
   "file_extension": ".py",
   "mimetype": "text/x-python",
   "name": "python",
   "nbconvert_exporter": "python",
   "pygments_lexer": "ipython3",
   "version": "3.6.0"
  }
 },
 "nbformat": 4,
 "nbformat_minor": 2
}
