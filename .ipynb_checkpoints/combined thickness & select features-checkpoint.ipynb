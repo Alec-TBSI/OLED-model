{
 "cells": [
  {
   "cell_type": "markdown",
   "metadata": {},
   "source": [
    "## Input data\n"
   ]
  },
  {
   "cell_type": "markdown",
   "metadata": {},
   "source": [
    "### Using combine thickness"
   ]
  },
  {
   "cell_type": "code",
   "execution_count": 48,
   "metadata": {},
   "outputs": [],
   "source": [
    "import matplotlib.pyplot as plt\n",
    "import pandas as pd\n",
    "import numpy as np\n",
    "import seaborn as sns\n",
    "from pandas.plotting import parallel_coordinates\n",
    "from PIL import Image\n",
    "from io import BytesIO\n",
    "\n",
    "plt.style.use('classic')\n",
    "%matplotlib inline"
   ]
  },
  {
   "cell_type": "code",
   "execution_count": 49,
   "metadata": {},
   "outputs": [
    {
     "name": "stdout",
     "output_type": "stream",
     "text": [
      "(162, 23)\n"
     ]
    },
    {
     "data": {
      "text/html": [
       "<div>\n",
       "<style>\n",
       "    .dataframe thead tr:only-child th {\n",
       "        text-align: right;\n",
       "    }\n",
       "\n",
       "    .dataframe thead th {\n",
       "        text-align: left;\n",
       "    }\n",
       "\n",
       "    .dataframe tbody tr th {\n",
       "        vertical-align: top;\n",
       "    }\n",
       "</style>\n",
       "<table border=\"1\" class=\"dataframe\">\n",
       "  <thead>\n",
       "    <tr style=\"text-align: right;\">\n",
       "      <th></th>\n",
       "      <th>homo_HIL</th>\n",
       "      <th>thickness_HIL</th>\n",
       "      <th>lumo_HTL1</th>\n",
       "      <th>homo_HTL1</th>\n",
       "      <th>lumo_HTL2</th>\n",
       "      <th>homo_HTL2</th>\n",
       "      <th>total_HTL_thickness</th>\n",
       "      <th>triplet_HTL</th>\n",
       "      <th>lumo_EML</th>\n",
       "      <th>homo_EML</th>\n",
       "      <th>...</th>\n",
       "      <th>homo_dopant</th>\n",
       "      <th>triplet_dopant</th>\n",
       "      <th>dopant_percentage</th>\n",
       "      <th>triplet_ETL</th>\n",
       "      <th>total_ETL_thickness</th>\n",
       "      <th>lumo_ETL2</th>\n",
       "      <th>homo_ETL2</th>\n",
       "      <th>cathode_workfunction</th>\n",
       "      <th>thickness_EIL</th>\n",
       "      <th>efficiency</th>\n",
       "    </tr>\n",
       "  </thead>\n",
       "  <tbody>\n",
       "    <tr>\n",
       "      <th>0</th>\n",
       "      <td>5.2</td>\n",
       "      <td>25.0</td>\n",
       "      <td>3.3</td>\n",
       "      <td>5.2</td>\n",
       "      <td>3.3</td>\n",
       "      <td>5.2</td>\n",
       "      <td>0</td>\n",
       "      <td>0.0</td>\n",
       "      <td>1.83</td>\n",
       "      <td>5.27</td>\n",
       "      <td>...</td>\n",
       "      <td>5.7</td>\n",
       "      <td>2.7</td>\n",
       "      <td>11.0</td>\n",
       "      <td>2.6</td>\n",
       "      <td>35</td>\n",
       "      <td>2.8</td>\n",
       "      <td>6.2</td>\n",
       "      <td>2.8</td>\n",
       "      <td>10.0</td>\n",
       "      <td>5.0</td>\n",
       "    </tr>\n",
       "    <tr>\n",
       "      <th>1</th>\n",
       "      <td>5.2</td>\n",
       "      <td>25.0</td>\n",
       "      <td>3.3</td>\n",
       "      <td>5.2</td>\n",
       "      <td>3.3</td>\n",
       "      <td>5.2</td>\n",
       "      <td>0</td>\n",
       "      <td>0.0</td>\n",
       "      <td>2.00</td>\n",
       "      <td>5.50</td>\n",
       "      <td>...</td>\n",
       "      <td>5.7</td>\n",
       "      <td>2.7</td>\n",
       "      <td>15.0</td>\n",
       "      <td>2.6</td>\n",
       "      <td>35</td>\n",
       "      <td>2.8</td>\n",
       "      <td>6.2</td>\n",
       "      <td>2.8</td>\n",
       "      <td>10.0</td>\n",
       "      <td>4.0</td>\n",
       "    </tr>\n",
       "    <tr>\n",
       "      <th>2</th>\n",
       "      <td>5.2</td>\n",
       "      <td>25.0</td>\n",
       "      <td>3.3</td>\n",
       "      <td>5.2</td>\n",
       "      <td>3.3</td>\n",
       "      <td>5.2</td>\n",
       "      <td>0</td>\n",
       "      <td>0.0</td>\n",
       "      <td>1.83</td>\n",
       "      <td>5.27</td>\n",
       "      <td>...</td>\n",
       "      <td>5.7</td>\n",
       "      <td>2.7</td>\n",
       "      <td>15.0</td>\n",
       "      <td>2.6</td>\n",
       "      <td>35</td>\n",
       "      <td>2.8</td>\n",
       "      <td>6.2</td>\n",
       "      <td>2.8</td>\n",
       "      <td>10.0</td>\n",
       "      <td>9.0</td>\n",
       "    </tr>\n",
       "    <tr>\n",
       "      <th>3</th>\n",
       "      <td>5.2</td>\n",
       "      <td>25.0</td>\n",
       "      <td>3.3</td>\n",
       "      <td>5.2</td>\n",
       "      <td>3.3</td>\n",
       "      <td>5.2</td>\n",
       "      <td>0</td>\n",
       "      <td>0.0</td>\n",
       "      <td>1.83</td>\n",
       "      <td>5.50</td>\n",
       "      <td>...</td>\n",
       "      <td>5.7</td>\n",
       "      <td>2.7</td>\n",
       "      <td>15.0</td>\n",
       "      <td>2.6</td>\n",
       "      <td>35</td>\n",
       "      <td>2.8</td>\n",
       "      <td>6.2</td>\n",
       "      <td>2.8</td>\n",
       "      <td>10.0</td>\n",
       "      <td>12.0</td>\n",
       "    </tr>\n",
       "    <tr>\n",
       "      <th>4</th>\n",
       "      <td>5.2</td>\n",
       "      <td>25.0</td>\n",
       "      <td>3.3</td>\n",
       "      <td>5.2</td>\n",
       "      <td>3.3</td>\n",
       "      <td>5.2</td>\n",
       "      <td>0</td>\n",
       "      <td>0.0</td>\n",
       "      <td>1.83</td>\n",
       "      <td>5.27</td>\n",
       "      <td>...</td>\n",
       "      <td>5.7</td>\n",
       "      <td>2.7</td>\n",
       "      <td>20.0</td>\n",
       "      <td>2.6</td>\n",
       "      <td>35</td>\n",
       "      <td>2.8</td>\n",
       "      <td>6.2</td>\n",
       "      <td>2.8</td>\n",
       "      <td>10.0</td>\n",
       "      <td>8.0</td>\n",
       "    </tr>\n",
       "  </tbody>\n",
       "</table>\n",
       "<p>5 rows × 23 columns</p>\n",
       "</div>"
      ],
      "text/plain": [
       "   homo_HIL  thickness_HIL  lumo_HTL1  homo_HTL1  lumo_HTL2  homo_HTL2  \\\n",
       "0       5.2           25.0        3.3        5.2        3.3        5.2   \n",
       "1       5.2           25.0        3.3        5.2        3.3        5.2   \n",
       "2       5.2           25.0        3.3        5.2        3.3        5.2   \n",
       "3       5.2           25.0        3.3        5.2        3.3        5.2   \n",
       "4       5.2           25.0        3.3        5.2        3.3        5.2   \n",
       "\n",
       "   total_HTL_thickness  triplet_HTL  lumo_EML  homo_EML     ...      \\\n",
       "0                    0          0.0      1.83      5.27     ...       \n",
       "1                    0          0.0      2.00      5.50     ...       \n",
       "2                    0          0.0      1.83      5.27     ...       \n",
       "3                    0          0.0      1.83      5.50     ...       \n",
       "4                    0          0.0      1.83      5.27     ...       \n",
       "\n",
       "   homo_dopant  triplet_dopant  dopant_percentage  triplet_ETL  \\\n",
       "0          5.7             2.7               11.0          2.6   \n",
       "1          5.7             2.7               15.0          2.6   \n",
       "2          5.7             2.7               15.0          2.6   \n",
       "3          5.7             2.7               15.0          2.6   \n",
       "4          5.7             2.7               20.0          2.6   \n",
       "\n",
       "   total_ETL_thickness  lumo_ETL2  homo_ETL2  cathode_workfunction  \\\n",
       "0                   35        2.8        6.2                   2.8   \n",
       "1                   35        2.8        6.2                   2.8   \n",
       "2                   35        2.8        6.2                   2.8   \n",
       "3                   35        2.8        6.2                   2.8   \n",
       "4                   35        2.8        6.2                   2.8   \n",
       "\n",
       "   thickness_EIL  efficiency  \n",
       "0           10.0         5.0  \n",
       "1           10.0         4.0  \n",
       "2           10.0         9.0  \n",
       "3           10.0        12.0  \n",
       "4           10.0         8.0  \n",
       "\n",
       "[5 rows x 23 columns]"
      ]
     },
     "execution_count": 49,
     "metadata": {},
     "output_type": "execute_result"
    }
   ],
   "source": [
    "# read excel file\n",
    "df = pd.read_excel('C:/Users/acc_a/OneDrive/PhOLED.xlsx', sheetname='combined thickness')\n",
    "df = df[list(df.columns)[1:]]\n",
    "print(df.shape)\n",
    "df.head()"
   ]
  },
  {
   "cell_type": "code",
   "execution_count": 50,
   "metadata": {},
   "outputs": [
    {
     "data": {
      "text/plain": [
       "Series([], dtype: int64)"
      ]
     },
     "execution_count": 50,
     "metadata": {},
     "output_type": "execute_result"
    }
   ],
   "source": [
    "#Checking for missing data\n",
    "NAs = df.isnull().sum()\n",
    "NAs.sort_values(0, ascending=False)\n",
    "NAs[NAs > 0] #check wnumber of null values in column\n",
    "\n",
    "# np.nonzero(pd.isnull(df.values).any(1)) #check the index of missing value\n",
    "\n",
    "#drop the missing data\n",
    "# df.dropna(axis=0, inplace=True)\n",
    "# print(df.shape)"
   ]
  },
  {
   "cell_type": "code",
   "execution_count": 51,
   "metadata": {},
   "outputs": [
    {
     "name": "stdout",
     "output_type": "stream",
     "text": [
      "(162, 22)\n"
     ]
    },
    {
     "data": {
      "text/html": [
       "<div>\n",
       "<style>\n",
       "    .dataframe thead tr:only-child th {\n",
       "        text-align: right;\n",
       "    }\n",
       "\n",
       "    .dataframe thead th {\n",
       "        text-align: left;\n",
       "    }\n",
       "\n",
       "    .dataframe tbody tr th {\n",
       "        vertical-align: top;\n",
       "    }\n",
       "</style>\n",
       "<table border=\"1\" class=\"dataframe\">\n",
       "  <thead>\n",
       "    <tr style=\"text-align: right;\">\n",
       "      <th></th>\n",
       "      <th>homo_HIL</th>\n",
       "      <th>thickness_HIL</th>\n",
       "      <th>lumo_HTL1</th>\n",
       "      <th>homo_HTL1</th>\n",
       "      <th>lumo_HTL2</th>\n",
       "      <th>homo_HTL2</th>\n",
       "      <th>total_HTL_thickness</th>\n",
       "      <th>triplet_HTL</th>\n",
       "      <th>lumo_EML</th>\n",
       "      <th>homo_EML</th>\n",
       "      <th>...</th>\n",
       "      <th>lumo_dopant</th>\n",
       "      <th>homo_dopant</th>\n",
       "      <th>triplet_dopant</th>\n",
       "      <th>dopant_percentage</th>\n",
       "      <th>triplet_ETL</th>\n",
       "      <th>total_ETL_thickness</th>\n",
       "      <th>lumo_ETL2</th>\n",
       "      <th>homo_ETL2</th>\n",
       "      <th>cathode_workfunction</th>\n",
       "      <th>thickness_EIL</th>\n",
       "    </tr>\n",
       "  </thead>\n",
       "  <tbody>\n",
       "    <tr>\n",
       "      <th>0</th>\n",
       "      <td>5.2</td>\n",
       "      <td>25.0</td>\n",
       "      <td>3.3</td>\n",
       "      <td>5.2</td>\n",
       "      <td>3.3</td>\n",
       "      <td>5.2</td>\n",
       "      <td>0</td>\n",
       "      <td>0.0</td>\n",
       "      <td>1.83</td>\n",
       "      <td>5.27</td>\n",
       "      <td>...</td>\n",
       "      <td>3.0</td>\n",
       "      <td>5.7</td>\n",
       "      <td>2.7</td>\n",
       "      <td>11.0</td>\n",
       "      <td>2.6</td>\n",
       "      <td>35</td>\n",
       "      <td>2.8</td>\n",
       "      <td>6.2</td>\n",
       "      <td>2.8</td>\n",
       "      <td>10.0</td>\n",
       "    </tr>\n",
       "    <tr>\n",
       "      <th>1</th>\n",
       "      <td>5.2</td>\n",
       "      <td>25.0</td>\n",
       "      <td>3.3</td>\n",
       "      <td>5.2</td>\n",
       "      <td>3.3</td>\n",
       "      <td>5.2</td>\n",
       "      <td>0</td>\n",
       "      <td>0.0</td>\n",
       "      <td>2.00</td>\n",
       "      <td>5.50</td>\n",
       "      <td>...</td>\n",
       "      <td>3.0</td>\n",
       "      <td>5.7</td>\n",
       "      <td>2.7</td>\n",
       "      <td>15.0</td>\n",
       "      <td>2.6</td>\n",
       "      <td>35</td>\n",
       "      <td>2.8</td>\n",
       "      <td>6.2</td>\n",
       "      <td>2.8</td>\n",
       "      <td>10.0</td>\n",
       "    </tr>\n",
       "    <tr>\n",
       "      <th>2</th>\n",
       "      <td>5.2</td>\n",
       "      <td>25.0</td>\n",
       "      <td>3.3</td>\n",
       "      <td>5.2</td>\n",
       "      <td>3.3</td>\n",
       "      <td>5.2</td>\n",
       "      <td>0</td>\n",
       "      <td>0.0</td>\n",
       "      <td>1.83</td>\n",
       "      <td>5.27</td>\n",
       "      <td>...</td>\n",
       "      <td>3.0</td>\n",
       "      <td>5.7</td>\n",
       "      <td>2.7</td>\n",
       "      <td>15.0</td>\n",
       "      <td>2.6</td>\n",
       "      <td>35</td>\n",
       "      <td>2.8</td>\n",
       "      <td>6.2</td>\n",
       "      <td>2.8</td>\n",
       "      <td>10.0</td>\n",
       "    </tr>\n",
       "    <tr>\n",
       "      <th>3</th>\n",
       "      <td>5.2</td>\n",
       "      <td>25.0</td>\n",
       "      <td>3.3</td>\n",
       "      <td>5.2</td>\n",
       "      <td>3.3</td>\n",
       "      <td>5.2</td>\n",
       "      <td>0</td>\n",
       "      <td>0.0</td>\n",
       "      <td>1.83</td>\n",
       "      <td>5.50</td>\n",
       "      <td>...</td>\n",
       "      <td>3.0</td>\n",
       "      <td>5.7</td>\n",
       "      <td>2.7</td>\n",
       "      <td>15.0</td>\n",
       "      <td>2.6</td>\n",
       "      <td>35</td>\n",
       "      <td>2.8</td>\n",
       "      <td>6.2</td>\n",
       "      <td>2.8</td>\n",
       "      <td>10.0</td>\n",
       "    </tr>\n",
       "    <tr>\n",
       "      <th>4</th>\n",
       "      <td>5.2</td>\n",
       "      <td>25.0</td>\n",
       "      <td>3.3</td>\n",
       "      <td>5.2</td>\n",
       "      <td>3.3</td>\n",
       "      <td>5.2</td>\n",
       "      <td>0</td>\n",
       "      <td>0.0</td>\n",
       "      <td>1.83</td>\n",
       "      <td>5.27</td>\n",
       "      <td>...</td>\n",
       "      <td>3.0</td>\n",
       "      <td>5.7</td>\n",
       "      <td>2.7</td>\n",
       "      <td>20.0</td>\n",
       "      <td>2.6</td>\n",
       "      <td>35</td>\n",
       "      <td>2.8</td>\n",
       "      <td>6.2</td>\n",
       "      <td>2.8</td>\n",
       "      <td>10.0</td>\n",
       "    </tr>\n",
       "  </tbody>\n",
       "</table>\n",
       "<p>5 rows × 22 columns</p>\n",
       "</div>"
      ],
      "text/plain": [
       "   homo_HIL  thickness_HIL  lumo_HTL1  homo_HTL1  lumo_HTL2  homo_HTL2  \\\n",
       "0       5.2           25.0        3.3        5.2        3.3        5.2   \n",
       "1       5.2           25.0        3.3        5.2        3.3        5.2   \n",
       "2       5.2           25.0        3.3        5.2        3.3        5.2   \n",
       "3       5.2           25.0        3.3        5.2        3.3        5.2   \n",
       "4       5.2           25.0        3.3        5.2        3.3        5.2   \n",
       "\n",
       "   total_HTL_thickness  triplet_HTL  lumo_EML  homo_EML      ...        \\\n",
       "0                    0          0.0      1.83      5.27      ...         \n",
       "1                    0          0.0      2.00      5.50      ...         \n",
       "2                    0          0.0      1.83      5.27      ...         \n",
       "3                    0          0.0      1.83      5.50      ...         \n",
       "4                    0          0.0      1.83      5.27      ...         \n",
       "\n",
       "   lumo_dopant  homo_dopant  triplet_dopant  dopant_percentage  triplet_ETL  \\\n",
       "0          3.0          5.7             2.7               11.0          2.6   \n",
       "1          3.0          5.7             2.7               15.0          2.6   \n",
       "2          3.0          5.7             2.7               15.0          2.6   \n",
       "3          3.0          5.7             2.7               15.0          2.6   \n",
       "4          3.0          5.7             2.7               20.0          2.6   \n",
       "\n",
       "   total_ETL_thickness  lumo_ETL2  homo_ETL2  cathode_workfunction  \\\n",
       "0                   35        2.8        6.2                   2.8   \n",
       "1                   35        2.8        6.2                   2.8   \n",
       "2                   35        2.8        6.2                   2.8   \n",
       "3                   35        2.8        6.2                   2.8   \n",
       "4                   35        2.8        6.2                   2.8   \n",
       "\n",
       "   thickness_EIL  \n",
       "0           10.0  \n",
       "1           10.0  \n",
       "2           10.0  \n",
       "3           10.0  \n",
       "4           10.0  \n",
       "\n",
       "[5 rows x 22 columns]"
      ]
     },
     "execution_count": 51,
     "metadata": {},
     "output_type": "execute_result"
    }
   ],
   "source": [
    "X = df.iloc[:, :-1]\n",
    "y = df[['efficiency']]\n",
    "print(X.shape)\n",
    "X.head()"
   ]
  },
  {
   "cell_type": "code",
   "execution_count": 52,
   "metadata": {},
   "outputs": [],
   "source": [
    "from sklearn.model_selection import train_test_split, cross_val_score\n",
    "from sklearn.metrics import mean_squared_error\n",
    "\n",
    "rs = 26\n",
    "\n",
    "X_train, X_test, y_train, y_test = train_test_split(X, y,test_size=0.25, random_state=rs)"
   ]
  },
  {
   "cell_type": "code",
   "execution_count": 53,
   "metadata": {},
   "outputs": [
    {
     "name": "stdout",
     "output_type": "stream",
     "text": [
      "R2 scores:  [ 0.65561059  0.68010986  0.67635763  0.59824728]\n",
      "mean R2 score:  0.652581340047 \n",
      "\n",
      "RMSE mean:  7.8480370395 \n",
      "\n",
      "R-squared test:  0.662846317489\n",
      "RMSE:  8.17589630939\n"
     ]
    }
   ],
   "source": [
    "from sklearn.ensemble import RandomForestRegressor\n",
    "from sklearn.model_selection import KFold, LeaveOneOut\n",
    "\n",
    "regressor = RandomForestRegressor(n_estimators=130, random_state=7)\n",
    "regressor.fit(X_train, y_train.values.ravel())\n",
    "y_predictions = regressor.predict(X_test)\n",
    "\n",
    "kfold = KFold(n_splits=4, shuffle=True, random_state=rs)\n",
    "loo = LeaveOneOut()\n",
    "r2_scores = cross_val_score(regressor, X, y.values.ravel(), cv=kfold)\n",
    "print('R2 scores: ', r2_scores)\n",
    "print('mean R2 score: ', r2_scores.mean(), '\\n')\n",
    "\n",
    "mse_scores = cross_val_score(regressor, X, y.values.ravel(), cv=loo, scoring='neg_mean_squared_error')\n",
    "print('RMSE mean: ', np.sqrt(-mse_scores.mean()) , '\\n')\n",
    "\n",
    "# Check how our model is doing on test set\n",
    "print('R-squared test: ', regressor.score(X_test, y_test))\n",
    "print('RMSE: ', np.sqrt(mean_squared_error(y_test, y_predictions)))"
   ]
  },
  {
   "cell_type": "code",
   "execution_count": 54,
   "metadata": {},
   "outputs": [
    {
     "name": "stdout",
     "output_type": "stream",
     "text": [
      "        column              importance\n",
      "0       triplet_ETL         0.276\n",
      "1       triplet_HOST        0.131\n",
      "2       total_ETL_thickness 0.121\n",
      "3       homo_EML            0.11\n",
      "4       thickness_EIL       0.058\n",
      "5       thickness_HIL       0.039\n",
      "6       lumo_EML            0.038\n",
      "7       total_HTL_thickness 0.028\n",
      "8       homo_HIL            0.027\n",
      "9       thickness_EML       0.027\n",
      "10      homo_ETL2           0.022\n",
      "11      homo_HTL2           0.018\n",
      "12      dopant_percentage   0.017\n",
      "13      triplet_HTL         0.016\n",
      "14      homo_dopant         0.013\n",
      "15      lumo_ETL2           0.012\n",
      "16      triplet_dopant      0.012\n",
      "17      cathode_workfunction0.009\n",
      "18      homo_HTL1           0.008\n",
      "19      lumo_HTL1           0.008\n",
      "20      lumo_dopant         0.007\n",
      "21      lumo_HTL2           0.004\n"
     ]
    }
   ],
   "source": [
    "importance = regressor.feature_importances_.tolist()\n",
    "names = list(X)\n",
    "\n",
    "importance, names = zip(*sorted(zip(importance, names), reverse=True))\n",
    "importance = [round(float(i), 3) for i in importance]\n",
    "\n",
    "fmt = '{:<8}{:<20}{}'\n",
    "print(fmt.format('', 'column', 'importance'))\n",
    "for i, (name, coef) in enumerate(zip(names, importance)):\n",
    "    print(fmt.format(i, name, coef))"
   ]
  },
  {
   "cell_type": "code",
   "execution_count": 55,
   "metadata": {},
   "outputs": [
    {
     "data": {
      "image/png": "[encoded data removed]",
      "text/plain": [
       "<matplotlib.figure.Figure at 0x202e5bd6550>"
      ]
     },
     "metadata": {},
     "output_type": "display_data"
    }
   ],
   "source": [
    "importance, names = zip(*sorted(zip(importance, names), reverse=False))\n",
    "x = np.arange(len(X.columns))\n",
    "plt.figure(figsize=(12,12));\n",
    "fig = plt.barh(x, importance, 0.9, align='center')\n",
    "plt.xlabel('Importance, arb.unit',fontsize=14)\n",
    "plt.ylabel('Features',fontsize=14)\n",
    "plt.yticks(x,names,fontsize=12)\n",
    "plt.xticks( fontsize=12);"
   ]
  },
  {
   "cell_type": "code",
   "execution_count": 18,
   "metadata": {},
   "outputs": [
    {
     "data": {
      "image/png": "[encoded data removed]",
      "text/plain": [
       "<matplotlib.figure.Figure at 0x202e59d8898>"
      ]
     },
     "metadata": {},
     "output_type": "display_data"
    }
   ],
   "source": [
    "pred_train = regressor.predict(X_train)\n",
    "\n",
    "plt.rcParams['figure.figsize'] = (10.0, 10.0)\n",
    "# plt.scatter(pred_train, y_train, c='r', s=40, label='training')\n",
    "plt.scatter(y_predictions, y_test, c='b', s=40, label='testing')\n",
    "plt.plot([0, 60], [-0,60], 'g-', label='true line')\n",
    "plt.legend(loc=4, frameon=True, title='Legend', fontsize=14);\n",
    "plt.ylabel('True efficiency', fontsize=18)\n",
    "plt.xlabel('Predicted efficiency', fontsize=18)\n",
    "plt.xticks(fontsize=14)\n",
    "plt.yticks(fontsize=14)\n",
    "plt.title(' Random Forest ',fontsize=20)\n",
    "plt.xticks(fontsize=14)\n",
    "plt.show()"
   ]
  },
  {
   "cell_type": "code",
   "execution_count": null,
   "metadata": {},
   "outputs": [],
   "source": [
    "# test on new data with 22 features\n",
    "\n",
    "df2 = pd.read_excel('C:/Users/acc_a/Desktop/predict.xlsx', sheetname='22')\n",
    "df2 = df2[list(df2.columns)[1:]]\n",
    "print(df2.shape)\n",
    "\n",
    "X2 = df2.iloc[:, :-1]\n",
    "\n",
    "y_predictions2 = regressor.predict(X2)\n",
    "y_predictions2"
   ]
  },
  {
   "cell_type": "markdown",
   "metadata": {},
   "source": [
    "### Using selected features"
   ]
  },
  {
   "cell_type": "code",
   "execution_count": 60,
   "metadata": {},
   "outputs": [
    {
     "name": "stdout",
     "output_type": "stream",
     "text": [
      "(162, 8)\n"
     ]
    },
    {
     "data": {
      "text/html": [
       "<div>\n",
       "<style>\n",
       "    .dataframe thead tr:only-child th {\n",
       "        text-align: right;\n",
       "    }\n",
       "\n",
       "    .dataframe thead th {\n",
       "        text-align: left;\n",
       "    }\n",
       "\n",
       "    .dataframe tbody tr th {\n",
       "        vertical-align: top;\n",
       "    }\n",
       "</style>\n",
       "<table border=\"1\" class=\"dataframe\">\n",
       "  <thead>\n",
       "    <tr style=\"text-align: right;\">\n",
       "      <th></th>\n",
       "      <th>total_HTL_thickness</th>\n",
       "      <th>homo_EML</th>\n",
       "      <th>triplet_HOST</th>\n",
       "      <th>thickness_EML</th>\n",
       "      <th>triplet_ETL</th>\n",
       "      <th>total_ETL_thickness</th>\n",
       "      <th>thickness_EIL</th>\n",
       "      <th>efficiency</th>\n",
       "    </tr>\n",
       "  </thead>\n",
       "  <tbody>\n",
       "    <tr>\n",
       "      <th>0</th>\n",
       "      <td>0</td>\n",
       "      <td>5.27</td>\n",
       "      <td>2.88</td>\n",
       "      <td>35</td>\n",
       "      <td>2.6</td>\n",
       "      <td>35</td>\n",
       "      <td>10.0</td>\n",
       "      <td>5.0</td>\n",
       "    </tr>\n",
       "    <tr>\n",
       "      <th>1</th>\n",
       "      <td>0</td>\n",
       "      <td>5.50</td>\n",
       "      <td>2.87</td>\n",
       "      <td>35</td>\n",
       "      <td>2.6</td>\n",
       "      <td>35</td>\n",
       "      <td>10.0</td>\n",
       "      <td>4.0</td>\n",
       "    </tr>\n",
       "    <tr>\n",
       "      <th>2</th>\n",
       "      <td>0</td>\n",
       "      <td>5.27</td>\n",
       "      <td>2.88</td>\n",
       "      <td>35</td>\n",
       "      <td>2.6</td>\n",
       "      <td>35</td>\n",
       "      <td>10.0</td>\n",
       "      <td>9.0</td>\n",
       "    </tr>\n",
       "    <tr>\n",
       "      <th>3</th>\n",
       "      <td>0</td>\n",
       "      <td>5.50</td>\n",
       "      <td>2.88</td>\n",
       "      <td>35</td>\n",
       "      <td>2.6</td>\n",
       "      <td>35</td>\n",
       "      <td>10.0</td>\n",
       "      <td>12.0</td>\n",
       "    </tr>\n",
       "    <tr>\n",
       "      <th>4</th>\n",
       "      <td>0</td>\n",
       "      <td>5.27</td>\n",
       "      <td>2.88</td>\n",
       "      <td>35</td>\n",
       "      <td>2.6</td>\n",
       "      <td>35</td>\n",
       "      <td>10.0</td>\n",
       "      <td>8.0</td>\n",
       "    </tr>\n",
       "  </tbody>\n",
       "</table>\n",
       "</div>"
      ],
      "text/plain": [
       "   total_HTL_thickness  homo_EML  triplet_HOST  thickness_EML  triplet_ETL  \\\n",
       "0                    0      5.27          2.88             35          2.6   \n",
       "1                    0      5.50          2.87             35          2.6   \n",
       "2                    0      5.27          2.88             35          2.6   \n",
       "3                    0      5.50          2.88             35          2.6   \n",
       "4                    0      5.27          2.88             35          2.6   \n",
       "\n",
       "   total_ETL_thickness  thickness_EIL  efficiency  \n",
       "0                   35           10.0         5.0  \n",
       "1                   35           10.0         4.0  \n",
       "2                   35           10.0         9.0  \n",
       "3                   35           10.0        12.0  \n",
       "4                   35           10.0         8.0  "
      ]
     },
     "execution_count": 60,
     "metadata": {},
     "output_type": "execute_result"
    }
   ],
   "source": [
    "# read excel file\n",
    "df = pd.read_excel('C:/Users/acc_a/OneDrive/PhOLED.xlsx', sheetname='selected features')\n",
    "df = df[list(df.columns)[1:]]\n",
    "print(df.shape)\n",
    "df.head()"
   ]
  },
  {
   "cell_type": "code",
   "execution_count": 61,
   "metadata": {},
   "outputs": [
    {
     "name": "stdout",
     "output_type": "stream",
     "text": [
      "(162, 7)\n"
     ]
    },
    {
     "data": {
      "text/html": [
       "<div>\n",
       "<style>\n",
       "    .dataframe thead tr:only-child th {\n",
       "        text-align: right;\n",
       "    }\n",
       "\n",
       "    .dataframe thead th {\n",
       "        text-align: left;\n",
       "    }\n",
       "\n",
       "    .dataframe tbody tr th {\n",
       "        vertical-align: top;\n",
       "    }\n",
       "</style>\n",
       "<table border=\"1\" class=\"dataframe\">\n",
       "  <thead>\n",
       "    <tr style=\"text-align: right;\">\n",
       "      <th></th>\n",
       "      <th>total_HTL_thickness</th>\n",
       "      <th>homo_EML</th>\n",
       "      <th>triplet_HOST</th>\n",
       "      <th>thickness_EML</th>\n",
       "      <th>triplet_ETL</th>\n",
       "      <th>total_ETL_thickness</th>\n",
       "      <th>thickness_EIL</th>\n",
       "    </tr>\n",
       "  </thead>\n",
       "  <tbody>\n",
       "    <tr>\n",
       "      <th>0</th>\n",
       "      <td>0</td>\n",
       "      <td>5.27</td>\n",
       "      <td>2.88</td>\n",
       "      <td>35</td>\n",
       "      <td>2.6</td>\n",
       "      <td>35</td>\n",
       "      <td>10.0</td>\n",
       "    </tr>\n",
       "    <tr>\n",
       "      <th>1</th>\n",
       "      <td>0</td>\n",
       "      <td>5.50</td>\n",
       "      <td>2.87</td>\n",
       "      <td>35</td>\n",
       "      <td>2.6</td>\n",
       "      <td>35</td>\n",
       "      <td>10.0</td>\n",
       "    </tr>\n",
       "    <tr>\n",
       "      <th>2</th>\n",
       "      <td>0</td>\n",
       "      <td>5.27</td>\n",
       "      <td>2.88</td>\n",
       "      <td>35</td>\n",
       "      <td>2.6</td>\n",
       "      <td>35</td>\n",
       "      <td>10.0</td>\n",
       "    </tr>\n",
       "    <tr>\n",
       "      <th>3</th>\n",
       "      <td>0</td>\n",
       "      <td>5.50</td>\n",
       "      <td>2.88</td>\n",
       "      <td>35</td>\n",
       "      <td>2.6</td>\n",
       "      <td>35</td>\n",
       "      <td>10.0</td>\n",
       "    </tr>\n",
       "    <tr>\n",
       "      <th>4</th>\n",
       "      <td>0</td>\n",
       "      <td>5.27</td>\n",
       "      <td>2.88</td>\n",
       "      <td>35</td>\n",
       "      <td>2.6</td>\n",
       "      <td>35</td>\n",
       "      <td>10.0</td>\n",
       "    </tr>\n",
       "  </tbody>\n",
       "</table>\n",
       "</div>"
      ],
      "text/plain": [
       "   total_HTL_thickness  homo_EML  triplet_HOST  thickness_EML  triplet_ETL  \\\n",
       "0                    0      5.27          2.88             35          2.6   \n",
       "1                    0      5.50          2.87             35          2.6   \n",
       "2                    0      5.27          2.88             35          2.6   \n",
       "3                    0      5.50          2.88             35          2.6   \n",
       "4                    0      5.27          2.88             35          2.6   \n",
       "\n",
       "   total_ETL_thickness  thickness_EIL  \n",
       "0                   35           10.0  \n",
       "1                   35           10.0  \n",
       "2                   35           10.0  \n",
       "3                   35           10.0  \n",
       "4                   35           10.0  "
      ]
     },
     "execution_count": 61,
     "metadata": {},
     "output_type": "execute_result"
    }
   ],
   "source": [
    "X = df.iloc[:, :-1]\n",
    "y = df[['efficiency']]\n",
    "print(X.shape)\n",
    "X.head()"
   ]
  },
  {
   "cell_type": "code",
   "execution_count": 62,
   "metadata": {},
   "outputs": [],
   "source": [
    "X_train, X_test, y_train, y_test = train_test_split(X, y,test_size=0.25, random_state=rs)"
   ]
  },
  {
   "cell_type": "code",
   "execution_count": 63,
   "metadata": {},
   "outputs": [
    {
     "name": "stdout",
     "output_type": "stream",
     "text": [
      "R2 scores:  [ 0.63148768  0.71159791  0.58791207  0.60805409]\n",
      "mean R2 score:  0.634762937137 \n",
      "\n",
      "RMSE mean:  8.0242696507 \n",
      "\n",
      "R-squared test:  0.637278549717\n",
      "RMSE:  8.4802379947\n"
     ]
    }
   ],
   "source": [
    "from sklearn.ensemble import RandomForestRegressor\n",
    "from sklearn.model_selection import KFold, LeaveOneOut\n",
    "\n",
    "regressor = RandomForestRegressor(n_estimators=130, random_state=7)\n",
    "regressor.fit(X_train, y_train.values.ravel())\n",
    "y_predictions = regressor.predict(X_test)\n",
    "\n",
    "kfold = KFold(n_splits=4, shuffle=True, random_state=rs)\n",
    "loo = LeaveOneOut()\n",
    "r2_scores = cross_val_score(regressor, X, y.values.ravel(), cv=kfold)\n",
    "print('R2 scores: ', r2_scores)\n",
    "print('mean R2 score: ', r2_scores.mean(), '\\n')\n",
    "\n",
    "mse_scores = cross_val_score(regressor, X, y.values.ravel(), cv=loo, scoring='neg_mean_squared_error')\n",
    "print('RMSE mean: ', np.sqrt(-mse_scores.mean()) , '\\n')\n",
    "\n",
    "# Check how our model is doing on test set\n",
    "print('R-squared test: ', regressor.score(X_test, y_test))\n",
    "print('RMSE: ', np.sqrt(mean_squared_error(y_test, y_predictions)))"
   ]
  },
  {
   "cell_type": "code",
   "execution_count": 64,
   "metadata": {},
   "outputs": [
    {
     "name": "stdout",
     "output_type": "stream",
     "text": [
      "        column              importance\n",
      "0       triplet_ETL         0.307\n",
      "1       triplet_HOST        0.18\n",
      "2       total_ETL_thickness 0.171\n",
      "3       homo_EML            0.146\n",
      "4       thickness_EIL       0.084\n",
      "5       total_HTL_thickness 0.062\n",
      "6       thickness_EML       0.05\n"
     ]
    }
   ],
   "source": [
    "importance = regressor.feature_importances_.tolist()\n",
    "names = list(X)\n",
    "\n",
    "importance, names = zip(*sorted(zip(importance, names), reverse=True))\n",
    "importance = [round(float(i), 3) for i in importance]\n",
    "\n",
    "fmt = '{:<8}{:<20}{}'\n",
    "print(fmt.format('', 'column', 'importance'))\n",
    "for i, (name, coef) in enumerate(zip(names, importance)):\n",
    "    print(fmt.format(i, name, coef))"
   ]
  },
  {
   "cell_type": "code",
   "execution_count": 65,
   "metadata": {},
   "outputs": [
    {
     "data": {
      "image/png": "[encoded data removed]",
      "text/plain": [
       "<matplotlib.figure.Figure at 0x202e5c0bcf8>"
      ]
     },
     "metadata": {},
     "output_type": "display_data"
    }
   ],
   "source": [
    "importance, names = zip(*sorted(zip(importance, names), reverse=False))\n",
    "x = np.arange(len(X.columns))\n",
    "plt.figure(figsize=(12,12));\n",
    "fig = plt.barh(x, importance, 0.9, align='center')\n",
    "plt.xlabel('Importance, arb.unit',fontsize=14)\n",
    "plt.ylabel('Features',fontsize=14)\n",
    "plt.yticks(x,names,fontsize=12)\n",
    "plt.xticks( fontsize=12);"
   ]
  },
  {
   "cell_type": "code",
   "execution_count": 66,
   "metadata": {},
   "outputs": [
    {
     "data": {
      "image/png": "[encoded data removed]",
      "text/plain": [
       "<matplotlib.figure.Figure at 0x202e1b5fc88>"
      ]
     },
     "metadata": {},
     "output_type": "display_data"
    }
   ],
   "source": [
    "pred_train = regressor.predict(X_train)\n",
    "\n",
    "plt.rcParams['figure.figsize'] = (10.0, 10.0)\n",
    "# plt.scatter(pred_train, y_train, c='r', s=40, label='training')\n",
    "plt.scatter(y_predictions, y_test, c='b', s=40, label='testing')\n",
    "plt.plot([0, 60], [-0,60], 'g-', label='true line')\n",
    "plt.legend(loc=4, frameon=True, title='Legend', fontsize=14);\n",
    "plt.ylabel('True efficiency', fontsize=18)\n",
    "plt.xlabel('Predicted efficiency', fontsize=18)\n",
    "plt.xticks(fontsize=14)\n",
    "plt.yticks(fontsize=14)\n",
    "plt.title(' Random Forest ',fontsize=20)\n",
    "plt.xticks(fontsize=14)\n",
    "plt.show()"
   ]
  },
  {
   "cell_type": "code",
   "execution_count": 67,
   "metadata": {},
   "outputs": [
    {
     "name": "stdout",
     "output_type": "stream",
     "text": [
      "(4, 8)\n"
     ]
    },
    {
     "data": {
      "text/plain": [
       "array([ 20.66373176,  20.66373176,  31.45333925,  20.66373176])"
      ]
     },
     "execution_count": 67,
     "metadata": {},
     "output_type": "execute_result"
    }
   ],
   "source": [
    "# test on new data with 7 features\n",
    "df3 = pd.read_excel('C:/Users/acc_a/Desktop/predict.xlsx', sheetname='7')\n",
    "df3 = df3[list(df3.columns)[1:]]\n",
    "print(df3.shape)\n",
    "\n",
    "X3 = df3.iloc[:, :-1]\n",
    "\n",
    "y_predictions3 = regressor.predict(X3)\n",
    "y_predictions3"
   ]
  },
  {
   "cell_type": "code",
   "execution_count": 58,
   "metadata": {},
   "outputs": [
    {
     "name": "stdout",
     "output_type": "stream",
     "text": [
      "(4, 23)\n"
     ]
    }
   ],
   "source": []
  },
  {
   "cell_type": "code",
   "execution_count": null,
   "metadata": {},
   "outputs": [],
   "source": []
  }
 ],
 "metadata": {
  "kernelspec": {
   "display_name": "Python [default]",
   "language": "python",
   "name": "python3"
  },
  "language_info": {
   "codemirror_mode": {
    "name": "ipython",
    "version": 3
   },
   "file_extension": ".py",
   "mimetype": "text/x-python",
   "name": "python",
   "nbconvert_exporter": "python",
   "pygments_lexer": "ipython3",
   "version": "3.6.0"
  }
 },
 "nbformat": 4,
 "nbformat_minor": 2
}
