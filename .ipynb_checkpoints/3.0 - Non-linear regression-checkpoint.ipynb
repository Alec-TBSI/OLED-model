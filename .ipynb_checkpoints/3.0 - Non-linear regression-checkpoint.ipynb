{
 "cells": [
  {
   "cell_type": "markdown",
   "metadata": {},
   "source": [
    "# Non-linear approach for the data\n",
    "\n",
    "The linear model from before is not good enough. So, we use few other algorithms here that include regularized linear model (lasso, ridge) and non-linear model(SVR, random forrest etc.)."
   ]
  },
  {
   "cell_type": "code",
   "execution_count": 1,
   "metadata": {
    "collapsed": false
   },
   "outputs": [],
   "source": [
    "# import libraries\n",
    "import pandas as pd\n",
    "import matplotlib.pylab as plt\n",
    "from sklearn.linear_model import LinearRegression, Ridge, Lasso\n",
    "from sklearn import preprocessing\n",
    "from sklearn.model_selection import cross_val_score, KFold\n",
    "from sklearn.neighbors import KNeighborsRegressor\n",
    "from sklearn.tree import DecisionTreeRegressor\n",
    "from sklearn.svm import SVR\n",
    "from sklearn.ensemble import RandomForestRegressor, GradientBoostingRegressor\n",
    "from sklearn.metrics import mean_squared_error\n",
    "%matplotlib inline"
   ]
  },
  {
   "cell_type": "code",
   "execution_count": 2,
   "metadata": {
    "collapsed": true
   },
   "outputs": [],
   "source": [
    "# Read the data from excel using Pandas and assign features to X and efficiency to y.\n",
    "df = pd.read_excel('C:/Anaconda3/projects/oled/oled.xlsx', sheetname='Sheet3')\n",
    "df = df.fillna(value=0)\n",
    "array = df.values\n",
    "X = array[:, 0:-4]\n",
    "y = array[:, -1]\n",
    "\n",
    "# preprocessing/scaling data/ standardization\n",
    "X = preprocessing.minmax_scale(X)\n",
    "y = preprocessing.minmax_scale(y)"
   ]
  },
  {
   "cell_type": "code",
   "execution_count": 4,
   "metadata": {
    "collapsed": false
   },
   "outputs": [
    {
     "name": "stdout",
     "output_type": "stream",
     "text": [
      "LASS: -0.332030 (0.372190)\n",
      "RIDG: -0.312712 (0.617231)\n",
      "GRB: -0.259877 (0.098652)\n",
      "SVR: -0.338959 (0.392111)\n",
      "KNN: -0.846797 (0.937010)\n",
      "DTR: -0.745450 (0.651247)\n",
      "RFR: -0.341697 (0.163617)\n"
     ]
    }
   ],
   "source": [
    "# prepare models. here I used the model right away using the default parameter\n",
    "regressor = []\n",
    "# regressor.append(('LR', LinearRegression(fit_intercept=True, normalize=False, copy_X=True, n_jobs=-1)))\n",
    "regressor.append(('LASS', Lasso(alpha=0.01)))\n",
    "regressor.append(('RIDG', Ridge(fit_intercept=True, alpha=0.1)))\n",
    "regressor.append(('GRB', GradientBoostingRegressor()))\n",
    "regressor.append(('SVR', SVR(kernel='rbf')))\n",
    "regressor.append(('KNN', KNeighborsRegressor()))\n",
    "regressor.append(('DTR', DecisionTreeRegressor()))\n",
    "regressor.append(('RFR', RandomForestRegressor()))\n",
    "\n",
    "# evaluate each model in turn\n",
    "results = []\n",
    "names = []\n",
    "\n",
    "# Calculate the r-squared for every algorithm (mean score of cross validated data)\n",
    "for name, reg in regressor:\n",
    "    kfold = KFold(n_splits=4, random_state=27)\n",
    "    cv_results = cross_val_score(reg, X, y, cv=kfold)\n",
    "    results.append(cv_results)\n",
    "    names.append(name)\n",
    "    msg = \"%s: %f (%f)\" % (name, cv_results.mean(), cv_results.std())\n",
    "    print(msg)"
   ]
  },
  {
   "cell_type": "code",
   "execution_count": 5,
   "metadata": {
    "collapsed": false
   },
   "outputs": [
    {
     "data": {
      "image/png": "[encoded data removed]",
      "text/plain": [
       "<matplotlib.figure.Figure at 0x18570b25470>"
      ]
     },
     "metadata": {},
     "output_type": "display_data"
    }
   ],
   "source": [
    "# boxplot algorithm comparison\n",
    "fig = plt.figure()\n",
    "fig.suptitle('Algorithm Comparison')\n",
    "ax = fig.add_subplot(111)\n",
    "plt.boxplot(results)\n",
    "ax.set_xticklabels(names)\n",
    "plt.show()\n"
   ]
  },
  {
   "cell_type": "markdown",
   "metadata": {},
   "source": [
    "The models are still pretty bad. We might need to adjust a few things with the features and get more data."
   ]
  }
 ],
 "metadata": {
  "kernelspec": {
   "display_name": "Python [default]",
   "language": "python",
   "name": "python3"
  },
  "language_info": {
   "codemirror_mode": {
    "name": "ipython",
    "version": 3
   },
   "file_extension": ".py",
   "mimetype": "text/x-python",
   "name": "python",
   "nbconvert_exporter": "python",
   "pygments_lexer": "ipython3",
   "version": "3.6.0"
  }
 },
 "nbformat": 4,
 "nbformat_minor": 2
}
