{
 "cells": [
  {
   "cell_type": "code",
   "execution_count": 1,
   "metadata": {
    "collapsed": false
   },
   "outputs": [
    {
     "data": {
      "text/html": [
       "<div>\n",
       "<table border=\"1\" class=\"dataframe\">\n",
       "  <thead>\n",
       "    <tr style=\"text-align: right;\">\n",
       "      <th></th>\n",
       "      <th>Layers</th>\n",
       "      <th>lumo_1</th>\n",
       "      <th>homo_1</th>\n",
       "      <th>t1</th>\n",
       "      <th>lumo_2</th>\n",
       "      <th>homo_2</th>\n",
       "      <th>t2</th>\n",
       "      <th>lumo_3</th>\n",
       "      <th>homo_3</th>\n",
       "      <th>t3</th>\n",
       "      <th>...</th>\n",
       "      <th>HOMO</th>\n",
       "      <th>triplet2</th>\n",
       "      <th>thick</th>\n",
       "      <th>triplet3</th>\n",
       "      <th>lumo6</th>\n",
       "      <th>homo6</th>\n",
       "      <th>t6</th>\n",
       "      <th>wf_1</th>\n",
       "      <th>t7</th>\n",
       "      <th>t8</th>\n",
       "    </tr>\n",
       "  </thead>\n",
       "  <tbody>\n",
       "    <tr>\n",
       "      <th>0</th>\n",
       "      <td>8</td>\n",
       "      <td>3.3</td>\n",
       "      <td>5.2</td>\n",
       "      <td>60.0</td>\n",
       "      <td>2.0</td>\n",
       "      <td>5.5</td>\n",
       "      <td>20.0</td>\n",
       "      <td>0.0</td>\n",
       "      <td>0.0</td>\n",
       "      <td>0.0</td>\n",
       "      <td>...</td>\n",
       "      <td>6.6</td>\n",
       "      <td>2.8</td>\n",
       "      <td>25</td>\n",
       "      <td>3.36</td>\n",
       "      <td>2.80</td>\n",
       "      <td>6.20</td>\n",
       "      <td>30.0</td>\n",
       "      <td>3.5</td>\n",
       "      <td>1.5</td>\n",
       "      <td>200</td>\n",
       "    </tr>\n",
       "    <tr>\n",
       "      <th>1</th>\n",
       "      <td>8</td>\n",
       "      <td>0.0</td>\n",
       "      <td>0.0</td>\n",
       "      <td>0.0</td>\n",
       "      <td>2.4</td>\n",
       "      <td>5.4</td>\n",
       "      <td>35.0</td>\n",
       "      <td>2.4</td>\n",
       "      <td>5.9</td>\n",
       "      <td>5.0</td>\n",
       "      <td>...</td>\n",
       "      <td>6.6</td>\n",
       "      <td>2.8</td>\n",
       "      <td>20</td>\n",
       "      <td>2.99</td>\n",
       "      <td>2.80</td>\n",
       "      <td>6.20</td>\n",
       "      <td>30.0</td>\n",
       "      <td>3.5</td>\n",
       "      <td>0.8</td>\n",
       "      <td>80</td>\n",
       "    </tr>\n",
       "    <tr>\n",
       "      <th>2</th>\n",
       "      <td>8</td>\n",
       "      <td>3.3</td>\n",
       "      <td>5.2</td>\n",
       "      <td>60.0</td>\n",
       "      <td>2.0</td>\n",
       "      <td>5.5</td>\n",
       "      <td>20.0</td>\n",
       "      <td>0.0</td>\n",
       "      <td>0.0</td>\n",
       "      <td>0.0</td>\n",
       "      <td>...</td>\n",
       "      <td>6.6</td>\n",
       "      <td>2.8</td>\n",
       "      <td>25</td>\n",
       "      <td>3.36</td>\n",
       "      <td>2.80</td>\n",
       "      <td>6.20</td>\n",
       "      <td>30.0</td>\n",
       "      <td>3.5</td>\n",
       "      <td>1.5</td>\n",
       "      <td>200</td>\n",
       "    </tr>\n",
       "    <tr>\n",
       "      <th>3</th>\n",
       "      <td>8</td>\n",
       "      <td>0.0</td>\n",
       "      <td>0.0</td>\n",
       "      <td>0.0</td>\n",
       "      <td>2.4</td>\n",
       "      <td>5.4</td>\n",
       "      <td>35.0</td>\n",
       "      <td>2.4</td>\n",
       "      <td>5.9</td>\n",
       "      <td>5.0</td>\n",
       "      <td>...</td>\n",
       "      <td>6.6</td>\n",
       "      <td>2.8</td>\n",
       "      <td>20</td>\n",
       "      <td>2.99</td>\n",
       "      <td>2.80</td>\n",
       "      <td>6.20</td>\n",
       "      <td>30.0</td>\n",
       "      <td>3.5</td>\n",
       "      <td>0.8</td>\n",
       "      <td>80</td>\n",
       "    </tr>\n",
       "    <tr>\n",
       "      <th>4</th>\n",
       "      <td>7</td>\n",
       "      <td>5.7</td>\n",
       "      <td>9.5</td>\n",
       "      <td>10.0</td>\n",
       "      <td>2.0</td>\n",
       "      <td>5.5</td>\n",
       "      <td>45.0</td>\n",
       "      <td>0.0</td>\n",
       "      <td>0.0</td>\n",
       "      <td>0.0</td>\n",
       "      <td>...</td>\n",
       "      <td>5.9</td>\n",
       "      <td>2.8</td>\n",
       "      <td>20</td>\n",
       "      <td>2.75</td>\n",
       "      <td>2.73</td>\n",
       "      <td>6.68</td>\n",
       "      <td>45.0</td>\n",
       "      <td>4.3</td>\n",
       "      <td>2.0</td>\n",
       "      <td>100</td>\n",
       "    </tr>\n",
       "  </tbody>\n",
       "</table>\n",
       "<p>5 rows × 22 columns</p>\n",
       "</div>"
      ],
      "text/plain": [
       "   Layers  lumo_1  homo_1    t1  lumo_2  homo_2    t2  lumo_3  homo_3   t3  \\\n",
       "0       8     3.3     5.2  60.0     2.0     5.5  20.0     0.0     0.0  0.0   \n",
       "1       8     0.0     0.0   0.0     2.4     5.4  35.0     2.4     5.9  5.0   \n",
       "2       8     3.3     5.2  60.0     2.0     5.5  20.0     0.0     0.0  0.0   \n",
       "3       8     0.0     0.0   0.0     2.4     5.4  35.0     2.4     5.9  5.0   \n",
       "4       7     5.7     9.5  10.0     2.0     5.5  45.0     0.0     0.0  0.0   \n",
       "\n",
       "  ...   HOMO  triplet2  thick  triplet3  lumo6  homo6    t6  wf_1   t7   t8  \n",
       "0 ...    6.6       2.8     25      3.36   2.80   6.20  30.0   3.5  1.5  200  \n",
       "1 ...    6.6       2.8     20      2.99   2.80   6.20  30.0   3.5  0.8   80  \n",
       "2 ...    6.6       2.8     25      3.36   2.80   6.20  30.0   3.5  1.5  200  \n",
       "3 ...    6.6       2.8     20      2.99   2.80   6.20  30.0   3.5  0.8   80  \n",
       "4 ...    5.9       2.8     20      2.75   2.73   6.68  45.0   4.3  2.0  100  \n",
       "\n",
       "[5 rows x 22 columns]"
      ]
     },
     "execution_count": 1,
     "metadata": {},
     "output_type": "execute_result"
    }
   ],
   "source": [
    "%matplotlib inline\n",
    "import pandas as pd\n",
    "import numpy as np\n",
    "import matplotlib.pylab as plt\n",
    "from sklearn.linear_model import LinearRegression\n",
    "from sklearn import preprocessing\n",
    "from sklearn.model_selection import train_test_split, cross_val_score\n",
    "\n",
    "# Read the data from excel using Pandas and assign features to X and efficiency to y.\n",
    "df = pd.read_excel('C:/Anaconda3/projects/oled/oled.xlsx', sheetname='Sheet3')\n",
    "df = df.fillna(value=0)\n",
    "X = df[list(df.columns)[:-1]]\n",
    "y = df[['cd/A']]\n",
    "X.head()"
   ]
  },
  {
   "cell_type": "code",
   "execution_count": 2,
   "metadata": {
    "collapsed": false
   },
   "outputs": [
    {
     "data": {
      "text/html": [
       "<div>\n",
       "<table border=\"1\" class=\"dataframe\">\n",
       "  <thead>\n",
       "    <tr style=\"text-align: right;\">\n",
       "      <th></th>\n",
       "      <th>Layers</th>\n",
       "      <th>lumo_1</th>\n",
       "      <th>homo_1</th>\n",
       "      <th>t1</th>\n",
       "      <th>lumo_2</th>\n",
       "      <th>homo_2</th>\n",
       "      <th>t2</th>\n",
       "      <th>lumo_3</th>\n",
       "      <th>homo_3</th>\n",
       "      <th>t3</th>\n",
       "      <th>...</th>\n",
       "      <th>HOMO</th>\n",
       "      <th>triplet2</th>\n",
       "      <th>thick</th>\n",
       "      <th>triplet3</th>\n",
       "      <th>lumo6</th>\n",
       "      <th>homo6</th>\n",
       "      <th>t6</th>\n",
       "      <th>wf_1</th>\n",
       "      <th>t7</th>\n",
       "      <th>t8</th>\n",
       "    </tr>\n",
       "  </thead>\n",
       "  <tbody>\n",
       "    <tr>\n",
       "      <th>99</th>\n",
       "      <td>9</td>\n",
       "      <td>5.7</td>\n",
       "      <td>9.5</td>\n",
       "      <td>10.0</td>\n",
       "      <td>2.5</td>\n",
       "      <td>5.2</td>\n",
       "      <td>10.0</td>\n",
       "      <td>2.4</td>\n",
       "      <td>5.7</td>\n",
       "      <td>5.0</td>\n",
       "      <td>...</td>\n",
       "      <td>5.75</td>\n",
       "      <td>2.96</td>\n",
       "      <td>20</td>\n",
       "      <td>2.75</td>\n",
       "      <td>2.73</td>\n",
       "      <td>6.68</td>\n",
       "      <td>50.0</td>\n",
       "      <td>4.3</td>\n",
       "      <td>1.0</td>\n",
       "      <td>120</td>\n",
       "    </tr>\n",
       "  </tbody>\n",
       "</table>\n",
       "<p>1 rows × 22 columns</p>\n",
       "</div>"
      ],
      "text/plain": [
       "    Layers  lumo_1  homo_1    t1  lumo_2  homo_2    t2  lumo_3  homo_3   t3  \\\n",
       "99       9     5.7     9.5  10.0     2.5     5.2  10.0     2.4     5.7  5.0   \n",
       "\n",
       "   ...   HOMO  triplet2  thick  triplet3  lumo6  homo6    t6  wf_1   t7   t8  \n",
       "99 ...   5.75      2.96     20      2.75   2.73   6.68  50.0   4.3  1.0  120  \n",
       "\n",
       "[1 rows x 22 columns]"
      ]
     },
     "execution_count": 2,
     "metadata": {},
     "output_type": "execute_result"
    }
   ],
   "source": [
    "X_train, X_test, y_train, y_test = train_test_split(X, y, random_state=1, test_size=0.3)\n",
    "X_train[0:1]"
   ]
  },
  {
   "cell_type": "code",
   "execution_count": 18,
   "metadata": {
    "collapsed": false
   },
   "outputs": [
    {
     "data": {
      "text/plain": [
       "array([[ 0.6       ,  0.31343284,  0.53608247,  1.        ,  0.70224719,\n",
       "         0.53608247,  0.26666667,  1.        ,  0.96721311,  0.5       ,\n",
       "         0.95238095,  0.74901961,  0.42916667,  0.74358974,  0.18181818,\n",
       "         1.        ,  0.7204611 ,  0.90666667,  0.28571429,  0.        ,\n",
       "         0.4       ,  1.        ]])"
      ]
     },
     "execution_count": 18,
     "metadata": {},
     "output_type": "execute_result"
    }
   ],
   "source": [
    "scaler = preprocessing.MinMaxScaler()\n",
    "# scaler = preprocessing.Normalizer()\n",
    "scaler.fit(X_train)\n",
    "X_train = scaler.transform(X_train)\n",
    "X_test = scaler.transform(X_test)\n",
    "X_test[0:1]"
   ]
  },
  {
   "cell_type": "code",
   "execution_count": null,
   "metadata": {
    "collapsed": false
   },
   "outputs": [],
   "source": [
    "# from sklearn.decomposition import PCA\n",
    "# pca = PCA(n_components=10)\n",
    "# pca.fit(X_train)\n",
    "# X_train = pca.transform(X_train)\n",
    "# X_test = pca.transform(X_test)\n",
    "# X_train[:1]"
   ]
  },
  {
   "cell_type": "code",
   "execution_count": 3,
   "metadata": {
    "collapsed": false
   },
   "outputs": [
    {
     "name": "stdout",
     "output_type": "stream",
     "text": [
      "R-squared:  0.650179883513\n"
     ]
    }
   ],
   "source": [
    "from sklearn.ensemble import RandomForestRegressor\n",
    "regressor = RandomForestRegressor()\n",
    "regressor.fit(X_train, y_train.values.ravel())\n",
    "y_predictions = regressor.predict(X_test)\n",
    "\n",
    "# Check how our model is doing\n",
    "print('R-squared: ', regressor.score(X_test, y_test))"
   ]
  },
  {
   "cell_type": "code",
   "execution_count": 4,
   "metadata": {
    "collapsed": false
   },
   "outputs": [
    {
     "name": "stdout",
     "output_type": "stream",
     "text": [
      "Predicted: 23.57,  Actual: [17.0]\n",
      "Predicted: 19.95,  Actual: [19.0]\n",
      "Predicted: 21.98,  Actual: [43.2]\n",
      "Predicted: 50.8487179487,  Actual: [54.666666666666664]\n",
      "Predicted: 13.9966666667,  Actual: [6.0]\n",
      "Predicted: 14.602,  Actual: [6.5]\n",
      "Predicted: 22.6822564103,  Actual: [7.37]\n",
      "Predicted: 23.25,  Actual: [22.5]\n",
      "Predicted: 22.84,  Actual: [33.9]\n",
      "Predicted: 36.0055769231,  Actual: [40.8]\n",
      "Predicted: 22.392,  Actual: [8.0]\n",
      "Predicted: 35.2,  Actual: [37.3]\n",
      "Predicted: 42.7266666667,  Actual: [36.2]\n",
      "Predicted: 19.88,  Actual: [15.9]\n",
      "Predicted: 19.79,  Actual: [18.0]\n",
      "Predicted: 56.9615384615,  Actual: [65.3076923076923]\n",
      "Predicted: 21.78,  Actual: [33.6]\n",
      "Predicted: 33.65,  Actual: [25.3]\n",
      "Predicted: 27.27,  Actual: [36.5]\n",
      "Predicted: 11.6571282051,  Actual: [6.3]\n",
      "Predicted: 10.737,  Actual: [16.01]\n",
      "Predicted: 9.83666666667,  Actual: [6.1]\n",
      "Predicted: 45.5088205128,  Actual: [34.0]\n",
      "Predicted: 15.84,  Actual: [20.8]\n",
      "Predicted: 22.392,  Actual: [12.0]\n",
      "Predicted: 20.58,  Actual: [18.6]\n",
      "Predicted: 41.41,  Actual: [49.8]\n",
      "Predicted: 36.7086666667,  Actual: [26.3]\n",
      "Predicted: 21.98,  Actual: [26.0]\n",
      "Predicted: 14.4066666667,  Actual: [10.2]\n",
      "Predicted: 26.98,  Actual: [26.076923076923077]\n",
      "Predicted: 21.0,  Actual: [22.4]\n",
      "Predicted: 23.02,  Actual: [25.6]\n",
      "Predicted: 35.3151282051,  Actual: [40.8]\n",
      "Predicted: 21.33,  Actual: [12.0]\n",
      "Predicted: 19.58,  Actual: [14.538461538461538]\n",
      "Predicted: 22.392,  Actual: [17.0]\n",
      "Predicted: 15.02,  Actual: [20.4]\n",
      "Predicted: 36.83,  Actual: [33.0]\n",
      "Predicted: 22.01,  Actual: [9.0]\n",
      "Predicted: 33.79,  Actual: [20.9]\n",
      "Predicted: 6.77166666667,  Actual: [5.9]\n",
      "Predicted: 15.55,  Actual: [24.0]\n",
      "Predicted: 24.43,  Actual: [26.2]\n",
      "Predicted: 23.3447333333,  Actual: [38.8]\n",
      "Predicted: 27.2853333333,  Actual: [14.6]\n",
      "Predicted: 8.54733333333,  Actual: [1.87]\n",
      "Predicted: 16.7916666667,  Actual: [15.0]\n",
      "Predicted: 12.7333333333,  Actual: [9.7]\n"
     ]
    }
   ],
   "source": [
    "y_test = y_test.values.tolist()\n",
    "for i, prediction in enumerate(y_predictions):\n",
    "    print('Predicted: %s,  Actual: %s' % (prediction, y_test[i]))"
   ]
  },
  {
   "cell_type": "code",
   "execution_count": 5,
   "metadata": {
    "collapsed": false
   },
   "outputs": [
    {
     "data": {
      "image/png": "[encoded data removed]",
      "text/plain": [
       "<matplotlib.figure.Figure at 0x26072dc7fd0>"
      ]
     },
     "metadata": {},
     "output_type": "display_data"
    }
   ],
   "source": [
    "plt.scatter(y_test, y_predictions)\n",
    "plt.plot([0, 100], [-0,100], 'g-', label='true line')\n",
    "plt.xlabel('true efficiency')\n",
    "plt.ylabel('predicted efficiency')\n",
    "plt.title(' comparison ')\n",
    "plt.show()"
   ]
  },
  {
   "cell_type": "code",
   "execution_count": 22,
   "metadata": {
    "collapsed": false,
    "scrolled": true
   },
   "outputs": [
    {
     "ename": "AttributeError",
     "evalue": "'RandomForestRegressor' object has no attribute 'coef_'",
     "output_type": "error",
     "traceback": [
      "\u001b[0;31m---------------------------------------------------------------------------\u001b[0m",
      "\u001b[0;31mAttributeError\u001b[0m                            Traceback (most recent call last)",
      "\u001b[0;32m<ipython-input-22-9729a0e34dba>\u001b[0m in \u001b[0;36m<module>\u001b[0;34m()\u001b[0m\n\u001b[0;32m----> 1\u001b[0;31m \u001b[0mcoefficients\u001b[0m \u001b[1;33m=\u001b[0m \u001b[0mregressor\u001b[0m\u001b[1;33m.\u001b[0m\u001b[0mcoef_\u001b[0m\u001b[1;33m\u001b[0m\u001b[0m\n\u001b[0m\u001b[1;32m      2\u001b[0m \u001b[0mcoefficients\u001b[0m \u001b[1;33m=\u001b[0m \u001b[0mcoefficients\u001b[0m\u001b[1;33m.\u001b[0m\u001b[0mtolist\u001b[0m\u001b[1;33m(\u001b[0m\u001b[1;33m)\u001b[0m\u001b[1;33m\u001b[0m\u001b[0m\n\u001b[1;32m      3\u001b[0m \u001b[0ms\u001b[0m \u001b[1;33m=\u001b[0m \u001b[0msum\u001b[0m\u001b[1;33m(\u001b[0m\u001b[0mcoefficients\u001b[0m\u001b[1;33m,\u001b[0m \u001b[1;33m[\u001b[0m\u001b[1;33m]\u001b[0m\u001b[1;33m)\u001b[0m\u001b[1;33m\u001b[0m\u001b[0m\n\u001b[1;32m      4\u001b[0m \u001b[0mnames\u001b[0m \u001b[1;33m=\u001b[0m \u001b[0mlist\u001b[0m\u001b[1;33m(\u001b[0m\u001b[0mX\u001b[0m\u001b[1;33m)\u001b[0m\u001b[1;33m\u001b[0m\u001b[0m\n\u001b[1;32m      5\u001b[0m \u001b[1;33m\u001b[0m\u001b[0m\n",
      "\u001b[0;31mAttributeError\u001b[0m: 'RandomForestRegressor' object has no attribute 'coef_'"
     ]
    }
   ],
   "source": [
    "coefficients = regressor.coef_\n",
    "coefficients = coefficients.tolist()\n",
    "s = sum(coefficients, [])\n",
    "names = list(X)\n",
    "\n",
    "fmt = '{:<8}{:<20}{}'\n",
    "print(fmt.format('', 'column', 'coef'))\n",
    "for i, (name, coef) in enumerate(zip(names, s)):\n",
    "    print(fmt.format(i, name, coef))"
   ]
  },
  {
   "cell_type": "code",
   "execution_count": null,
   "metadata": {
    "collapsed": false
   },
   "outputs": [],
   "source": [
    "y_predictions = regressor.predict(X_train)\n",
    "print(regressor.score(X_train, y_train))\n",
    "plt.scatter(y_train, y_predictions)\n",
    "plt.plot([0, 100], [-0,100], 'g-', label='true line')\n",
    "plt.xlabel('true efficiency')\n",
    "plt.ylabel('predicted efficiency')\n",
    "plt.title(' comparison ')\n",
    "plt.show()"
   ]
  },
  {
   "cell_type": "code",
   "execution_count": 6,
   "metadata": {
    "collapsed": false
   },
   "outputs": [
    {
     "name": "stdout",
     "output_type": "stream",
     "text": [
      "        column              importance\n",
      "0       Layers              0.06048610777690936\n",
      "1       lumo_1              0.018328688440246994\n",
      "2       homo_1              0.030245892083157023\n",
      "3       t1                  0.03717739115232806\n",
      "4       lumo_2              0.011806364595865801\n",
      "5       homo_2              0.009066140327513567\n",
      "6       t2                  0.10176534226325255\n",
      "7       lumo_3              0.000318437961597239\n",
      "8       homo_3              0.026348094058772187\n",
      "9       t3                  0.013440663322582938\n",
      "10      triplet1            0.0580682548094955\n",
      "11      LUMO                0.09219424465419077\n",
      "12      HOMO                0.05698368695990175\n",
      "13      triplet2            0.0738809830208775\n",
      "14      thick               0.023471671985244767\n",
      "15      triplet3            0.08755900332368322\n",
      "16      lumo6               0.03138334702418576\n",
      "17      homo6               0.03543609495889995\n",
      "18      t6                  0.08489290409521014\n",
      "19      wf_1                0.0045143627627483775\n",
      "20      t7                  0.11332287704989093\n",
      "21      t8                  0.029309447373445652\n"
     ]
    }
   ],
   "source": [
    "importance = regressor.feature_importances_.tolist()\n",
    "names = list(X)\n",
    "# sort importance tp x sort names, huh\n",
    "# importance = sorted(importance, key=abs, reverse=True)\n",
    "\n",
    "fmt = '{:<8}{:<20}{}'\n",
    "print(fmt.format('', 'column', 'importance'))\n",
    "for i, (name, coef) in enumerate(zip(names, importance)):\n",
    "    print(fmt.format(i, name, coef))\n"
   ]
  },
  {
   "cell_type": "code",
   "execution_count": 7,
   "metadata": {
    "collapsed": false
   },
   "outputs": [
    {
     "data": {
      "text/plain": [
       "([<matplotlib.axis.XTick at 0x260741ed1d0>,\n",
       "  <matplotlib.axis.XTick at 0x260741ede80>,\n",
       "  <matplotlib.axis.XTick at 0x260741e47b8>,\n",
       "  <matplotlib.axis.XTick at 0x2607429e748>,\n",
       "  <matplotlib.axis.XTick at 0x260742a3160>,\n",
       "  <matplotlib.axis.XTick at 0x260742a3b38>,\n",
       "  <matplotlib.axis.XTick at 0x260742aa550>,\n",
       "  <matplotlib.axis.XTick at 0x260742aaf28>,\n",
       "  <matplotlib.axis.XTick at 0x260742af940>,\n",
       "  <matplotlib.axis.XTick at 0x260742b6358>,\n",
       "  <matplotlib.axis.XTick at 0x260742b6d30>,\n",
       "  <matplotlib.axis.XTick at 0x260742bc748>,\n",
       "  <matplotlib.axis.XTick at 0x26072dc77f0>,\n",
       "  <matplotlib.axis.XTick at 0x26073080e48>,\n",
       "  <matplotlib.axis.XTick at 0x260742c3320>,\n",
       "  <matplotlib.axis.XTick at 0x260742c3cf8>,\n",
       "  <matplotlib.axis.XTick at 0x260742ca710>,\n",
       "  <matplotlib.axis.XTick at 0x260742d0128>,\n",
       "  <matplotlib.axis.XTick at 0x2607303afd0>,\n",
       "  <matplotlib.axis.XTick at 0x2607303a390>,\n",
       "  <matplotlib.axis.XTick at 0x260730a9518>,\n",
       "  <matplotlib.axis.XTick at 0x260730adcf8>],\n",
       " <a list of 22 Text xticklabel objects>)"
      ]
     },
     "execution_count": 7,
     "metadata": {},
     "output_type": "execute_result"
    },
    {
     "data": {
      "image/png": "[encoded data removed]",
      "text/plain": [
       "<matplotlib.figure.Figure at 0x26073054748>"
      ]
     },
     "metadata": {},
     "output_type": "display_data"
    }
   ],
   "source": [
    "x = np.arange(22)\n",
    "plt.bar(x, importance)\n",
    "plt.xticks(x, names, rotation=90)"
   ]
  }
 ],
 "metadata": {
  "kernelspec": {
   "display_name": "Python 3",
   "language": "python",
   "name": "python3"
  },
  "language_info": {
   "codemirror_mode": {
    "name": "ipython",
    "version": 3
   },
   "file_extension": ".py",
   "mimetype": "text/x-python",
   "name": "python",
   "nbconvert_exporter": "python",
   "pygments_lexer": "ipython3",
   "version": "3.6.0"
  }
 },
 "nbformat": 4,
 "nbformat_minor": 2
}
