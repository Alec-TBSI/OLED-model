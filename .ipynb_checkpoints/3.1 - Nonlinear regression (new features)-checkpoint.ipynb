{
 "cells": [
  {
   "cell_type": "code",
   "execution_count": null,
   "metadata": {
    "collapsed": true
   },
   "outputs": [],
   "source": [
    "# import libraries\n",
    "import pandas as pd\n",
    "import matplotlib.pylab as plt\n",
    "from sklearn.linear_model import LinearRegression, Ridge, Lasso\n",
    "from sklearn import preprocessing\n",
    "from sklearn.model_selection import cross_val_score, KFold\n",
    "from sklearn.neighbors import KNeighborsRegressor\n",
    "from sklearn.tree import DecisionTreeRegressor\n",
    "from sklearn.svm import SVR\n",
    "from sklearn.ensemble import RandomForestRegressor, GradientBoostingRegressor\n",
    "from sklearn.metrics import mean_squared_error\n",
    "%matplotlib inline"
   ]
  },
  {
   "cell_type": "code",
   "execution_count": null,
   "metadata": {
    "collapsed": false
   },
   "outputs": [],
   "source": [
    "# Read the data from excel using Pandas and assign features to X and efficiency to y.\n",
    "df = pd.read_excel('C:/Anaconda3/projects/oled/oled.xlsx', sheetname='extend_side')\n",
    "df.dropna(axis=0, inplace=True)\n",
    "\n",
    "X = df[list(df.columns)[1:-2]]\n",
    "y = df[['cd/A']]\n",
    "\n",
    "# preprocessing/scaling data/ standardization\n",
    "X = preprocessing.minmax_scale(X)\n",
    "y = preprocessing.minmax_scale(y)"
   ]
  },
  {
   "cell_type": "code",
   "execution_count": null,
   "metadata": {
    "collapsed": false
   },
   "outputs": [],
   "source": [
    "# prepare models. here I used the model right away using the default parameter\n",
    "regressor = []\n",
    "# regressor.append(('LR', LinearRegression(fit_intercept=True, normalize=False, copy_X=True, n_jobs=-1)))\n",
    "regressor.append(('LASS', Lasso(alpha=0.01)))\n",
    "regressor.append(('RIDG', Ridge(fit_intercept=True, alpha=0.1)))\n",
    "regressor.append(('GRB', GradientBoostingRegressor()))\n",
    "regressor.append(('SVR', SVR(kernel='rbf')))\n",
    "regressor.append(('KNN', KNeighborsRegressor()))\n",
    "regressor.append(('DTR', DecisionTreeRegressor()))\n",
    "regressor.append(('RFR', RandomForestRegressor()))\n",
    "\n",
    "# evaluate each model in turn\n",
    "results = []\n",
    "names = []\n",
    "\n",
    "# Calculate the r-squared for every algorithm (mean score of cross validated data)\n",
    "for name, reg in regressor:\n",
    "    kfold = KFold(n_splits=4, random_state=27)\n",
    "    cv_results = cross_val_score(reg, X, y, cv=kfold)\n",
    "    results.append(cv_results)\n",
    "    names.append(name)\n",
    "    msg = \"%s: %f (%f)\" % (name, cv_results.mean(), cv_results.std())\n",
    "    print(msg)"
   ]
  },
  {
   "cell_type": "code",
   "execution_count": 8,
   "metadata": {
    "collapsed": false
   },
   "outputs": [
    {
     "data": {
      "image/png": "[encoded data removed]",
      "text/plain": [
       "<matplotlib.figure.Figure at 0x2bd44a4e550>"
      ]
     },
     "metadata": {},
     "output_type": "display_data"
    }
   ],
   "source": [
    "# boxplot algorithm comparison\n",
    "fig = plt.figure()\n",
    "fig.suptitle('Algorithm Comparison')\n",
    "ax = fig.add_subplot(111)\n",
    "plt.boxplot(results)\n",
    "ax.set_xticklabels(names)\n",
    "plt.show()"
   ]
  }
 ],
 "metadata": {
  "kernelspec": {
   "display_name": "Python [default]",
   "language": "python",
   "name": "python3"
  },
  "language_info": {
   "codemirror_mode": {
    "name": "ipython",
    "version": 3
   },
   "file_extension": ".py",
   "mimetype": "text/x-python",
   "name": "python",
   "nbconvert_exporter": "python",
   "pygments_lexer": "ipython3",
   "version": "3.6.0"
  }
 },
 "nbformat": 4,
 "nbformat_minor": 2
}
